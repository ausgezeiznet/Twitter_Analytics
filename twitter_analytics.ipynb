{
 "cells": [
  {
   "cell_type": "code",
   "execution_count": 1,
   "metadata": {},
   "outputs": [],
   "source": [
    "import json\n",
    "import pandas as pd\n",
    "import matplotlib.pyplot as plt\n",
    "import tweepy\n",
    "\n",
    "from tweepy.streaming import StreamListener\n",
    "from tweepy import OAuthHandler\n",
    "from tweepy import Stream\n",
    "\n",
    "from tweepy import API\n",
    "from tweepy import Cursor\n",
    "from datetime import datetime, date, time, timedelta\n",
    "from collections import Counter\n",
    "import sys\n",
    "\n",
    "access_token = \"1000996991860527105-QFYZ9XqSNaMWs6rJNRtujOrzn1KBxi\"\n",
    "access_token_secret = \"MbR7g7I6r3uPIJoGuOYQlhej5TgZGfB2jJ9l0aGejXfdf\"\n",
    "consumer_key = \"ZpYly1EpybyM0wBVdFiulvxEh\"\n",
    "consumer_secret = \"kE0a9yq13tchDYkq9WLJ2AnnPMmYnfkRufYxhPoyTDGIDYgLJM\""
   ]
  },
  {
   "cell_type": "code",
   "execution_count": 2,
   "metadata": {},
   "outputs": [],
   "source": [
    "auth = OAuthHandler(consumer_key,consumer_secret)\n",
    "auth.set_access_token(access_token,access_token_secret)\n",
    "\n",
    "api = tweepy.API(auth,wait_on_rate_limit=True)"
   ]
  },
  {
   "cell_type": "code",
   "execution_count": null,
   "metadata": {
    "scrolled": true
   },
   "outputs": [],
   "source": [
    "for status in tweepy.Cursor(api.home_timeline).items(20):\n",
    "    print(status.text)"
   ]
  },
  {
   "cell_type": "code",
   "execution_count": null,
   "metadata": {},
   "outputs": [],
   "source": [
    "for status in tweepy.Cursor(api.home_timeline).items(10):\n",
    "    print(status._json) "
   ]
  },
  {
   "cell_type": "code",
   "execution_count": null,
   "metadata": {},
   "outputs": [],
   "source": [
    "for friend in tweepy.Cursor(api.friends).items():\n",
    "    print(friend._json)"
   ]
  },
  {
   "cell_type": "code",
   "execution_count": 6,
   "metadata": {
    "scrolled": true
   },
   "outputs": [
    {
     "name": "stdout",
     "output_type": "stream",
     "text": [
      "{\"created_at\":\"Mon Apr 13 08:28:36 +0000 2020\",\"id\":1249615456979374080,\"id_str\":\"1249615456979374080\",\"text\":\"RT @RoseAnnDeMoro: So, #Bernie2020 is in second place due to dirty tricks, enormous superpacs, etc \\n\\nThen they asked Bernie to stop and sup\\u2026\",\"source\":\"\\u003ca href=\\\"http:\\/\\/twitter.com\\/download\\/android\\\" rel=\\\"nofollow\\\"\\u003eTwitter for Android\\u003c\\/a\\u003e\",\"truncated\":false,\"in_reply_to_status_id\":null,\"in_reply_to_status_id_str\":null,\"in_reply_to_user_id\":null,\"in_reply_to_user_id_str\":null,\"in_reply_to_screen_name\":null,\"user\":{\"id\":69434692,\"id_str\":\"69434692\",\"name\":\"Gemini_Girl \\u264a \\ud83c\\udf39\",\"screen_name\":\"dreamlover_09\",\"location\":\"USA\",\"url\":null,\"description\":\"college grad student, philosopher, anti-establishment #Bernie2020\\n\\n\\ud83c\\udf39\\ud83d\\udcaa Intrigue me \\ud83c\\udf39\\ud83d\\udcaa\",\"translator_type\":\"none\",\"protected\":false,\"verified\":false,\"followers_count\":262,\"friends_count\":373,\"listed_count\":3,\"favourites_count\":43171,\"statuses_count\":53155,\"created_at\":\"Thu Aug 27 23:10:54 +0000 2009\",\"utc_offset\":null,\"time_zone\":null,\"geo_enabled\":true,\"lang\":null,\"contributors_enabled\":false,\"is_translator\":false,\"profile_background_color\":\"C6E2EE\",\"profile_background_image_url\":\"http:\\/\\/abs.twimg.com\\/images\\/themes\\/theme2\\/bg.gif\",\"profile_background_image_url_https\":\"https:\\/\\/abs.twimg.com\\/images\\/themes\\/theme2\\/bg.gif\",\"profile_background_tile\":false,\"profile_link_color\":\"1F98C7\",\"profile_sidebar_border_color\":\"C6E2EE\",\"profile_sidebar_fill_color\":\"DAECF4\",\"profile_text_color\":\"663B12\",\"profile_use_background_image\":true,\"profile_image_url\":\"http:\\/\\/pbs.twimg.com\\/profile_images\\/1213277280971046912\\/7cfUHNXS_normal.jpg\",\"profile_image_url_https\":\"https:\\/\\/pbs.twimg.com\\/profile_images\\/1213277280971046912\\/7cfUHNXS_normal.jpg\",\"profile_banner_url\":\"https:\\/\\/pbs.twimg.com\\/profile_banners\\/69434692\\/1517093940\",\"default_profile\":false,\"default_profile_image\":false,\"following\":null,\"follow_request_sent\":null,\"notifications\":null},\"geo\":null,\"coordinates\":null,\"place\":null,\"contributors\":null,\"retweeted_status\":{\"created_at\":\"Mon Apr 13 04:12:38 +0000 2020\",\"id\":1249551040023654401,\"id_str\":\"1249551040023654401\",\"text\":\"So, #Bernie2020 is in second place due to dirty tricks, enormous superpacs, etc \\n\\nThen they asked Bernie to stop an\\u2026 https:\\/\\/t.co\\/zbJDzX5lUd\",\"source\":\"\\u003ca href=\\\"http:\\/\\/twitter.com\\/#!\\/download\\/ipad\\\" rel=\\\"nofollow\\\"\\u003eTwitter for iPad\\u003c\\/a\\u003e\",\"truncated\":true,\"in_reply_to_status_id\":null,\"in_reply_to_status_id_str\":null,\"in_reply_to_user_id\":null,\"in_reply_to_user_id_str\":null,\"in_reply_to_screen_name\":null,\"user\":{\"id\":573842268,\"id_str\":\"573842268\",\"name\":\"RoseAnn DeMoro\",\"screen_name\":\"RoseAnnDeMoro\",\"location\":null,\"url\":null,\"description\":\"Social Change and Labor Activist for Life. Gone to the Revolution! #MedicareForAll #SinglePayer #S1804. http:\\/\\/OrganizingForBernie.Com\",\"translator_type\":\"none\",\"protected\":false,\"verified\":true,\"followers_count\":60651,\"friends_count\":1679,\"listed_count\":776,\"favourites_count\":43393,\"statuses_count\":16843,\"created_at\":\"Mon May 07 16:07:44 +0000 2012\",\"utc_offset\":null,\"time_zone\":null,\"geo_enabled\":true,\"lang\":null,\"contributors_enabled\":false,\"is_translator\":false,\"profile_background_color\":\"000000\",\"profile_background_image_url\":\"http:\\/\\/abs.twimg.com\\/images\\/themes\\/theme1\\/bg.png\",\"profile_background_image_url_https\":\"https:\\/\\/abs.twimg.com\\/images\\/themes\\/theme1\\/bg.png\",\"profile_background_tile\":false,\"profile_link_color\":\"1B95E0\",\"profile_sidebar_border_color\":\"000000\",\"profile_sidebar_fill_color\":\"000000\",\"profile_text_color\":\"000000\",\"profile_use_background_image\":false,\"profile_image_url\":\"http:\\/\\/pbs.twimg.com\\/profile_images\\/971070989931986944\\/PKX5Pa7t_normal.jpg\",\"profile_image_url_https\":\"https:\\/\\/pbs.twimg.com\\/profile_images\\/971070989931986944\\/PKX5Pa7t_normal.jpg\",\"profile_banner_url\":\"https:\\/\\/pbs.twimg.com\\/profile_banners\\/573842268\\/1520355791\",\"default_profile\":false,\"default_profile_image\":false,\"following\":null,\"follow_request_sent\":null,\"notifications\":null},\"geo\":null,\"coordinates\":null,\"place\":null,\"contributors\":null,\"is_quote_status\":false,\"extended_tweet\":{\"full_text\":\"So, #Bernie2020 is in second place due to dirty tricks, enormous superpacs, etc \\n\\nThen they asked Bernie to stop and support.\\n\\nI am curious why the \\u201cdeal\\u201d that they offered was not for Bernie to be the VP.\\n\\nJust asking.\\n\\nAnd don\\u2019t bother talking to me about sell out women as VP\",\"display_text_range\":[0,278],\"entities\":{\"hashtags\":[{\"text\":\"Bernie2020\",\"indices\":[4,15]}],\"urls\":[],\"user_mentions\":[],\"symbols\":[]}},\"quote_count\":6,\"reply_count\":29,\"retweet_count\":84,\"favorite_count\":335,\"entities\":{\"hashtags\":[{\"text\":\"Bernie2020\",\"indices\":[4,15]}],\"urls\":[{\"url\":\"https:\\/\\/t.co\\/zbJDzX5lUd\",\"expanded_url\":\"https:\\/\\/twitter.com\\/i\\/web\\/status\\/1249551040023654401\",\"display_url\":\"twitter.com\\/i\\/web\\/status\\/1\\u2026\",\"indices\":[117,140]}],\"user_mentions\":[],\"symbols\":[]},\"favorited\":false,\"retweeted\":false,\"filter_level\":\"low\",\"lang\":\"en\"},\"is_quote_status\":false,\"quote_count\":0,\"reply_count\":0,\"retweet_count\":0,\"favorite_count\":0,\"entities\":{\"hashtags\":[{\"text\":\"Bernie2020\",\"indices\":[23,34]}],\"urls\":[],\"user_mentions\":[{\"screen_name\":\"RoseAnnDeMoro\",\"name\":\"RoseAnn DeMoro\",\"id\":573842268,\"id_str\":\"573842268\",\"indices\":[3,17]}],\"symbols\":[]},\"favorited\":false,\"retweeted\":false,\"filter_level\":\"low\",\"lang\":\"en\",\"timestamp_ms\":\"1586766516333\"}\n",
      "\n",
      "{\"created_at\":\"Mon Apr 13 08:35:27 +0000 2020\",\"id\":1249617182671212544,\"id_str\":\"1249617182671212544\",\"text\":\"RT @YourWJB: @KyleKulinski Bernie is still on the ballot.  Fight for every damn delegate. He isn't campaigning but he is still in the race.\\u2026\",\"source\":\"\\u003ca href=\\\"http:\\/\\/twitter.com\\/download\\/android\\\" rel=\\\"nofollow\\\"\\u003eTwitter for Android\\u003c\\/a\\u003e\",\"truncated\":false,\"in_reply_to_status_id\":null,\"in_reply_to_status_id_str\":null,\"in_reply_to_user_id\":null,\"in_reply_to_user_id_str\":null,\"in_reply_to_screen_name\":null,\"user\":{\"id\":405832278,\"id_str\":\"405832278\",\"name\":\"BIDEN TRIED TO CUT #SS\",\"screen_name\":\"KeelingCurve_9\",\"location\":\"Gaia \",\"url\":null,\"description\":\"Anthropogenic #ClimateChange deniers & other idiots get blocked. Smart people with useful, evidence-backed info may be followed.\\n\\n#BernieSanders #GreenNewDeal\",\"translator_type\":\"none\",\"protected\":false,\"verified\":false,\"followers_count\":1693,\"friends_count\":2502,\"listed_count\":111,\"favourites_count\":134411,\"statuses_count\":189415,\"created_at\":\"Sat Nov 05 21:28:08 +0000 2011\",\"utc_offset\":null,\"time_zone\":null,\"geo_enabled\":false,\"lang\":null,\"contributors_enabled\":false,\"is_translator\":false,\"profile_background_color\":\"C0DEED\",\"profile_background_image_url\":\"http:\\/\\/abs.twimg.com\\/images\\/themes\\/theme1\\/bg.png\",\"profile_background_image_url_https\":\"https:\\/\\/abs.twimg.com\\/images\\/themes\\/theme1\\/bg.png\",\"profile_background_tile\":false,\"profile_link_color\":\"1DA1F2\",\"profile_sidebar_border_color\":\"C0DEED\",\"profile_sidebar_fill_color\":\"DDEEF6\",\"profile_text_color\":\"333333\",\"profile_use_background_image\":true,\"profile_image_url\":\"http:\\/\\/pbs.twimg.com\\/profile_images\\/416724870571900928\\/B4GU3xex_normal.jpeg\",\"profile_image_url_https\":\"https:\\/\\/pbs.twimg.com\\/profile_images\\/416724870571900928\\/B4GU3xex_normal.jpeg\",\"profile_banner_url\":\"https:\\/\\/pbs.twimg.com\\/profile_banners\\/405832278\\/1581173304\",\"default_profile\":true,\"default_profile_image\":false,\"following\":null,\"follow_request_sent\":null,\"notifications\":null},\"geo\":null,\"coordinates\":null,\"place\":null,\"contributors\":null,\"retweeted_status\":{\"created_at\":\"Wed Apr 08 16:36:53 +0000 2020\",\"id\":1247926398561501189,\"id_str\":\"1247926398561501189\",\"text\":\"@KyleKulinski Bernie is still on the ballot.  Fight for every damn delegate. He isn't campaigning but he is still i\\u2026 https:\\/\\/t.co\\/QKESCViJqn\",\"display_text_range\":[14,140],\"source\":\"\\u003ca href=\\\"http:\\/\\/twitter.com\\/download\\/android\\\" rel=\\\"nofollow\\\"\\u003eTwitter for Android\\u003c\\/a\\u003e\",\"truncated\":true,\"in_reply_to_status_id\":1247913600712392706,\"in_reply_to_status_id_str\":\"1247913600712392706\",\"in_reply_to_user_id\":143104075,\"in_reply_to_user_id_str\":\"143104075\",\"in_reply_to_screen_name\":\"KyleKulinski\",\"user\":{\"id\":1207322494174203904,\"id_str\":\"1207322494174203904\",\"name\":\"William Bishop\",\"screen_name\":\"YourWJB\",\"location\":\"Virginia, USA\",\"url\":null,\"description\":\"Freedom and equality for all.  Democratic Eco-Socialist.\\n\\nOF THE PEOPLE, BY THE PEOPLE, FOR THE PEOPLE\",\"translator_type\":\"none\",\"protected\":false,\"verified\":false,\"followers_count\":634,\"friends_count\":2083,\"listed_count\":1,\"favourites_count\":13014,\"statuses_count\":9277,\"created_at\":\"Wed Dec 18 15:31:35 +0000 2019\",\"utc_offset\":null,\"time_zone\":null,\"geo_enabled\":false,\"lang\":null,\"contributors_enabled\":false,\"is_translator\":false,\"profile_background_color\":\"F5F8FA\",\"profile_background_image_url\":\"\",\"profile_background_image_url_https\":\"\",\"profile_background_tile\":false,\"profile_link_color\":\"1DA1F2\",\"profile_sidebar_border_color\":\"C0DEED\",\"profile_sidebar_fill_color\":\"DDEEF6\",\"profile_text_color\":\"333333\",\"profile_use_background_image\":true,\"profile_image_url\":\"http:\\/\\/pbs.twimg.com\\/profile_images\\/1233432442763202562\\/xNC5aV8s_normal.jpg\",\"profile_image_url_https\":\"https:\\/\\/pbs.twimg.com\\/profile_images\\/1233432442763202562\\/xNC5aV8s_normal.jpg\",\"profile_banner_url\":\"https:\\/\\/pbs.twimg.com\\/profile_banners\\/1207322494174203904\\/1582908597\",\"default_profile\":true,\"default_profile_image\":false,\"following\":null,\"follow_request_sent\":null,\"notifications\":null},\"geo\":null,\"coordinates\":null,\"place\":null,\"contributors\":null,\"is_quote_status\":false,\"extended_tweet\":{\"full_text\":\"@KyleKulinski Bernie is still on the ballot.  Fight for every damn delegate. He isn't campaigning but he is still in the race. \\n\\nSo we will campaign for him.\\n\\nThe people. \\n\\nWe're the ultimate superPAC.\\n\\n#Bernie2020\\n#NotMeUs\\n#OurRevolution\\n#FightForDelegates\\n#PeoplesCampaign\\n#KeepFighting\",\"display_text_range\":[14,288],\"entities\":{\"hashtags\":[{\"text\":\"Bernie2020\",\"indices\":[203,214]},{\"text\":\"NotMeUs\",\"indices\":[215,223]},{\"text\":\"OurRevolution\",\"indices\":[224,238]},{\"text\":\"FightForDelegates\",\"indices\":[239,257]},{\"text\":\"PeoplesCampaign\",\"indices\":[258,274]},{\"text\":\"KeepFighting\",\"indices\":[275,288]}],\"urls\":[],\"user_mentions\":[{\"screen_name\":\"KyleKulinski\",\"name\":\"Secular Talk\",\"id\":143104075,\"id_str\":\"143104075\",\"indices\":[0,13]}],\"symbols\":[]}},\"quote_count\":0,\"reply_count\":1,\"retweet_count\":2,\"favorite_count\":9,\"entities\":{\"hashtags\":[],\"urls\":[{\"url\":\"https:\\/\\/t.co\\/QKESCViJqn\",\"expanded_url\":\"https:\\/\\/twitter.com\\/i\\/web\\/status\\/1247926398561501189\",\"display_url\":\"twitter.com\\/i\\/web\\/status\\/1\\u2026\",\"indices\":[117,140]}],\"user_mentions\":[{\"screen_name\":\"KyleKulinski\",\"name\":\"Secular Talk\",\"id\":143104075,\"id_str\":\"143104075\",\"indices\":[0,13]}],\"symbols\":[]},\"favorited\":false,\"retweeted\":false,\"filter_level\":\"low\",\"lang\":\"en\"},\"is_quote_status\":false,\"quote_count\":0,\"reply_count\":0,\"retweet_count\":0,\"favorite_count\":0,\"entities\":{\"hashtags\":[],\"urls\":[],\"user_mentions\":[{\"screen_name\":\"YourWJB\",\"name\":\"William Bishop\",\"id\":1207322494174203904,\"id_str\":\"1207322494174203904\",\"indices\":[3,11]},{\"screen_name\":\"KyleKulinski\",\"name\":\"Secular Talk\",\"id\":143104075,\"id_str\":\"143104075\",\"indices\":[13,26]}],\"symbols\":[]},\"favorited\":false,\"retweeted\":false,\"filter_level\":\"low\",\"lang\":\"en\",\"timestamp_ms\":\"1586766927770\"}\n",
      "\n"
     ]
    },
    {
     "name": "stdout",
     "output_type": "stream",
     "text": [
      "{\"created_at\":\"Mon Apr 13 08:35:35 +0000 2020\",\"id\":1249617215596515328,\"id_str\":\"1249617215596515328\",\"text\":\"RT @Map4latte: Hey #BernieOnTheBallot guys theres an awesome person named @RashidaTlaib who needs help with her primary race in #MI13.  I'm\\u2026\",\"source\":\"\\u003ca href=\\\"http:\\/\\/twitter.com\\/download\\/android\\\" rel=\\\"nofollow\\\"\\u003eTwitter for Android\\u003c\\/a\\u003e\",\"truncated\":false,\"in_reply_to_status_id\":null,\"in_reply_to_status_id_str\":null,\"in_reply_to_user_id\":null,\"in_reply_to_user_id_str\":null,\"in_reply_to_screen_name\":null,\"user\":{\"id\":1176101159938985984,\"id_str\":\"1176101159938985984\",\"name\":\"A movement, not just a Campaign #notmeus\",\"screen_name\":\"whattimeline\",\"location\":null,\"url\":null,\"description\":\"Dear Berners \\u2764\\nPlease Read this: https:\\/\\/www.reddit.com\\/r\\/BlackPeopleTwitter\\/comments\\/fxvlrw\\/how_the_fuck_can_you_support_bernie_and_think\\/fmwyq9b?utm_source=sh\",\"translator_type\":\"none\",\"protected\":false,\"verified\":false,\"followers_count\":137,\"friends_count\":450,\"listed_count\":1,\"favourites_count\":15020,\"statuses_count\":8902,\"created_at\":\"Mon Sep 23 11:49:10 +0000 2019\",\"utc_offset\":null,\"time_zone\":null,\"geo_enabled\":false,\"lang\":null,\"contributors_enabled\":false,\"is_translator\":false,\"profile_background_color\":\"F5F8FA\",\"profile_background_image_url\":\"\",\"profile_background_image_url_https\":\"\",\"profile_background_tile\":false,\"profile_link_color\":\"1DA1F2\",\"profile_sidebar_border_color\":\"C0DEED\",\"profile_sidebar_fill_color\":\"DDEEF6\",\"profile_text_color\":\"333333\",\"profile_use_background_image\":true,\"profile_image_url\":\"http:\\/\\/pbs.twimg.com\\/profile_images\\/1248363733971357696\\/236MCmBA_normal.jpg\",\"profile_image_url_https\":\"https:\\/\\/pbs.twimg.com\\/profile_images\\/1248363733971357696\\/236MCmBA_normal.jpg\",\"profile_banner_url\":\"https:\\/\\/pbs.twimg.com\\/profile_banners\\/1176101159938985984\\/1586597870\",\"default_profile\":true,\"default_profile_image\":false,\"following\":null,\"follow_request_sent\":null,\"notifications\":null},\"geo\":null,\"coordinates\":null,\"place\":null,\"contributors\":null,\"retweeted_status\":{\"created_at\":\"Mon Apr 13 06:14:42 +0000 2020\",\"id\":1249581761744367616,\"id_str\":\"1249581761744367616\",\"text\":\"Hey #BernieOnTheBallot guys theres an awesome person named @RashidaTlaib who needs help with her primary race in\\u2026 https:\\/\\/t.co\\/3Q1pzUREdT\",\"source\":\"\\u003ca href=\\\"http:\\/\\/twitter.com\\/download\\/android\\\" rel=\\\"nofollow\\\"\\u003eTwitter for Android\\u003c\\/a\\u003e\",\"truncated\":true,\"in_reply_to_status_id\":null,\"in_reply_to_status_id_str\":null,\"in_reply_to_user_id\":null,\"in_reply_to_user_id_str\":null,\"in_reply_to_screen_name\":null,\"user\":{\"id\":2860332634,\"id_str\":\"2860332634\",\"name\":\"Archer 2.0\\ud83c\\udf39\\ud83c\\udf32\",\"screen_name\":\"Map4latte\",\"location\":\"Washington, USA\",\"url\":null,\"description\":\"Washington Millennial and proud progressive.   I'm also a GIS mapper. #Bernie2020 #NotMeUs\",\"translator_type\":\"none\",\"protected\":false,\"verified\":false,\"followers_count\":1488,\"friends_count\":1295,\"listed_count\":7,\"favourites_count\":23151,\"statuses_count\":18062,\"created_at\":\"Tue Nov 04 10:25:19 +0000 2014\",\"utc_offset\":null,\"time_zone\":null,\"geo_enabled\":false,\"lang\":null,\"contributors_enabled\":false,\"is_translator\":false,\"profile_background_color\":\"C0DEED\",\"profile_background_image_url\":\"http:\\/\\/abs.twimg.com\\/images\\/themes\\/theme1\\/bg.png\",\"profile_background_image_url_https\":\"https:\\/\\/abs.twimg.com\\/images\\/themes\\/theme1\\/bg.png\",\"profile_background_tile\":false,\"profile_link_color\":\"1DA1F2\",\"profile_sidebar_border_color\":\"C0DEED\",\"profile_sidebar_fill_color\":\"DDEEF6\",\"profile_text_color\":\"333333\",\"profile_use_background_image\":true,\"profile_image_url\":\"http:\\/\\/pbs.twimg.com\\/profile_images\\/1202843799912714240\\/a3QBGCiO_normal.jpg\",\"profile_image_url_https\":\"https:\\/\\/pbs.twimg.com\\/profile_images\\/1202843799912714240\\/a3QBGCiO_normal.jpg\",\"profile_banner_url\":\"https:\\/\\/pbs.twimg.com\\/profile_banners\\/2860332634\\/1571557904\",\"default_profile\":true,\"default_profile_image\":false,\"following\":null,\"follow_request_sent\":null,\"notifications\":null},\"geo\":null,\"coordinates\":null,\"place\":null,\"contributors\":null,\"quoted_status_id\":1249572018284113920,\"quoted_status_id_str\":\"1249572018284113920\",\"quoted_status\":{\"created_at\":\"Mon Apr 13 05:35:59 +0000 2020\",\"id\":1249572018284113920,\"id_str\":\"1249572018284113920\",\"text\":\"#MI13 Democratic Primary:\\nRashida Tlaib 43%\\nBrenda Jones 34%\\n\\nTarget-Insyght 3\\/31-4\\/2\\nhttps:\\/\\/t.co\\/2ndAqblwbY\",\"source\":\"\\u003ca href=\\\"https:\\/\\/mobile.twitter.com\\\" rel=\\\"nofollow\\\"\\u003eTwitter Web App\\u003c\\/a\\u003e\",\"truncated\":false,\"in_reply_to_status_id\":null,\"in_reply_to_status_id_str\":null,\"in_reply_to_user_id\":null,\"in_reply_to_user_id_str\":null,\"in_reply_to_screen_name\":null,\"user\":{\"id\":1903105045,\"id_str\":\"1903105045\",\"name\":\"Political Polls\",\"screen_name\":\"Politics_Polls\",\"location\":null,\"url\":null,\"description\":\"Job approval, primary, general election & much more.\",\"translator_type\":\"none\",\"protected\":false,\"verified\":false,\"followers_count\":87061,\"friends_count\":240,\"listed_count\":1039,\"favourites_count\":2083,\"statuses_count\":23097,\"created_at\":\"Wed Sep 25 06:22:22 +0000 2013\",\"utc_offset\":null,\"time_zone\":null,\"geo_enabled\":false,\"lang\":null,\"contributors_enabled\":false,\"is_translator\":false,\"profile_background_color\":\"C0DEED\",\"profile_background_image_url\":\"http:\\/\\/abs.twimg.com\\/images\\/themes\\/theme1\\/bg.png\",\"profile_background_image_url_https\":\"https:\\/\\/abs.twimg.com\\/images\\/themes\\/theme1\\/bg.png\",\"profile_background_tile\":false,\"profile_link_color\":\"1DA1F2\",\"profile_sidebar_border_color\":\"C0DEED\",\"profile_sidebar_fill_color\":\"DDEEF6\",\"profile_text_color\":\"333333\",\"profile_use_background_image\":true,\"profile_image_url\":\"http:\\/\\/pbs.twimg.com\\/profile_images\\/879203541289717760\\/qw0an2wG_normal.jpg\",\"profile_image_url_https\":\"https:\\/\\/pbs.twimg.com\\/profile_images\\/879203541289717760\\/qw0an2wG_normal.jpg\",\"profile_banner_url\":\"https:\\/\\/pbs.twimg.com\\/profile_banners\\/1903105045\\/1498455589\",\"default_profile\":true,\"default_profile_image\":false,\"following\":null,\"follow_request_sent\":null,\"notifications\":null},\"geo\":null,\"coordinates\":null,\"place\":null,\"contributors\":null,\"is_quote_status\":false,\"quote_count\":35,\"reply_count\":38,\"retweet_count\":71,\"favorite_count\":465,\"entities\":{\"hashtags\":[{\"text\":\"MI13\",\"indices\":[0,5]}],\"urls\":[{\"url\":\"https:\\/\\/t.co\\/2ndAqblwbY\",\"expanded_url\":\"https:\\/\\/jewishinsider.com\\/2020\\/04\\/detroit-city-council-president-brenda-jones-narrows-gap-with-rashida-tlaib-in-new-mi-13-poll\\/\",\"display_url\":\"jewishinsider.com\\/2020\\/04\\/detroi\\u2026\",\"indices\":[86,109]}],\"user_mentions\":[],\"symbols\":[]},\"favorited\":false,\"retweeted\":false,\"possibly_sensitive\":false,\"filter_level\":\"low\",\"lang\":\"in\"},\"quoted_status_permalink\":{\"url\":\"https:\\/\\/t.co\\/3lR3qMC5CQ\",\"expanded\":\"https:\\/\\/twitter.com\\/Politics_Polls\\/status\\/1249572018284113920\",\"display\":\"twitter.com\\/Politics_Polls\\u2026\"},\"is_quote_status\":true,\"extended_tweet\":{\"full_text\":\"Hey #BernieOnTheBallot guys theres an awesome person named @RashidaTlaib who needs help with her primary race in #MI13.  I'm throwing her a few bucks and you should too #Bernie2020 #NotMeUs\",\"display_text_range\":[0,189],\"entities\":{\"hashtags\":[{\"text\":\"BernieOnTheBallot\",\"indices\":[4,22]},{\"text\":\"MI13\",\"indices\":[113,118]},{\"text\":\"Bernie2020\",\"indices\":[169,180]},{\"text\":\"NotMeUs\",\"indices\":[181,189]}],\"urls\":[],\"user_mentions\":[{\"screen_name\":\"RashidaTlaib\",\"name\":\"Rashida Tlaib\",\"id\":435331179,\"id_str\":\"435331179\",\"indices\":[59,72]}],\"symbols\":[]}},\"quote_count\":0,\"reply_count\":0,\"retweet_count\":2,\"favorite_count\":8,\"entities\":{\"hashtags\":[{\"text\":\"BernieOnTheBallot\",\"indices\":[4,22]}],\"urls\":[{\"url\":\"https:\\/\\/t.co\\/3Q1pzUREdT\",\"expanded_url\":\"https:\\/\\/twitter.com\\/i\\/web\\/status\\/1249581761744367616\",\"display_url\":\"twitter.com\\/i\\/web\\/status\\/1\\u2026\",\"indices\":[114,137]}],\"user_mentions\":[{\"screen_name\":\"RashidaTlaib\",\"name\":\"Rashida Tlaib\",\"id\":435331179,\"id_str\":\"435331179\",\"indices\":[59,72]}],\"symbols\":[]},\"favorited\":false,\"retweeted\":false,\"filter_level\":\"low\",\"lang\":\"en\"},\"quoted_status_id\":1249572018284113920,\"quoted_status_id_str\":\"1249572018284113920\",\"quoted_status\":{\"created_at\":\"Mon Apr 13 05:35:59 +0000 2020\",\"id\":1249572018284113920,\"id_str\":\"1249572018284113920\",\"text\":\"#MI13 Democratic Primary:\\nRashida Tlaib 43%\\nBrenda Jones 34%\\n\\nTarget-Insyght 3\\/31-4\\/2\\nhttps:\\/\\/t.co\\/2ndAqblwbY\",\"source\":\"\\u003ca href=\\\"https:\\/\\/mobile.twitter.com\\\" rel=\\\"nofollow\\\"\\u003eTwitter Web App\\u003c\\/a\\u003e\",\"truncated\":false,\"in_reply_to_status_id\":null,\"in_reply_to_status_id_str\":null,\"in_reply_to_user_id\":null,\"in_reply_to_user_id_str\":null,\"in_reply_to_screen_name\":null,\"user\":{\"id\":1903105045,\"id_str\":\"1903105045\",\"name\":\"Political Polls\",\"screen_name\":\"Politics_Polls\",\"location\":null,\"url\":null,\"description\":\"Job approval, primary, general election & much more.\",\"translator_type\":\"none\",\"protected\":false,\"verified\":false,\"followers_count\":87061,\"friends_count\":240,\"listed_count\":1039,\"favourites_count\":2083,\"statuses_count\":23097,\"created_at\":\"Wed Sep 25 06:22:22 +0000 2013\",\"utc_offset\":null,\"time_zone\":null,\"geo_enabled\":false,\"lang\":null,\"contributors_enabled\":false,\"is_translator\":false,\"profile_background_color\":\"C0DEED\",\"profile_background_image_url\":\"http:\\/\\/abs.twimg.com\\/images\\/themes\\/theme1\\/bg.png\",\"profile_background_image_url_https\":\"https:\\/\\/abs.twimg.com\\/images\\/themes\\/theme1\\/bg.png\",\"profile_background_tile\":false,\"profile_link_color\":\"1DA1F2\",\"profile_sidebar_border_color\":\"C0DEED\",\"profile_sidebar_fill_color\":\"DDEEF6\",\"profile_text_color\":\"333333\",\"profile_use_background_image\":true,\"profile_image_url\":\"http:\\/\\/pbs.twimg.com\\/profile_images\\/879203541289717760\\/qw0an2wG_normal.jpg\",\"profile_image_url_https\":\"https:\\/\\/pbs.twimg.com\\/profile_images\\/879203541289717760\\/qw0an2wG_normal.jpg\",\"profile_banner_url\":\"https:\\/\\/pbs.twimg.com\\/profile_banners\\/1903105045\\/1498455589\",\"default_profile\":true,\"default_profile_image\":false,\"following\":null,\"follow_request_sent\":null,\"notifications\":null},\"geo\":null,\"coordinates\":null,\"place\":null,\"contributors\":null,\"is_quote_status\":false,\"quote_count\":35,\"reply_count\":38,\"retweet_count\":71,\"favorite_count\":465,\"entities\":{\"hashtags\":[{\"text\":\"MI13\",\"indices\":[0,5]}],\"urls\":[{\"url\":\"https:\\/\\/t.co\\/2ndAqblwbY\",\"expanded_url\":\"https:\\/\\/jewishinsider.com\\/2020\\/04\\/detroit-city-council-president-brenda-jones-narrows-gap-with-rashida-tlaib-in-new-mi-13-poll\\/\",\"display_url\":\"jewishinsider.com\\/2020\\/04\\/detroi\\u2026\",\"indices\":[86,109]}],\"user_mentions\":[],\"symbols\":[]},\"favorited\":false,\"retweeted\":false,\"possibly_sensitive\":false,\"filter_level\":\"low\",\"lang\":\"in\"},\"quoted_status_permalink\":{\"url\":\"https:\\/\\/t.co\\/3lR3qMC5CQ\",\"expanded\":\"https:\\/\\/twitter.com\\/Politics_Polls\\/status\\/1249572018284113920\",\"display\":\"twitter.com\\/Politics_Polls\\u2026\"},\"is_quote_status\":true,\"quote_count\":0,\"reply_count\":0,\"retweet_count\":0,\"favorite_count\":0,\"entities\":{\"hashtags\":[{\"text\":\"BernieOnTheBallot\",\"indices\":[19,37]},{\"text\":\"MI13\",\"indices\":[128,133]}],\"urls\":[],\"user_mentions\":[{\"screen_name\":\"Map4latte\",\"name\":\"Archer 2.0\\ud83c\\udf39\\ud83c\\udf32\",\"id\":2860332634,\"id_str\":\"2860332634\",\"indices\":[3,13]},{\"screen_name\":\"RashidaTlaib\",\"name\":\"Rashida Tlaib\",\"id\":435331179,\"id_str\":\"435331179\",\"indices\":[74,87]}],\"symbols\":[]},\"favorited\":false,\"retweeted\":false,\"filter_level\":\"low\",\"lang\":\"en\",\"timestamp_ms\":\"1586766935620\"}\r\n",
      "\n"
     ]
    },
    {
     "name": "stdout",
     "output_type": "stream",
     "text": [
      "{\"created_at\":\"Mon Apr 13 08:36:04 +0000 2020\",\"id\":1249617336895750144,\"id_str\":\"1249617336895750144\",\"text\":\"This is so cringy. I can't  believe this man will represent the democratic party. I feel sick \\ud83e\\udd2e #Bernie2020\\u2026 https:\\/\\/t.co\\/6YoPp620ZQ\",\"source\":\"\\u003ca href=\\\"http:\\/\\/twitter.com\\/download\\/android\\\" rel=\\\"nofollow\\\"\\u003eTwitter for Android\\u003c\\/a\\u003e\",\"truncated\":true,\"in_reply_to_status_id\":null,\"in_reply_to_status_id_str\":null,\"in_reply_to_user_id\":null,\"in_reply_to_user_id_str\":null,\"in_reply_to_screen_name\":null,\"user\":{\"id\":4896160001,\"id_str\":\"4896160001\",\"name\":\"Warren\",\"screen_name\":\"blvckxpe\",\"location\":\"Manchester, England\",\"url\":\"https:\\/\\/soundcloud.com\\/warren-joule-croft\",\"description\":\"Just an average Joe trapped in the mindset of an 80's teen \\ud83c\\uddff\\ud83c\\uddfc Born \\ud83c\\uddec\\ud83c\\udde7 Bred RN4L! Oakland raiders \\ud83c\\udfc8  fueled by Gregg's pasty's...NORTHERN\",\"translator_type\":\"none\",\"protected\":false,\"verified\":false,\"followers_count\":81,\"friends_count\":259,\"listed_count\":0,\"favourites_count\":10723,\"statuses_count\":1796,\"created_at\":\"Wed Feb 10 21:44:15 +0000 2016\",\"utc_offset\":null,\"time_zone\":null,\"geo_enabled\":false,\"lang\":null,\"contributors_enabled\":false,\"is_translator\":false,\"profile_background_color\":\"000000\",\"profile_background_image_url\":\"http:\\/\\/abs.twimg.com\\/images\\/themes\\/theme1\\/bg.png\",\"profile_background_image_url_https\":\"https:\\/\\/abs.twimg.com\\/images\\/themes\\/theme1\\/bg.png\",\"profile_background_tile\":false,\"profile_link_color\":\"ABB8C2\",\"profile_sidebar_border_color\":\"000000\",\"profile_sidebar_fill_color\":\"000000\",\"profile_text_color\":\"000000\",\"profile_use_background_image\":false,\"profile_image_url\":\"http:\\/\\/pbs.twimg.com\\/profile_images\\/1182066747505041413\\/w9iwNO3G_normal.jpg\",\"profile_image_url_https\":\"https:\\/\\/pbs.twimg.com\\/profile_images\\/1182066747505041413\\/w9iwNO3G_normal.jpg\",\"profile_banner_url\":\"https:\\/\\/pbs.twimg.com\\/profile_banners\\/4896160001\\/1582752956\",\"default_profile\":false,\"default_profile_image\":false,\"following\":null,\"follow_request_sent\":null,\"notifications\":null},\"geo\":null,\"coordinates\":null,\"place\":null,\"contributors\":null,\"quoted_status_id\":1249550365814665228,\"quoted_status_id_str\":\"1249550365814665228\",\"quoted_status\":{\"created_at\":\"Mon Apr 13 04:09:57 +0000 2020\",\"id\":1249550365814665228,\"id_str\":\"1249550365814665228\",\"text\":\"#TaraReade #BelieveWomen \\n\\nhttps:\\/\\/t.co\\/xSpSQ5RW4z\",\"source\":\"\\u003ca href=\\\"http:\\/\\/twitter.com\\/download\\/iphone\\\" rel=\\\"nofollow\\\"\\u003eTwitter for iPhone\\u003c\\/a\\u003e\",\"truncated\":false,\"in_reply_to_status_id\":null,\"in_reply_to_status_id_str\":null,\"in_reply_to_user_id\":null,\"in_reply_to_user_id_str\":null,\"in_reply_to_screen_name\":null,\"user\":{\"id\":3968322645,\"id_str\":\"3968322645\",\"name\":\"Kevin Lang\",\"screen_name\":\"PeaceAtelier\",\"location\":null,\"url\":null,\"description\":\"\\u0643\\u064a\\u0648\\u0646\",\"translator_type\":\"none\",\"protected\":false,\"verified\":false,\"followers_count\":22,\"friends_count\":108,\"listed_count\":0,\"favourites_count\":1612,\"statuses_count\":1133,\"created_at\":\"Fri Oct 16 00:47:23 +0000 2015\",\"utc_offset\":null,\"time_zone\":null,\"geo_enabled\":true,\"lang\":null,\"contributors_enabled\":false,\"is_translator\":false,\"profile_background_color\":\"C0DEED\",\"profile_background_image_url\":\"http:\\/\\/abs.twimg.com\\/images\\/themes\\/theme1\\/bg.png\",\"profile_background_image_url_https\":\"https:\\/\\/abs.twimg.com\\/images\\/themes\\/theme1\\/bg.png\",\"profile_background_tile\":false,\"profile_link_color\":\"1DA1F2\",\"profile_sidebar_border_color\":\"C0DEED\",\"profile_sidebar_fill_color\":\"DDEEF6\",\"profile_text_color\":\"333333\",\"profile_use_background_image\":true,\"profile_image_url\":\"http:\\/\\/pbs.twimg.com\\/profile_images\\/684768362505834496\\/J3jKSpTc_normal.jpg\",\"profile_image_url_https\":\"https:\\/\\/pbs.twimg.com\\/profile_images\\/684768362505834496\\/J3jKSpTc_normal.jpg\",\"default_profile\":true,\"default_profile_image\":false,\"following\":null,\"follow_request_sent\":null,\"notifications\":null},\"geo\":null,\"coordinates\":null,\"place\":null,\"contributors\":null,\"is_quote_status\":false,\"quote_count\":28,\"reply_count\":4,\"retweet_count\":11,\"favorite_count\":20,\"entities\":{\"hashtags\":[{\"text\":\"TaraReade\",\"indices\":[0,10]},{\"text\":\"BelieveWomen\",\"indices\":[11,24]}],\"urls\":[],\"user_mentions\":[],\"symbols\":[],\"media\":[{\"id\":1234647728262508544,\"id_str\":\"1234647728262508544\",\"indices\":[27,50],\"additional_media_info\":{\"monetizable\":false},\"media_url\":\"http:\\/\\/pbs.twimg.com\\/ext_tw_video_thumb\\/1234647728262508544\\/pu\\/img\\/ufahalF4w7HE7kaM.jpg\",\"media_url_https\":\"https:\\/\\/pbs.twimg.com\\/ext_tw_video_thumb\\/1234647728262508544\\/pu\\/img\\/ufahalF4w7HE7kaM.jpg\",\"url\":\"https:\\/\\/t.co\\/xSpSQ5RW4z\",\"display_url\":\"pic.twitter.com\\/xSpSQ5RW4z\",\"expanded_url\":\"https:\\/\\/twitter.com\\/ricburton\\/status\\/1234647870633959424\\/video\\/1\",\"type\":\"photo\",\"sizes\":{\"thumb\":{\"w\":150,\"h\":150,\"resize\":\"crop\"},\"medium\":{\"w\":1200,\"h\":675,\"resize\":\"fit\"},\"small\":{\"w\":680,\"h\":383,\"resize\":\"fit\"},\"large\":{\"w\":1280,\"h\":720,\"resize\":\"fit\"}},\"source_status_id\":1234647870633959424,\"source_status_id_str\":\"1234647870633959424\",\"source_user_id\":14285961,\"source_user_id_str\":\"14285961\"}]},\"extended_entities\":{\"media\":[{\"id\":1234647728262508544,\"id_str\":\"1234647728262508544\",\"indices\":[27,50],\"additional_media_info\":{\"monetizable\":false},\"media_url\":\"http:\\/\\/pbs.twimg.com\\/ext_tw_video_thumb\\/1234647728262508544\\/pu\\/img\\/ufahalF4w7HE7kaM.jpg\",\"media_url_https\":\"https:\\/\\/pbs.twimg.com\\/ext_tw_video_thumb\\/1234647728262508544\\/pu\\/img\\/ufahalF4w7HE7kaM.jpg\",\"url\":\"https:\\/\\/t.co\\/xSpSQ5RW4z\",\"display_url\":\"pic.twitter.com\\/xSpSQ5RW4z\",\"expanded_url\":\"https:\\/\\/twitter.com\\/ricburton\\/status\\/1234647870633959424\\/video\\/1\",\"type\":\"video\",\"video_info\":{\"aspect_ratio\":[16,9],\"duration_millis\":140021,\"variants\":[{\"bitrate\":2176000,\"content_type\":\"video\\/mp4\",\"url\":\"https:\\/\\/video.twimg.com\\/ext_tw_video\\/1234647728262508544\\/pu\\/vid\\/1280x720\\/xTu6XdoHqQbEh-Zn.mp4?tag=10\"},{\"bitrate\":832000,\"content_type\":\"video\\/mp4\",\"url\":\"https:\\/\\/video.twimg.com\\/ext_tw_video\\/1234647728262508544\\/pu\\/vid\\/640x360\\/4O6CjAKX2SiK5ETj.mp4?tag=10\"},{\"content_type\":\"application\\/x-mpegURL\",\"url\":\"https:\\/\\/video.twimg.com\\/ext_tw_video\\/1234647728262508544\\/pu\\/pl\\/OugFlDajPb5KqzOM.m3u8?tag=10\"},{\"bitrate\":256000,\"content_type\":\"video\\/mp4\",\"url\":\"https:\\/\\/video.twimg.com\\/ext_tw_video\\/1234647728262508544\\/pu\\/vid\\/480x270\\/vcWJFWvwiJcnOe_V.mp4?tag=10\"}]},\"sizes\":{\"thumb\":{\"w\":150,\"h\":150,\"resize\":\"crop\"},\"medium\":{\"w\":1200,\"h\":675,\"resize\":\"fit\"},\"small\":{\"w\":680,\"h\":383,\"resize\":\"fit\"},\"large\":{\"w\":1280,\"h\":720,\"resize\":\"fit\"}},\"source_status_id\":1234647870633959424,\"source_status_id_str\":\"1234647870633959424\",\"source_user_id\":14285961,\"source_user_id_str\":\"14285961\"}]},\"favorited\":false,\"retweeted\":false,\"possibly_sensitive\":false,\"filter_level\":\"low\",\"lang\":\"und\"},\"quoted_status_permalink\":{\"url\":\"https:\\/\\/t.co\\/8nGOtOTVbF\",\"expanded\":\"https:\\/\\/twitter.com\\/PeaceAtelier\\/status\\/1249550365814665228\",\"display\":\"twitter.com\\/PeaceAtelier\\/s\\u2026\"},\"is_quote_status\":true,\"extended_tweet\":{\"full_text\":\"This is so cringy. I can't  believe this man will represent the democratic party. I feel sick \\ud83e\\udd2e #Bernie2020 #BernieOrBust2020 #BernieOnTheBallot\",\"display_text_range\":[0,144],\"entities\":{\"hashtags\":[{\"text\":\"Bernie2020\",\"indices\":[96,107]},{\"text\":\"BernieOrBust2020\",\"indices\":[108,125]},{\"text\":\"BernieOnTheBallot\",\"indices\":[126,144]}],\"urls\":[],\"user_mentions\":[],\"symbols\":[]}},\"quote_count\":0,\"reply_count\":0,\"retweet_count\":0,\"favorite_count\":0,\"entities\":{\"hashtags\":[{\"text\":\"Bernie2020\",\"indices\":[96,107]}],\"urls\":[{\"url\":\"https:\\/\\/t.co\\/6YoPp620ZQ\",\"expanded_url\":\"https:\\/\\/twitter.com\\/i\\/web\\/status\\/1249617336895750144\",\"display_url\":\"twitter.com\\/i\\/web\\/status\\/1\\u2026\",\"indices\":[109,132]}],\"user_mentions\":[],\"symbols\":[]},\"favorited\":false,\"retweeted\":false,\"filter_level\":\"low\",\"lang\":\"en\",\"timestamp_ms\":\"1586766964540\"}\r\n",
      "\n"
     ]
    },
    {
     "ename": "KeyboardInterrupt",
     "evalue": "",
     "output_type": "error",
     "traceback": [
      "\u001b[0;31m---------------------------------------------------------------------------\u001b[0m",
      "\u001b[0;31mKeyboardInterrupt\u001b[0m                         Traceback (most recent call last)",
      "\u001b[0;32m<ipython-input-6-e0340fd2d0fb>\u001b[0m in \u001b[0;36m<module>\u001b[0;34m\u001b[0m\n\u001b[1;32m     21\u001b[0m \u001b[0;34m\u001b[0m\u001b[0m\n\u001b[1;32m     22\u001b[0m \u001b[0mtwitter_stream\u001b[0m \u001b[0;34m=\u001b[0m \u001b[0mStream\u001b[0m\u001b[0;34m(\u001b[0m\u001b[0mauth\u001b[0m\u001b[0;34m,\u001b[0m \u001b[0mTweet_Listen\u001b[0m\u001b[0;34m(\u001b[0m\u001b[0;34m)\u001b[0m\u001b[0;34m)\u001b[0m\u001b[0;34m\u001b[0m\u001b[0;34m\u001b[0m\u001b[0m\n\u001b[0;32m---> 23\u001b[0;31m \u001b[0mtwitter_stream\u001b[0m\u001b[0;34m.\u001b[0m\u001b[0mfilter\u001b[0m\u001b[0;34m(\u001b[0m\u001b[0mtrack\u001b[0m\u001b[0;34m=\u001b[0m\u001b[0;34m[\u001b[0m\u001b[0;34m'#Bernie2020'\u001b[0m\u001b[0;34m]\u001b[0m\u001b[0;34m)\u001b[0m\u001b[0;34m\u001b[0m\u001b[0;34m\u001b[0m\u001b[0m\n\u001b[0m",
      "\u001b[0;32m/usr/local/lib/python3.7/site-packages/tweepy/streaming.py\u001b[0m in \u001b[0;36mfilter\u001b[0;34m(self, follow, track, is_async, locations, stall_warnings, languages, encoding, filter_level)\u001b[0m\n\u001b[1;32m    472\u001b[0m             \u001b[0mself\u001b[0m\u001b[0;34m.\u001b[0m\u001b[0mbody\u001b[0m\u001b[0;34m[\u001b[0m\u001b[0;34m'filter_level'\u001b[0m\u001b[0;34m]\u001b[0m \u001b[0;34m=\u001b[0m \u001b[0mfilter_level\u001b[0m\u001b[0;34m.\u001b[0m\u001b[0mencode\u001b[0m\u001b[0;34m(\u001b[0m\u001b[0mencoding\u001b[0m\u001b[0;34m)\u001b[0m\u001b[0;34m\u001b[0m\u001b[0;34m\u001b[0m\u001b[0m\n\u001b[1;32m    473\u001b[0m         \u001b[0mself\u001b[0m\u001b[0;34m.\u001b[0m\u001b[0msession\u001b[0m\u001b[0;34m.\u001b[0m\u001b[0mparams\u001b[0m \u001b[0;34m=\u001b[0m \u001b[0;34m{\u001b[0m\u001b[0;34m'delimited'\u001b[0m\u001b[0;34m:\u001b[0m \u001b[0;34m'length'\u001b[0m\u001b[0;34m}\u001b[0m\u001b[0;34m\u001b[0m\u001b[0;34m\u001b[0m\u001b[0m\n\u001b[0;32m--> 474\u001b[0;31m         \u001b[0mself\u001b[0m\u001b[0;34m.\u001b[0m\u001b[0m_start\u001b[0m\u001b[0;34m(\u001b[0m\u001b[0mis_async\u001b[0m\u001b[0;34m)\u001b[0m\u001b[0;34m\u001b[0m\u001b[0;34m\u001b[0m\u001b[0m\n\u001b[0m\u001b[1;32m    475\u001b[0m \u001b[0;34m\u001b[0m\u001b[0m\n\u001b[1;32m    476\u001b[0m     def sitestream(self, follow, stall_warnings=False,\n",
      "\u001b[0;32m/usr/local/lib/python3.7/site-packages/tweepy/streaming.py\u001b[0m in \u001b[0;36m_start\u001b[0;34m(self, is_async)\u001b[0m\n\u001b[1;32m    387\u001b[0m             \u001b[0mself\u001b[0m\u001b[0;34m.\u001b[0m\u001b[0m_thread\u001b[0m\u001b[0;34m.\u001b[0m\u001b[0mstart\u001b[0m\u001b[0;34m(\u001b[0m\u001b[0;34m)\u001b[0m\u001b[0;34m\u001b[0m\u001b[0;34m\u001b[0m\u001b[0m\n\u001b[1;32m    388\u001b[0m         \u001b[0;32melse\u001b[0m\u001b[0;34m:\u001b[0m\u001b[0;34m\u001b[0m\u001b[0;34m\u001b[0m\u001b[0m\n\u001b[0;32m--> 389\u001b[0;31m             \u001b[0mself\u001b[0m\u001b[0;34m.\u001b[0m\u001b[0m_run\u001b[0m\u001b[0;34m(\u001b[0m\u001b[0;34m)\u001b[0m\u001b[0;34m\u001b[0m\u001b[0;34m\u001b[0m\u001b[0m\n\u001b[0m\u001b[1;32m    390\u001b[0m \u001b[0;34m\u001b[0m\u001b[0m\n\u001b[1;32m    391\u001b[0m     \u001b[0;32mdef\u001b[0m \u001b[0mon_closed\u001b[0m\u001b[0;34m(\u001b[0m\u001b[0mself\u001b[0m\u001b[0;34m,\u001b[0m \u001b[0mresp\u001b[0m\u001b[0;34m)\u001b[0m\u001b[0;34m:\u001b[0m\u001b[0;34m\u001b[0m\u001b[0;34m\u001b[0m\u001b[0m\n",
      "\u001b[0;32m/usr/local/lib/python3.7/site-packages/tweepy/streaming.py\u001b[0m in \u001b[0;36m_run\u001b[0;34m(self)\u001b[0m\n\u001b[1;32m    287\u001b[0m                     \u001b[0mself\u001b[0m\u001b[0;34m.\u001b[0m\u001b[0msnooze_time\u001b[0m \u001b[0;34m=\u001b[0m \u001b[0mself\u001b[0m\u001b[0;34m.\u001b[0m\u001b[0msnooze_time_step\u001b[0m\u001b[0;34m\u001b[0m\u001b[0;34m\u001b[0m\u001b[0m\n\u001b[1;32m    288\u001b[0m                     \u001b[0mself\u001b[0m\u001b[0;34m.\u001b[0m\u001b[0mlistener\u001b[0m\u001b[0;34m.\u001b[0m\u001b[0mon_connect\u001b[0m\u001b[0;34m(\u001b[0m\u001b[0;34m)\u001b[0m\u001b[0;34m\u001b[0m\u001b[0;34m\u001b[0m\u001b[0m\n\u001b[0;32m--> 289\u001b[0;31m                     \u001b[0mself\u001b[0m\u001b[0;34m.\u001b[0m\u001b[0m_read_loop\u001b[0m\u001b[0;34m(\u001b[0m\u001b[0mresp\u001b[0m\u001b[0;34m)\u001b[0m\u001b[0;34m\u001b[0m\u001b[0;34m\u001b[0m\u001b[0m\n\u001b[0m\u001b[1;32m    290\u001b[0m             \u001b[0;32mexcept\u001b[0m \u001b[0;34m(\u001b[0m\u001b[0mTimeout\u001b[0m\u001b[0;34m,\u001b[0m \u001b[0mssl\u001b[0m\u001b[0;34m.\u001b[0m\u001b[0mSSLError\u001b[0m\u001b[0;34m)\u001b[0m \u001b[0;32mas\u001b[0m \u001b[0mexc\u001b[0m\u001b[0;34m:\u001b[0m\u001b[0;34m\u001b[0m\u001b[0;34m\u001b[0m\u001b[0m\n\u001b[1;32m    291\u001b[0m                 \u001b[0;31m# This is still necessary, as a SSLError can actually be\u001b[0m\u001b[0;34m\u001b[0m\u001b[0;34m\u001b[0m\u001b[0;34m\u001b[0m\u001b[0m\n",
      "\u001b[0;32m/usr/local/lib/python3.7/site-packages/tweepy/streaming.py\u001b[0m in \u001b[0;36m_read_loop\u001b[0;34m(self, resp)\u001b[0m\n\u001b[1;32m    337\u001b[0m             \u001b[0mlength\u001b[0m \u001b[0;34m=\u001b[0m \u001b[0;36m0\u001b[0m\u001b[0;34m\u001b[0m\u001b[0;34m\u001b[0m\u001b[0m\n\u001b[1;32m    338\u001b[0m             \u001b[0;32mwhile\u001b[0m \u001b[0;32mnot\u001b[0m \u001b[0mresp\u001b[0m\u001b[0;34m.\u001b[0m\u001b[0mraw\u001b[0m\u001b[0;34m.\u001b[0m\u001b[0mclosed\u001b[0m\u001b[0;34m:\u001b[0m\u001b[0;34m\u001b[0m\u001b[0;34m\u001b[0m\u001b[0m\n\u001b[0;32m--> 339\u001b[0;31m                 \u001b[0mline\u001b[0m \u001b[0;34m=\u001b[0m \u001b[0mbuf\u001b[0m\u001b[0;34m.\u001b[0m\u001b[0mread_line\u001b[0m\u001b[0;34m(\u001b[0m\u001b[0;34m)\u001b[0m\u001b[0;34m\u001b[0m\u001b[0;34m\u001b[0m\u001b[0m\n\u001b[0m\u001b[1;32m    340\u001b[0m                 \u001b[0mstripped_line\u001b[0m \u001b[0;34m=\u001b[0m \u001b[0mline\u001b[0m\u001b[0;34m.\u001b[0m\u001b[0mstrip\u001b[0m\u001b[0;34m(\u001b[0m\u001b[0;34m)\u001b[0m \u001b[0;32mif\u001b[0m \u001b[0mline\u001b[0m \u001b[0;32melse\u001b[0m \u001b[0mline\u001b[0m \u001b[0;31m# line is sometimes None so we need to check here\u001b[0m\u001b[0;34m\u001b[0m\u001b[0;34m\u001b[0m\u001b[0m\n\u001b[1;32m    341\u001b[0m                 \u001b[0;32mif\u001b[0m \u001b[0;32mnot\u001b[0m \u001b[0mstripped_line\u001b[0m\u001b[0;34m:\u001b[0m\u001b[0;34m\u001b[0m\u001b[0;34m\u001b[0m\u001b[0m\n",
      "\u001b[0;32m/usr/local/lib/python3.7/site-packages/tweepy/streaming.py\u001b[0m in \u001b[0;36mread_line\u001b[0;34m(self, sep)\u001b[0m\n\u001b[1;32m    198\u001b[0m             \u001b[0;32melse\u001b[0m\u001b[0;34m:\u001b[0m\u001b[0;34m\u001b[0m\u001b[0;34m\u001b[0m\u001b[0m\n\u001b[1;32m    199\u001b[0m                 \u001b[0mstart\u001b[0m \u001b[0;34m=\u001b[0m \u001b[0mlen\u001b[0m\u001b[0;34m(\u001b[0m\u001b[0mself\u001b[0m\u001b[0;34m.\u001b[0m\u001b[0m_buffer\u001b[0m\u001b[0;34m)\u001b[0m\u001b[0;34m\u001b[0m\u001b[0;34m\u001b[0m\u001b[0m\n\u001b[0;32m--> 200\u001b[0;31m             \u001b[0mself\u001b[0m\u001b[0;34m.\u001b[0m\u001b[0m_buffer\u001b[0m \u001b[0;34m+=\u001b[0m \u001b[0mself\u001b[0m\u001b[0;34m.\u001b[0m\u001b[0m_stream\u001b[0m\u001b[0;34m.\u001b[0m\u001b[0mread\u001b[0m\u001b[0;34m(\u001b[0m\u001b[0mself\u001b[0m\u001b[0;34m.\u001b[0m\u001b[0m_chunk_size\u001b[0m\u001b[0;34m)\u001b[0m\u001b[0;34m\u001b[0m\u001b[0;34m\u001b[0m\u001b[0m\n\u001b[0m\u001b[1;32m    201\u001b[0m         \u001b[0;32mreturn\u001b[0m \u001b[0msix\u001b[0m\u001b[0;34m.\u001b[0m\u001b[0mb\u001b[0m\u001b[0;34m(\u001b[0m\u001b[0;34m''\u001b[0m\u001b[0;34m)\u001b[0m\u001b[0;34m\u001b[0m\u001b[0;34m\u001b[0m\u001b[0m\n\u001b[1;32m    202\u001b[0m \u001b[0;34m\u001b[0m\u001b[0m\n",
      "\u001b[0;32m/usr/local/lib/python3.7/site-packages/urllib3/response.py\u001b[0m in \u001b[0;36mread\u001b[0;34m(self, amt, decode_content, cache_content)\u001b[0m\n\u001b[1;32m    505\u001b[0m             \u001b[0;32melse\u001b[0m\u001b[0;34m:\u001b[0m\u001b[0;34m\u001b[0m\u001b[0;34m\u001b[0m\u001b[0m\n\u001b[1;32m    506\u001b[0m                 \u001b[0mcache_content\u001b[0m \u001b[0;34m=\u001b[0m \u001b[0;32mFalse\u001b[0m\u001b[0;34m\u001b[0m\u001b[0;34m\u001b[0m\u001b[0m\n\u001b[0;32m--> 507\u001b[0;31m                 \u001b[0mdata\u001b[0m \u001b[0;34m=\u001b[0m \u001b[0mself\u001b[0m\u001b[0;34m.\u001b[0m\u001b[0m_fp\u001b[0m\u001b[0;34m.\u001b[0m\u001b[0mread\u001b[0m\u001b[0;34m(\u001b[0m\u001b[0mamt\u001b[0m\u001b[0;34m)\u001b[0m \u001b[0;32mif\u001b[0m \u001b[0;32mnot\u001b[0m \u001b[0mfp_closed\u001b[0m \u001b[0;32melse\u001b[0m \u001b[0;34mb\"\"\u001b[0m\u001b[0;34m\u001b[0m\u001b[0;34m\u001b[0m\u001b[0m\n\u001b[0m\u001b[1;32m    508\u001b[0m                 if (\n\u001b[1;32m    509\u001b[0m                     \u001b[0mamt\u001b[0m \u001b[0;34m!=\u001b[0m \u001b[0;36m0\u001b[0m \u001b[0;32mand\u001b[0m \u001b[0;32mnot\u001b[0m \u001b[0mdata\u001b[0m\u001b[0;34m\u001b[0m\u001b[0;34m\u001b[0m\u001b[0m\n",
      "\u001b[0;32m/usr/local/Cellar/python/3.7.7/Frameworks/Python.framework/Versions/3.7/lib/python3.7/http/client.py\u001b[0m in \u001b[0;36mread\u001b[0;34m(self, amt)\u001b[0m\n\u001b[1;32m    455\u001b[0m             \u001b[0;31m# Amount is given, implement using readinto\u001b[0m\u001b[0;34m\u001b[0m\u001b[0;34m\u001b[0m\u001b[0;34m\u001b[0m\u001b[0m\n\u001b[1;32m    456\u001b[0m             \u001b[0mb\u001b[0m \u001b[0;34m=\u001b[0m \u001b[0mbytearray\u001b[0m\u001b[0;34m(\u001b[0m\u001b[0mamt\u001b[0m\u001b[0;34m)\u001b[0m\u001b[0;34m\u001b[0m\u001b[0;34m\u001b[0m\u001b[0m\n\u001b[0;32m--> 457\u001b[0;31m             \u001b[0mn\u001b[0m \u001b[0;34m=\u001b[0m \u001b[0mself\u001b[0m\u001b[0;34m.\u001b[0m\u001b[0mreadinto\u001b[0m\u001b[0;34m(\u001b[0m\u001b[0mb\u001b[0m\u001b[0;34m)\u001b[0m\u001b[0;34m\u001b[0m\u001b[0;34m\u001b[0m\u001b[0m\n\u001b[0m\u001b[1;32m    458\u001b[0m             \u001b[0;32mreturn\u001b[0m \u001b[0mmemoryview\u001b[0m\u001b[0;34m(\u001b[0m\u001b[0mb\u001b[0m\u001b[0;34m)\u001b[0m\u001b[0;34m[\u001b[0m\u001b[0;34m:\u001b[0m\u001b[0mn\u001b[0m\u001b[0;34m]\u001b[0m\u001b[0;34m.\u001b[0m\u001b[0mtobytes\u001b[0m\u001b[0;34m(\u001b[0m\u001b[0;34m)\u001b[0m\u001b[0;34m\u001b[0m\u001b[0;34m\u001b[0m\u001b[0m\n\u001b[1;32m    459\u001b[0m         \u001b[0;32melse\u001b[0m\u001b[0;34m:\u001b[0m\u001b[0;34m\u001b[0m\u001b[0;34m\u001b[0m\u001b[0m\n",
      "\u001b[0;32m/usr/local/Cellar/python/3.7.7/Frameworks/Python.framework/Versions/3.7/lib/python3.7/http/client.py\u001b[0m in \u001b[0;36mreadinto\u001b[0;34m(self, b)\u001b[0m\n\u001b[1;32m    489\u001b[0m \u001b[0;34m\u001b[0m\u001b[0m\n\u001b[1;32m    490\u001b[0m         \u001b[0;32mif\u001b[0m \u001b[0mself\u001b[0m\u001b[0;34m.\u001b[0m\u001b[0mchunked\u001b[0m\u001b[0;34m:\u001b[0m\u001b[0;34m\u001b[0m\u001b[0;34m\u001b[0m\u001b[0m\n\u001b[0;32m--> 491\u001b[0;31m             \u001b[0;32mreturn\u001b[0m \u001b[0mself\u001b[0m\u001b[0;34m.\u001b[0m\u001b[0m_readinto_chunked\u001b[0m\u001b[0;34m(\u001b[0m\u001b[0mb\u001b[0m\u001b[0;34m)\u001b[0m\u001b[0;34m\u001b[0m\u001b[0;34m\u001b[0m\u001b[0m\n\u001b[0m\u001b[1;32m    492\u001b[0m \u001b[0;34m\u001b[0m\u001b[0m\n\u001b[1;32m    493\u001b[0m         \u001b[0;32mif\u001b[0m \u001b[0mself\u001b[0m\u001b[0;34m.\u001b[0m\u001b[0mlength\u001b[0m \u001b[0;32mis\u001b[0m \u001b[0;32mnot\u001b[0m \u001b[0;32mNone\u001b[0m\u001b[0;34m:\u001b[0m\u001b[0;34m\u001b[0m\u001b[0;34m\u001b[0m\u001b[0m\n",
      "\u001b[0;32m/usr/local/Cellar/python/3.7.7/Frameworks/Python.framework/Versions/3.7/lib/python3.7/http/client.py\u001b[0m in \u001b[0;36m_readinto_chunked\u001b[0;34m(self, b)\u001b[0m\n\u001b[1;32m    584\u001b[0m         \u001b[0;32mtry\u001b[0m\u001b[0;34m:\u001b[0m\u001b[0;34m\u001b[0m\u001b[0;34m\u001b[0m\u001b[0m\n\u001b[1;32m    585\u001b[0m             \u001b[0;32mwhile\u001b[0m \u001b[0;32mTrue\u001b[0m\u001b[0;34m:\u001b[0m\u001b[0;34m\u001b[0m\u001b[0;34m\u001b[0m\u001b[0m\n\u001b[0;32m--> 586\u001b[0;31m                 \u001b[0mchunk_left\u001b[0m \u001b[0;34m=\u001b[0m \u001b[0mself\u001b[0m\u001b[0;34m.\u001b[0m\u001b[0m_get_chunk_left\u001b[0m\u001b[0;34m(\u001b[0m\u001b[0;34m)\u001b[0m\u001b[0;34m\u001b[0m\u001b[0;34m\u001b[0m\u001b[0m\n\u001b[0m\u001b[1;32m    587\u001b[0m                 \u001b[0;32mif\u001b[0m \u001b[0mchunk_left\u001b[0m \u001b[0;32mis\u001b[0m \u001b[0;32mNone\u001b[0m\u001b[0;34m:\u001b[0m\u001b[0;34m\u001b[0m\u001b[0;34m\u001b[0m\u001b[0m\n\u001b[1;32m    588\u001b[0m                     \u001b[0;32mreturn\u001b[0m \u001b[0mtotal_bytes\u001b[0m\u001b[0;34m\u001b[0m\u001b[0;34m\u001b[0m\u001b[0m\n",
      "\u001b[0;32m/usr/local/Cellar/python/3.7.7/Frameworks/Python.framework/Versions/3.7/lib/python3.7/http/client.py\u001b[0m in \u001b[0;36m_get_chunk_left\u001b[0;34m(self)\u001b[0m\n\u001b[1;32m    552\u001b[0m                 \u001b[0mself\u001b[0m\u001b[0;34m.\u001b[0m\u001b[0m_safe_read\u001b[0m\u001b[0;34m(\u001b[0m\u001b[0;36m2\u001b[0m\u001b[0;34m)\u001b[0m  \u001b[0;31m# toss the CRLF at the end of the chunk\u001b[0m\u001b[0;34m\u001b[0m\u001b[0;34m\u001b[0m\u001b[0m\n\u001b[1;32m    553\u001b[0m             \u001b[0;32mtry\u001b[0m\u001b[0;34m:\u001b[0m\u001b[0;34m\u001b[0m\u001b[0;34m\u001b[0m\u001b[0m\n\u001b[0;32m--> 554\u001b[0;31m                 \u001b[0mchunk_left\u001b[0m \u001b[0;34m=\u001b[0m \u001b[0mself\u001b[0m\u001b[0;34m.\u001b[0m\u001b[0m_read_next_chunk_size\u001b[0m\u001b[0;34m(\u001b[0m\u001b[0;34m)\u001b[0m\u001b[0;34m\u001b[0m\u001b[0;34m\u001b[0m\u001b[0m\n\u001b[0m\u001b[1;32m    555\u001b[0m             \u001b[0;32mexcept\u001b[0m \u001b[0mValueError\u001b[0m\u001b[0;34m:\u001b[0m\u001b[0;34m\u001b[0m\u001b[0;34m\u001b[0m\u001b[0m\n\u001b[1;32m    556\u001b[0m                 \u001b[0;32mraise\u001b[0m \u001b[0mIncompleteRead\u001b[0m\u001b[0;34m(\u001b[0m\u001b[0;34mb''\u001b[0m\u001b[0;34m)\u001b[0m\u001b[0;34m\u001b[0m\u001b[0;34m\u001b[0m\u001b[0m\n",
      "\u001b[0;32m/usr/local/Cellar/python/3.7.7/Frameworks/Python.framework/Versions/3.7/lib/python3.7/http/client.py\u001b[0m in \u001b[0;36m_read_next_chunk_size\u001b[0;34m(self)\u001b[0m\n\u001b[1;32m    512\u001b[0m     \u001b[0;32mdef\u001b[0m \u001b[0m_read_next_chunk_size\u001b[0m\u001b[0;34m(\u001b[0m\u001b[0mself\u001b[0m\u001b[0;34m)\u001b[0m\u001b[0;34m:\u001b[0m\u001b[0;34m\u001b[0m\u001b[0;34m\u001b[0m\u001b[0m\n\u001b[1;32m    513\u001b[0m         \u001b[0;31m# Read the next chunk size from the file\u001b[0m\u001b[0;34m\u001b[0m\u001b[0;34m\u001b[0m\u001b[0;34m\u001b[0m\u001b[0m\n\u001b[0;32m--> 514\u001b[0;31m         \u001b[0mline\u001b[0m \u001b[0;34m=\u001b[0m \u001b[0mself\u001b[0m\u001b[0;34m.\u001b[0m\u001b[0mfp\u001b[0m\u001b[0;34m.\u001b[0m\u001b[0mreadline\u001b[0m\u001b[0;34m(\u001b[0m\u001b[0m_MAXLINE\u001b[0m \u001b[0;34m+\u001b[0m \u001b[0;36m1\u001b[0m\u001b[0;34m)\u001b[0m\u001b[0;34m\u001b[0m\u001b[0;34m\u001b[0m\u001b[0m\n\u001b[0m\u001b[1;32m    515\u001b[0m         \u001b[0;32mif\u001b[0m \u001b[0mlen\u001b[0m\u001b[0;34m(\u001b[0m\u001b[0mline\u001b[0m\u001b[0;34m)\u001b[0m \u001b[0;34m>\u001b[0m \u001b[0m_MAXLINE\u001b[0m\u001b[0;34m:\u001b[0m\u001b[0;34m\u001b[0m\u001b[0;34m\u001b[0m\u001b[0m\n\u001b[1;32m    516\u001b[0m             \u001b[0;32mraise\u001b[0m \u001b[0mLineTooLong\u001b[0m\u001b[0;34m(\u001b[0m\u001b[0;34m\"chunk size\"\u001b[0m\u001b[0;34m)\u001b[0m\u001b[0;34m\u001b[0m\u001b[0;34m\u001b[0m\u001b[0m\n",
      "\u001b[0;32m/usr/local/Cellar/python/3.7.7/Frameworks/Python.framework/Versions/3.7/lib/python3.7/socket.py\u001b[0m in \u001b[0;36mreadinto\u001b[0;34m(self, b)\u001b[0m\n\u001b[1;32m    587\u001b[0m         \u001b[0;32mwhile\u001b[0m \u001b[0;32mTrue\u001b[0m\u001b[0;34m:\u001b[0m\u001b[0;34m\u001b[0m\u001b[0;34m\u001b[0m\u001b[0m\n\u001b[1;32m    588\u001b[0m             \u001b[0;32mtry\u001b[0m\u001b[0;34m:\u001b[0m\u001b[0;34m\u001b[0m\u001b[0;34m\u001b[0m\u001b[0m\n\u001b[0;32m--> 589\u001b[0;31m                 \u001b[0;32mreturn\u001b[0m \u001b[0mself\u001b[0m\u001b[0;34m.\u001b[0m\u001b[0m_sock\u001b[0m\u001b[0;34m.\u001b[0m\u001b[0mrecv_into\u001b[0m\u001b[0;34m(\u001b[0m\u001b[0mb\u001b[0m\u001b[0;34m)\u001b[0m\u001b[0;34m\u001b[0m\u001b[0;34m\u001b[0m\u001b[0m\n\u001b[0m\u001b[1;32m    590\u001b[0m             \u001b[0;32mexcept\u001b[0m \u001b[0mtimeout\u001b[0m\u001b[0;34m:\u001b[0m\u001b[0;34m\u001b[0m\u001b[0;34m\u001b[0m\u001b[0m\n\u001b[1;32m    591\u001b[0m                 \u001b[0mself\u001b[0m\u001b[0;34m.\u001b[0m\u001b[0m_timeout_occurred\u001b[0m \u001b[0;34m=\u001b[0m \u001b[0;32mTrue\u001b[0m\u001b[0;34m\u001b[0m\u001b[0;34m\u001b[0m\u001b[0m\n",
      "\u001b[0;32m/usr/local/Cellar/python/3.7.7/Frameworks/Python.framework/Versions/3.7/lib/python3.7/ssl.py\u001b[0m in \u001b[0;36mrecv_into\u001b[0;34m(self, buffer, nbytes, flags)\u001b[0m\n\u001b[1;32m   1069\u001b[0m                   \u001b[0;34m\"non-zero flags not allowed in calls to recv_into() on %s\"\u001b[0m \u001b[0;34m%\u001b[0m\u001b[0;34m\u001b[0m\u001b[0;34m\u001b[0m\u001b[0m\n\u001b[1;32m   1070\u001b[0m                   self.__class__)\n\u001b[0;32m-> 1071\u001b[0;31m             \u001b[0;32mreturn\u001b[0m \u001b[0mself\u001b[0m\u001b[0;34m.\u001b[0m\u001b[0mread\u001b[0m\u001b[0;34m(\u001b[0m\u001b[0mnbytes\u001b[0m\u001b[0;34m,\u001b[0m \u001b[0mbuffer\u001b[0m\u001b[0;34m)\u001b[0m\u001b[0;34m\u001b[0m\u001b[0;34m\u001b[0m\u001b[0m\n\u001b[0m\u001b[1;32m   1072\u001b[0m         \u001b[0;32melse\u001b[0m\u001b[0;34m:\u001b[0m\u001b[0;34m\u001b[0m\u001b[0;34m\u001b[0m\u001b[0m\n\u001b[1;32m   1073\u001b[0m             \u001b[0;32mreturn\u001b[0m \u001b[0msuper\u001b[0m\u001b[0;34m(\u001b[0m\u001b[0;34m)\u001b[0m\u001b[0;34m.\u001b[0m\u001b[0mrecv_into\u001b[0m\u001b[0;34m(\u001b[0m\u001b[0mbuffer\u001b[0m\u001b[0;34m,\u001b[0m \u001b[0mnbytes\u001b[0m\u001b[0;34m,\u001b[0m \u001b[0mflags\u001b[0m\u001b[0;34m)\u001b[0m\u001b[0;34m\u001b[0m\u001b[0;34m\u001b[0m\u001b[0m\n",
      "\u001b[0;32m/usr/local/Cellar/python/3.7.7/Frameworks/Python.framework/Versions/3.7/lib/python3.7/ssl.py\u001b[0m in \u001b[0;36mread\u001b[0;34m(self, len, buffer)\u001b[0m\n\u001b[1;32m    927\u001b[0m         \u001b[0;32mtry\u001b[0m\u001b[0;34m:\u001b[0m\u001b[0;34m\u001b[0m\u001b[0;34m\u001b[0m\u001b[0m\n\u001b[1;32m    928\u001b[0m             \u001b[0;32mif\u001b[0m \u001b[0mbuffer\u001b[0m \u001b[0;32mis\u001b[0m \u001b[0;32mnot\u001b[0m \u001b[0;32mNone\u001b[0m\u001b[0;34m:\u001b[0m\u001b[0;34m\u001b[0m\u001b[0;34m\u001b[0m\u001b[0m\n\u001b[0;32m--> 929\u001b[0;31m                 \u001b[0;32mreturn\u001b[0m \u001b[0mself\u001b[0m\u001b[0;34m.\u001b[0m\u001b[0m_sslobj\u001b[0m\u001b[0;34m.\u001b[0m\u001b[0mread\u001b[0m\u001b[0;34m(\u001b[0m\u001b[0mlen\u001b[0m\u001b[0;34m,\u001b[0m \u001b[0mbuffer\u001b[0m\u001b[0;34m)\u001b[0m\u001b[0;34m\u001b[0m\u001b[0;34m\u001b[0m\u001b[0m\n\u001b[0m\u001b[1;32m    930\u001b[0m             \u001b[0;32melse\u001b[0m\u001b[0;34m:\u001b[0m\u001b[0;34m\u001b[0m\u001b[0;34m\u001b[0m\u001b[0m\n\u001b[1;32m    931\u001b[0m                 \u001b[0;32mreturn\u001b[0m \u001b[0mself\u001b[0m\u001b[0;34m.\u001b[0m\u001b[0m_sslobj\u001b[0m\u001b[0;34m.\u001b[0m\u001b[0mread\u001b[0m\u001b[0;34m(\u001b[0m\u001b[0mlen\u001b[0m\u001b[0;34m)\u001b[0m\u001b[0;34m\u001b[0m\u001b[0;34m\u001b[0m\u001b[0m\n",
      "\u001b[0;31mKeyboardInterrupt\u001b[0m: "
     ]
    }
   ],
   "source": [
    "from tweepy import Stream\n",
    "from tweepy.streaming import StreamListener\n",
    " \n",
    "class Tweet_Listen(StreamListener):\n",
    "    \n",
    "    def on_data(self, data):\n",
    "\n",
    "        try:\n",
    "            print(data)\n",
    "            #with open('twitter_data.json', 'a') as f:\n",
    "                #f.write(data)\n",
    "                \n",
    "                #return True\n",
    "        except BaseException as e:\n",
    "            print(\"Error on_data: %s\" % str(e))\n",
    "        return True\n",
    " \n",
    "    def on_error(self, status):\n",
    "        print(status)\n",
    "        return True\n",
    " \n",
    "twitter_stream = Stream(auth, Tweet_Listen())\n",
    "twitter_stream.filter(track=['#Bernie2020'])"
   ]
  },
  {
   "cell_type": "code",
   "execution_count": 7,
   "metadata": {},
   "outputs": [
    {
     "name": "stdout",
     "output_type": "stream",
     "text": [
      "Getting data for @WHO\n",
      "name: World Health Organization (WHO)\n",
      "screen_name: WHO\n",
      "description: We are the #UnitedNations’ health agency. We are committed to achieving better health for everyone, everywhere - #HealthForAll\n",
      "statuses_count: 49979\n",
      "friends_count: 1717\n",
      "followers_count: \n",
      "7302805\n"
     ]
    }
   ],
   "source": [
    "account_list=['@WHO']\n",
    "if len(account_list) > 0:\n",
    "    for target in account_list:\n",
    "        print(\"Getting data for \" + target)\n",
    "        item = api.get_user(target)\n",
    "        print(\"name: \" + item.name)\n",
    "        print(\"screen_name: \" + item.screen_name)\n",
    "        print(\"description: \" + item.description)\n",
    "        print(\"statuses_count: \" + str(item.statuses_count))\n",
    "        print(\"friends_count: \" + str(item.friends_count))\n",
    "        print(\"followers_count: \\n\" + str(item.followers_count))"
   ]
  },
  {
   "cell_type": "code",
   "execution_count": 8,
   "metadata": {},
   "outputs": [
    {
     "name": "stdout",
     "output_type": "stream",
     "text": [
      "Account created: 2008-04-23 19:56:27\n",
      "No of Tweets: 49979.00\n"
     ]
    }
   ],
   "source": [
    "for target in account_list:\n",
    "    item = api.get_user(target)\n",
    "    tweets = item.statuses_count #counts no of tweets\n",
    "    account_created_date =item.created_at\n",
    "\n",
    "    #delta = datetime.utcnow() -account_created_date\n",
    "    #account_age_days = delta.days\n",
    "    print(\"Account created: \" + str(account_created_date))\n",
    "    print('No of Tweets: {:.2f}'.format(tweets))"
   ]
  },
  {
   "cell_type": "code",
   "execution_count": 9,
   "metadata": {
    "scrolled": true
   },
   "outputs": [],
   "source": [
    "hashtags = []\n",
    "mentions = []\n",
    "tweet_count = 0\n",
    "end_date = datetime.utcnow() - timedelta(days=30)\n",
    "for i,status in enumerate(Cursor(api.user_timeline, id=target).items()):\n",
    "    #print('Tweet nO: {:.2f}'.format(i),flush=True)\n",
    "    tweet_count += 1\n",
    "    if hasattr(status, \"entities\"):\n",
    "        \n",
    "        entities = status.entities\n",
    "        if \"hashtags\" in entities:\n",
    "            \n",
    "            for ent in entities[\"hashtags\"]:\n",
    "                \n",
    "                if ent is not None:\n",
    "                    \n",
    "                    if \"text\" in ent:\n",
    "                        hashtag = ent[\"text\"]\n",
    "                        if hashtag is not None:\n",
    "                            hashtags.append(hashtag)\n",
    "        if \"user_mentions\" in entities:\n",
    "            \n",
    "            for ent in entities[\"user_mentions\"]:\n",
    "                \n",
    "                if ent is not None:\n",
    "                    \n",
    "                    if \"screen_name\" in ent:\n",
    "                        name = ent[\"screen_name\"] \n",
    "                        if name is not None:\n",
    "                            mentions.append(name)\n",
    "                            \n",
    "                              \n",
    "                         \n",
    "    if status.created_at < end_date:\n",
    "        break\n"
   ]
  },
  {
   "cell_type": "code",
   "execution_count": 10,
   "metadata": {},
   "outputs": [
    {
     "data": {
      "text/plain": [
       "['COVID19',\n",
       " 'coronavirus',\n",
       " 'SeamosActivos',\n",
       " 'QuédateEnCasa',\n",
       " 'SaludParaTodos',\n",
       " 'COVID19',\n",
       " 'Recuerda',\n",
       " 'LavaTusManos',\n",
       " 'โควิด19',\n",
       " 'COVID19',\n",
       " 'coronavirus',\n",
       " 'COVID19',\n",
       " 'COVID19',\n",
       " 'COVID19',\n",
       " 'ThanksHealthHeroes',\n",
       " 'StayAtHome',\n",
       " 'COVID19',\n",
       " 'coronavirus',\n",
       " 'OpenWHO',\n",
       " 'COVID19',\n",
       " 'COVID19',\n",
       " 'OpenWHO',\n",
       " 'COVID19',\n",
       " 'COVID19',\n",
       " 'StayAtHome',\n",
       " 'COVID19',\n",
       " 'StayHome',\n",
       " 'COVID19',\n",
       " 'Ebola',\n",
       " 'DRC',\n",
       " 'Ebola',\n",
       " 'DRC',\n",
       " 'Ebola',\n",
       " 'Ebola',\n",
       " 'DRC',\n",
       " 'Ebola',\n",
       " 'DRC',\n",
       " 'COVID19',\n",
       " 'COVID19',\n",
       " 'COVID19',\n",
       " 'DRC',\n",
       " 'Ebola',\n",
       " 'Ebola',\n",
       " 'DRC',\n",
       " 'healthworkers',\n",
       " 'healthworkers',\n",
       " 'COVID19',\n",
       " 'healthworkers',\n",
       " 'healthworkers',\n",
       " 'StayHome',\n",
       " 'COVID19',\n",
       " 'COVID19',\n",
       " 'coronavirus',\n",
       " 'DRC',\n",
       " 'Ebola',\n",
       " 'Ebola',\n",
       " 'DRC',\n",
       " 'Ebola',\n",
       " 'Ebola',\n",
       " 'DRC',\n",
       " 'COVID19',\n",
       " 'coronavirus',\n",
       " 'COVID19',\n",
       " 'COVID19',\n",
       " 'COVID19',\n",
       " 'COVID19',\n",
       " 'COVID19',\n",
       " 'COVID19',\n",
       " 'COVID19',\n",
       " 'COVID19',\n",
       " 'COVID19',\n",
       " 'COVID19',\n",
       " 'COVID19',\n",
       " 'COID19',\n",
       " 'COVID19',\n",
       " 'COVID19',\n",
       " 'COVID19',\n",
       " 'COVID19',\n",
       " 'coronavirus',\n",
       " 'coronavirus',\n",
       " 'COVID19',\n",
       " 'COVID19',\n",
       " 'COVID19',\n",
       " 'coronavirus',\n",
       " 'COVID19',\n",
       " 'COVID19',\n",
       " 'COVID19',\n",
       " 'COVID19',\n",
       " 'WorldHealthDay',\n",
       " 'COVID19',\n",
       " 'HealthyAtHome',\n",
       " 'coronavirus',\n",
       " 'COVID19',\n",
       " 'COVID19',\n",
       " 'Egypt',\n",
       " 'COVID19',\n",
       " 'coronavirus',\n",
       " 'COVID19',\n",
       " 'coronavirus',\n",
       " 'COVID19',\n",
       " 'COVID19',\n",
       " 'coronavirus',\n",
       " 'TogetherAtHome',\n",
       " 'COVID19',\n",
       " 'Iraq',\n",
       " 'coronavirus',\n",
       " 'SafeHands',\n",
       " 'coronavirus',\n",
       " 'COVID19',\n",
       " 'COVID19',\n",
       " 'Iran',\n",
       " 'Azerbaijan',\n",
       " 'COVID19',\n",
       " 'COVID19',\n",
       " 'coronavirus',\n",
       " 'COVID19',\n",
       " 'Iran',\n",
       " 'COVID19',\n",
       " 'Italy',\n",
       " 'COVID19',\n",
       " 'China',\n",
       " 'COVID19',\n",
       " 'COVID19',\n",
       " 'COVID19',\n",
       " 'COVID19',\n",
       " 'China',\n",
       " 'China',\n",
       " 'China',\n",
       " 'COVID19',\n",
       " 'Thailand',\n",
       " 'coronavirus',\n",
       " 'China',\n",
       " 'COVID19',\n",
       " 'coronavirus',\n",
       " 'China',\n",
       " 'COVID19',\n",
       " 'COVID19',\n",
       " 'COVID19',\n",
       " 'coronavirus',\n",
       " 'coronavirus',\n",
       " 'COVID19',\n",
       " 'COVID19',\n",
       " 'COVID19',\n",
       " 'COVID19',\n",
       " 'COVID19',\n",
       " 'COVID19',\n",
       " 'COVID19',\n",
       " 'COVID19',\n",
       " 'AlaminAngTotoo',\n",
       " 'COVID19PH',\n",
       " 'COVID19',\n",
       " 'COVID19',\n",
       " 'coronavirus',\n",
       " 'coronavirus',\n",
       " 'COVID19',\n",
       " 'COVID19',\n",
       " '5G',\n",
       " 'COVID19',\n",
       " 'coronavirus',\n",
       " 'KnowTheFacts',\n",
       " 'COVID19',\n",
       " 'LavaTusManos',\n",
       " 'COVID19PH',\n",
       " 'COVID19',\n",
       " 'COVID19',\n",
       " 'COVID19',\n",
       " 'COVID19',\n",
       " 'COVID19',\n",
       " 'COVID19',\n",
       " 'coronavirus',\n",
       " 'healthworkers',\n",
       " 'COVID19',\n",
       " 'healthworkers',\n",
       " 'TogetherAtHome',\n",
       " 'healthworkers',\n",
       " 'COVID19',\n",
       " 'China',\n",
       " 'COVID19',\n",
       " 'coronavirus',\n",
       " 'COVID19',\n",
       " 'coronavirus',\n",
       " 'COVID19',\n",
       " 'coronavirus',\n",
       " 'China',\n",
       " 'COVID19',\n",
       " 'coronavirus',\n",
       " 'nurses',\n",
       " 'SupportNursesAndMidwives',\n",
       " 'Chile',\n",
       " 'COVID19',\n",
       " 'ThanksHealthHeroes',\n",
       " 'SupportNursesAndMidwives',\n",
       " 'nurses',\n",
       " 'healthworkers',\n",
       " 'WorldHealthDay',\n",
       " 'healthworkers',\n",
       " 'OpenWHO',\n",
       " 'COVID19',\n",
       " 'COVID19',\n",
       " 'WorldHealthDay',\n",
       " 'COVID19',\n",
       " 'COVID19',\n",
       " 'COVID19',\n",
       " 'COVID19',\n",
       " 'WorldHealthDay',\n",
       " 'Ebola',\n",
       " 'DRC',\n",
       " 'SupportNursesAndMidwives',\n",
       " 'WorldHealthDay',\n",
       " 'WorldHealthDay',\n",
       " 'healthworkers',\n",
       " 'WorldHealthDay',\n",
       " 'COVID19',\n",
       " 'ThanksHealthHeroes',\n",
       " 'ThanksHealthHeroes',\n",
       " 'WorldHealthDay',\n",
       " 'WorldHealthDay',\n",
       " 'COVID19',\n",
       " 'coronavirus',\n",
       " 'WorldHealthDay',\n",
       " 'nurses',\n",
       " 'WorldHealthDay2020',\n",
       " 'Algeria',\n",
       " 'SupportNursesAndMidwives',\n",
       " 'COVID19',\n",
       " 'WorldHealthDay',\n",
       " 'healthworkers',\n",
       " 'WorldHealthDay',\n",
       " 'healthworkers',\n",
       " 'WorldHealthDay',\n",
       " 'WorldHealthDay',\n",
       " 'COVID19',\n",
       " 'healthworkers',\n",
       " 'healthworkers',\n",
       " 'COVID19',\n",
       " 'WorldHealthDay',\n",
       " 'ThanksHealthHeroes',\n",
       " 'ThanksHealthHeroes',\n",
       " 'COVID19',\n",
       " 'WorldHealthDay',\n",
       " 'HealthForAll',\n",
       " 'WorldHealthDay',\n",
       " 'COVID19',\n",
       " 'WorldHealthDay',\n",
       " 'nurses',\n",
       " 'SupportNursesAndMidwives',\n",
       " 'WorldHealthDay',\n",
       " 'WorldHealthDay',\n",
       " 'SupportNursesAndMidwives',\n",
       " 'WorldHealthDay',\n",
       " 'nurses',\n",
       " 'WorldHealthDay',\n",
       " 'WorldHealthDay',\n",
       " 'DYK',\n",
       " 'WorldHealthDay',\n",
       " 'YearOfTheNurseAndMidwife',\n",
       " 'WorldHealthDay',\n",
       " 'WorldHealthDay',\n",
       " 'AskWHO',\n",
       " 'COVID19',\n",
       " 'healthworkers',\n",
       " 'COVID19',\n",
       " 'WorldHealthDay',\n",
       " 'WorldHealthDay',\n",
       " 'COVID19',\n",
       " 'WorldHealthDay',\n",
       " 'WorldHealthDay',\n",
       " 'COVID19',\n",
       " 'COVID19',\n",
       " 'healthworkers',\n",
       " 'WorldHealthDay',\n",
       " 'healthworkers',\n",
       " 'COVID19',\n",
       " 'DRC',\n",
       " 'healthworkers',\n",
       " 'Ebola',\n",
       " 'DRC',\n",
       " 'CostaRica',\n",
       " 'CostaRica',\n",
       " 'coronavirus',\n",
       " 'COVID19',\n",
       " 'COVID19',\n",
       " 'healthworkers',\n",
       " 'COVID19',\n",
       " 'COVID19',\n",
       " 'COVID19',\n",
       " 'coronavirus',\n",
       " 'COVID19',\n",
       " 'COVID19',\n",
       " 'disability',\n",
       " 'coronavirus',\n",
       " 'COVID19',\n",
       " 'COVID19',\n",
       " 'COVID19',\n",
       " 'BeActive',\n",
       " 'HeathlyAtHome',\n",
       " 'COVID19',\n",
       " 'BeActive',\n",
       " 'disability',\n",
       " 'coronavirus',\n",
       " 'WorldHealthDay',\n",
       " 'StayHome',\n",
       " 'StaySafe',\n",
       " 'StayHealthy',\n",
       " 'COVID19',\n",
       " 'COVID19',\n",
       " 'Disability',\n",
       " 'HealthWorkers',\n",
       " 'HealthyAtHome',\n",
       " 'COVID19',\n",
       " 'coronavirus',\n",
       " 'KnowTheFacts',\n",
       " 'COVID19',\n",
       " 'البحرين',\n",
       " 'كوفيد_19',\n",
       " 'COVID19',\n",
       " 'Bahrain',\n",
       " 'InternationalDayofConscience',\n",
       " 'COVID19',\n",
       " 'COVID19',\n",
       " 'coronavirus',\n",
       " 'Africa',\n",
       " 'COVID19',\n",
       " 'WorldHealthDay',\n",
       " 'COVID19',\n",
       " 'COVID19',\n",
       " 'COVID19',\n",
       " 'coronavirus',\n",
       " 'disability',\n",
       " 'COVID19',\n",
       " 'COVID19',\n",
       " 'HealthWorkers',\n",
       " 'COVID19',\n",
       " 'COVID19',\n",
       " 'HealthyAtHome',\n",
       " 'mentalhealth',\n",
       " 'COVID19',\n",
       " 'StayAtHome',\n",
       " 'HealthyAtHome',\n",
       " 'OpenWHO',\n",
       " 'COVID19',\n",
       " 'disability',\n",
       " 'HealthWorkers',\n",
       " 'COVID19',\n",
       " 'HealthCareWorkers',\n",
       " 'COVID19',\n",
       " 'COVID19',\n",
       " 'COVID19',\n",
       " 'coronavirus',\n",
       " 'COVID19',\n",
       " 'COVID19',\n",
       " 'Kuwait',\n",
       " 'coronavirus',\n",
       " 'coronavirus',\n",
       " 'COVID19',\n",
       " 'COVID19',\n",
       " 'COVID19',\n",
       " 'disability',\n",
       " 'COVID19',\n",
       " 'COVID19',\n",
       " 'COVID19',\n",
       " 'COVID19',\n",
       " 'EndViolence',\n",
       " 'COVID19',\n",
       " 'COVID19',\n",
       " 'polio',\n",
       " 'healthworkers',\n",
       " 'COVID19',\n",
       " 'polio',\n",
       " 'COVID19',\n",
       " 'COVID19',\n",
       " 'coronavirus',\n",
       " 'COVID19',\n",
       " 'coronavirus',\n",
       " 'coronavirus',\n",
       " 'COVID19',\n",
       " 'COVID19',\n",
       " 'coronavirus',\n",
       " 'disability',\n",
       " 'COVID19',\n",
       " 'disability',\n",
       " 'COVID19',\n",
       " 'disability',\n",
       " 'COVID19',\n",
       " 'COVID19',\n",
       " 'disability',\n",
       " 'COVID19',\n",
       " 'COVID19',\n",
       " 'COVID19',\n",
       " 'Belgium',\n",
       " 'COVID19',\n",
       " 'COVID19',\n",
       " 'coronavirus',\n",
       " 'COVID19',\n",
       " 'coronavirus',\n",
       " 'COVID19',\n",
       " 'Ebola',\n",
       " 'DRC',\n",
       " 'COVID19',\n",
       " 'coronavirus',\n",
       " 'WorldAutismAwarenessDay',\n",
       " 'autism',\n",
       " 'StayHome',\n",
       " 'COVID19',\n",
       " 'ReadTheWorld',\n",
       " 'COVID19',\n",
       " 'InternationalChildrensBookDay',\n",
       " 'ReadTheWorld',\n",
       " 'COVID19',\n",
       " 'COVID19',\n",
       " 'COVID19',\n",
       " 'Senegal',\n",
       " 'COVID19',\n",
       " 'ReadTheWorld',\n",
       " 'InternationalChildrensBookDay',\n",
       " 'ReadTheWorld',\n",
       " 'COVID19',\n",
       " 'coronavirus',\n",
       " 'COVID19',\n",
       " 'WorldAutismAwarenessDay',\n",
       " 'autism',\n",
       " 'autism',\n",
       " 'COVID19',\n",
       " 'WorldAutismDay',\n",
       " 'Autism',\n",
       " 'stayhome',\n",
       " 'COVID19',\n",
       " 'COVID19',\n",
       " 'COVID19',\n",
       " 'EssentialMedicines',\n",
       " 'COVID19',\n",
       " 'handwashing',\n",
       " 'handwashing',\n",
       " 'coronavirus',\n",
       " 'India',\n",
       " 'COVID19',\n",
       " 'COVID19',\n",
       " 'COVID19',\n",
       " 'COVID19',\n",
       " 'COVID19',\n",
       " 'coronavirus',\n",
       " 'COVID19',\n",
       " 'coronavirus',\n",
       " 'Africa',\n",
       " 'COVID19',\n",
       " 'Kuwait',\n",
       " 'COVID19',\n",
       " 'COVID19',\n",
       " 'COVID19',\n",
       " 'COVID19',\n",
       " 'COVID19',\n",
       " 'COVID19',\n",
       " 'COVID19',\n",
       " 'COIVD19',\n",
       " 'كوفيد_19',\n",
       " 'coronavirus',\n",
       " 'COVID19',\n",
       " 'COVID19',\n",
       " 'COVID19',\n",
       " 'COVID19',\n",
       " 'coronavirus',\n",
       " 'COVID19',\n",
       " 'SriLanka',\n",
       " 'COVID19',\n",
       " 'COVID19',\n",
       " 'COVID19',\n",
       " 'COVID19',\n",
       " 'COVID19',\n",
       " 'COVID19',\n",
       " 'COVID19',\n",
       " 'coronavirus',\n",
       " 'COVID19',\n",
       " 'COVID19',\n",
       " 'HealthWorkers',\n",
       " 'COVID19',\n",
       " '新型コロナウイルス',\n",
       " 'COVID19に備えよう',\n",
       " '新型肺炎',\n",
       " 'كورونا',\n",
       " 'Covid19',\n",
       " 'COVID19',\n",
       " 'COVID19',\n",
       " 'COVID19',\n",
       " 'COVID19',\n",
       " 'COVID19',\n",
       " 'COVID19',\n",
       " 'الصحة_للجميع',\n",
       " 'COVID19',\n",
       " 'COVID19',\n",
       " 'mentalhealth',\n",
       " 'COVID19',\n",
       " 'COVID19',\n",
       " 'COVID19',\n",
       " 'COVID19',\n",
       " 'COVID19',\n",
       " 'COVID19',\n",
       " 'coronavirus',\n",
       " 'COVID19',\n",
       " 'coronavirus',\n",
       " 'COVID19',\n",
       " 'healthworkers',\n",
       " 'coronavirus',\n",
       " 'OpenWHO',\n",
       " 'coronavirus',\n",
       " 'COVID19',\n",
       " 'COVID19',\n",
       " 'COVID19',\n",
       " 'Ghana',\n",
       " 'COVID19',\n",
       " 'COVID19',\n",
       " 'OpenWHO',\n",
       " 'COVID19',\n",
       " 'COVID19',\n",
       " 'Ebola',\n",
       " 'DRC',\n",
       " 'OpenWHO',\n",
       " 'COVID19',\n",
       " 'COVID19',\n",
       " 'coronavirus',\n",
       " 'COVID19',\n",
       " 'COVID19',\n",
       " 'Covid19',\n",
       " 'COVID19',\n",
       " 'coronavirus',\n",
       " 'SafeHands',\n",
       " 'COVID19',\n",
       " 'COVID19',\n",
       " 'coronavirus',\n",
       " 'COVID19',\n",
       " 'OpenWHO',\n",
       " 'OpenWHO',\n",
       " 'Healthworkers',\n",
       " 'COVID19',\n",
       " 'StaySafe',\n",
       " 'COVID19',\n",
       " 'COVID19',\n",
       " 'COVID19',\n",
       " 'coronavirus',\n",
       " 'COVID19',\n",
       " 'OpenWHO',\n",
       " 'COVID19',\n",
       " 'healthworkers',\n",
       " 'COVID19',\n",
       " 'COVID19',\n",
       " 'Ebola',\n",
       " 'healthworkers',\n",
       " 'coronavirus',\n",
       " 'COVID19',\n",
       " 'COVID19',\n",
       " 'COVID19',\n",
       " 'coronavirus',\n",
       " 'COVID19',\n",
       " 'Norway',\n",
       " 'coronavirus',\n",
       " 'BeActive',\n",
       " 'HealthyAtHome',\n",
       " 'coronavirus',\n",
       " 'OpenWHO',\n",
       " 'COVID19',\n",
       " 'COVID19',\n",
       " 'COVID19',\n",
       " 'healthworkers',\n",
       " 'COVID19',\n",
       " 'COVID19',\n",
       " 'COVID19',\n",
       " 'COVID19',\n",
       " 'COVID19',\n",
       " 'COVID19',\n",
       " 'COVID19',\n",
       " 'COVID19',\n",
       " 'COVID19',\n",
       " 'COVID19',\n",
       " 'LearningNeverStops',\n",
       " 'COVID19',\n",
       " 'COVID19',\n",
       " 'coronavirus',\n",
       " 'COVID19',\n",
       " 'COVID19',\n",
       " 'COVID19',\n",
       " 'COVID19',\n",
       " 'COVID19',\n",
       " 'coronavirus',\n",
       " 'HealthForAll',\n",
       " 'HealthForAll',\n",
       " 'COVID19',\n",
       " 'HealthForAll',\n",
       " 'BeActive',\n",
       " 'HealthyAtHome',\n",
       " 'COVID19',\n",
       " 'COVID19',\n",
       " 'COVID19',\n",
       " 'handwashing',\n",
       " 'COVID19',\n",
       " 'Film4Health',\n",
       " 'COVID19',\n",
       " 'coronavirus',\n",
       " 'COVID19',\n",
       " 'COVID19',\n",
       " 'COVID19',\n",
       " 'COVID19',\n",
       " 'COVID19',\n",
       " 'COVID19',\n",
       " 'coronavirus',\n",
       " 'COVID19',\n",
       " 'handwashing',\n",
       " 'COVID19',\n",
       " 'coronavirus',\n",
       " 'COVID19',\n",
       " 'coronavirus',\n",
       " 'COVID19',\n",
       " 'COVID19',\n",
       " 'coronavirus',\n",
       " 'COVID19',\n",
       " 'coronavirus',\n",
       " 'coronavirus',\n",
       " 'HealthWorkers',\n",
       " 'COVID19',\n",
       " 'COVID19',\n",
       " 'COVID19',\n",
       " 'COVID19',\n",
       " 'BeActive',\n",
       " 'COVID19',\n",
       " 'coronavirus',\n",
       " 'COVID19',\n",
       " 'BeActive',\n",
       " 'HealthyAtHome',\n",
       " 'COVID19',\n",
       " 'WorldTBDay',\n",
       " 'healthworkers',\n",
       " 'tuberculosis',\n",
       " 'Tuberculosis',\n",
       " 'WorldTBDay',\n",
       " 'COVID19',\n",
       " 'WorldTBDay',\n",
       " 'WorldTBDay',\n",
       " 'WorldTBDay',\n",
       " 'tuberculosis',\n",
       " 'OpenWHO',\n",
       " 'COVID19',\n",
       " 'WorldTBDay',\n",
       " 'ItsTime',\n",
       " 'endTB',\n",
       " 'WorldTBDay',\n",
       " 'coronavírus',\n",
       " 'HandWashing',\n",
       " 'COVID19',\n",
       " 'coronavirus',\n",
       " 'coronavirus',\n",
       " 'COVID19',\n",
       " 'coronavirus',\n",
       " 'KickOutCorona',\n",
       " 'PassTheMessage',\n",
       " 'WHO',\n",
       " 'AB1',\n",
       " 'coronavirus',\n",
       " 'coronavirus',\n",
       " 'COVID19',\n",
       " 'coronavirus',\n",
       " 'COVID19',\n",
       " 'coronavirus',\n",
       " 'COVID19',\n",
       " 'WorldTBDay',\n",
       " 'COVID19',\n",
       " 'healthworkers',\n",
       " 'HealthWorkers',\n",
       " 'coronavirus',\n",
       " 'COVID19',\n",
       " 'COVID19',\n",
       " 'COVID19',\n",
       " 'COVID19',\n",
       " 'coronavirus',\n",
       " 'healthworkers',\n",
       " 'COVID19',\n",
       " 'COVID19',\n",
       " 'COVID19',\n",
       " 'coronavirus',\n",
       " 'COVID19',\n",
       " 'coronavirus',\n",
       " 'SafeHands',\n",
       " 'handwashing',\n",
       " 'SafeHands',\n",
       " 'SafeHands',\n",
       " 'COVID19',\n",
       " 'SafeHands',\n",
       " 'COVID19',\n",
       " 'safehands',\n",
       " 'SafeHands',\n",
       " 'safehands',\n",
       " 'handwashing',\n",
       " 'WorldWaterDay',\n",
       " 'SafeHands',\n",
       " 'COVID19',\n",
       " 'WorldWaterDay',\n",
       " 'Botswana',\n",
       " 'SafeHands',\n",
       " 'WorldWaterDay',\n",
       " 'SafeHands',\n",
       " 'COVID19',\n",
       " 'COVID19',\n",
       " 'WorldWaterDay',\n",
       " 'Handwashing',\n",
       " 'COVID19',\n",
       " 'WorldWaterDay',\n",
       " 'COVID19',\n",
       " 'COVID19',\n",
       " 'COVID19',\n",
       " 'COVID19',\n",
       " 'COVID19',\n",
       " 'coronavirus',\n",
       " 'COVID19',\n",
       " 'COVID19',\n",
       " 'HealthWorkers',\n",
       " 'COVID19',\n",
       " 'healthworker',\n",
       " 'healthworkers',\n",
       " 'HealthWorkers',\n",
       " 'HealthWorkers',\n",
       " 'COVID19',\n",
       " 'COVID19',\n",
       " 'COVID19',\n",
       " 'COVID19',\n",
       " 'COVID19',\n",
       " 'COVID19',\n",
       " 'COVID19',\n",
       " 'COVID19',\n",
       " 'COVID19',\n",
       " 'COVID19',\n",
       " 'COVID19',\n",
       " 'TogetherAtHome',\n",
       " 'COVID19',\n",
       " 'COVID19',\n",
       " 'coronavirus',\n",
       " 'COVID19',\n",
       " 'coronavirus',\n",
       " 'COVID19',\n",
       " 'COVID19',\n",
       " 'coronavirus',\n",
       " 'OralHealth',\n",
       " 'COVID19',\n",
       " 'COVID19',\n",
       " 'COVID19',\n",
       " 'COVID19',\n",
       " 'mentalhealth',\n",
       " 'COVID19',\n",
       " 'Kuwait',\n",
       " 'COVID19',\n",
       " 'coronavirus',\n",
       " 'China',\n",
       " 'COVID19',\n",
       " 'coronavirus',\n",
       " 'coronavirus',\n",
       " 'coronavirus',\n",
       " 'coronavirus',\n",
       " 'COVID19',\n",
       " 'COVID19',\n",
       " 'COVID19',\n",
       " 'coronavirus',\n",
       " 'breastfeeding',\n",
       " 'breastfeeding',\n",
       " 'COVID19',\n",
       " 'COVID19',\n",
       " 'COVID19',\n",
       " 'COVID19',\n",
       " 'oralhealth',\n",
       " 'COVID19',\n",
       " 'oralhealth',\n",
       " 'OralHealth',\n",
       " 'COVID19',\n",
       " 'Nowruz',\n",
       " 'coronavirus',\n",
       " 'SafeHands',\n",
       " 'Yemen',\n",
       " 'COVID19',\n",
       " 'China',\n",
       " 'COVID19',\n",
       " 'OMS',\n",
       " 'COVID19',\n",
       " 'TogetherAtHome',\n",
       " 'SafeHands',\n",
       " 'SafeHands',\n",
       " 'COVID19',\n",
       " 'COVID19',\n",
       " 'AskWHO',\n",
       " 'AskWHO',\n",
       " 'COVID19',\n",
       " 'coronavirus',\n",
       " 'COVID19',\n",
       " 'coronavirus',\n",
       " 'Africa',\n",
       " 'ibuprofen',\n",
       " 'COVID19',\n",
       " 'ibuprofen',\n",
       " 'COVID19',\n",
       " 'COVID19',\n",
       " 'COVID19',\n",
       " 'COVID19',\n",
       " 'healthworkers',\n",
       " 'COVID19',\n",
       " 'Ebola',\n",
       " 'DRC',\n",
       " 'COVID19',\n",
       " 'COVID19',\n",
       " 'coronavirus',\n",
       " 'COVID19',\n",
       " 'coronavirus',\n",
       " 'COVID19',\n",
       " 'COVID19',\n",
       " 'COVID19',\n",
       " 'COVID19',\n",
       " 'COVID19',\n",
       " 'coronavirus',\n",
       " 'COVID19',\n",
       " 'COVID19',\n",
       " 'COVID19',\n",
       " 'healthworkers',\n",
       " 'COVID19',\n",
       " 'Ebola',\n",
       " 'DRC',\n",
       " 'COVID19',\n",
       " 'coronavirus',\n",
       " 'Japan',\n",
       " 'COVID19',\n",
       " 'COVID19',\n",
       " 'SafeHands',\n",
       " 'HandHygiene',\n",
       " 'healthworkers',\n",
       " 'SafeHands',\n",
       " 'SafeHands',\n",
       " 'SafeHands',\n",
       " 'COVID19',\n",
       " 'SafeHands',\n",
       " 'COVID19',\n",
       " 'coronavirus',\n",
       " 'coronavirus',\n",
       " 'COVID19',\n",
       " 'OMS',\n",
       " 'PAHO',\n",
       " 'COVID19',\n",
       " 'coronavirus',\n",
       " 'COVID19',\n",
       " 'Kuwait',\n",
       " 'COVID19',\n",
       " 'healthworkers',\n",
       " 'coronavirus',\n",
       " 'COVID19',\n",
       " 'SafeHands',\n",
       " 'coronavirus',\n",
       " 'COVID19',\n",
       " 'SafeHands',\n",
       " 'coronavirus',\n",
       " 'COVID19',\n",
       " 'SafeHands',\n",
       " 'TogetherAtHome',\n",
       " 'COVID19',\n",
       " 'COVID19',\n",
       " 'COVID19',\n",
       " 'COVID19',\n",
       " 'Coronavirus',\n",
       " 'COVID19',\n",
       " 'COVID19',\n",
       " 'COVID19',\n",
       " 'COVID19',\n",
       " 'COVID19',\n",
       " 'SafeHands',\n",
       " 'COVID19',\n",
       " 'COVID19',\n",
       " 'COVID19',\n",
       " 'COVID19',\n",
       " 'SafeHands',\n",
       " 'COVID19',\n",
       " 'COVID19',\n",
       " 'coronavirus',\n",
       " 'coronavirus',\n",
       " 'healthworkers',\n",
       " 'COVID19',\n",
       " 'coronavirus',\n",
       " 'coronavirus',\n",
       " 'COVID19',\n",
       " 'COVID19',\n",
       " 'COVID19',\n",
       " 'COVID19',\n",
       " 'COVID19',\n",
       " 'COVID19',\n",
       " 'COVID19',\n",
       " 'COVID19',\n",
       " 'COVID19',\n",
       " 'COVID19',\n",
       " 'COVID19',\n",
       " 'coronavirus',\n",
       " 'COVID19',\n",
       " 'coronavirus',\n",
       " 'COVID19',\n",
       " 'COVID19',\n",
       " 'coronavirus',\n",
       " 'COVID19',\n",
       " 'SafeHands',\n",
       " 'Breastfeeding',\n",
       " 'COVID19',\n",
       " 'breastfeeding',\n",
       " 'coronavirus',\n",
       " 'coronavirus',\n",
       " 'coronavirus',\n",
       " 'COVID19',\n",
       " 'Breastfeeding',\n",
       " 'COVID19',\n",
       " 'COVID19',\n",
       " 'COVID19',\n",
       " 'COVID19',\n",
       " 'HealthWorkers',\n",
       " 'SafeHands',\n",
       " 'SafeHands',\n",
       " 'COVID19',\n",
       " 'SafeHands',\n",
       " 'COVID19',\n",
       " 'SouthAfrica',\n",
       " 'COVID19',\n",
       " 'COVID19',\n",
       " 'COVID19',\n",
       " 'HealthWorkers',\n",
       " 'coronavirus',\n",
       " 'COVID19',\n",
       " 'SafeHands',\n",
       " 'COVID19',\n",
       " 'COVID19',\n",
       " 'health',\n",
       " 'SafeHands',\n",
       " 'Spain',\n",
       " 'healthworkers',\n",
       " 'SafeHands',\n",
       " 'SafeHands',\n",
       " 'coronavirus',\n",
       " 'COVID19',\n",
       " 'COVID19',\n",
       " 'COVID19',\n",
       " 'HealthWorkers',\n",
       " 'HealthWorkers',\n",
       " 'HealthWorkers',\n",
       " 'HealthWorkers',\n",
       " 'HealthWorkers',\n",
       " 'SafeHands',\n",
       " 'COVID19',\n",
       " 'SafeHands',\n",
       " 'COVID19',\n",
       " 'COVID19',\n",
       " 'SafeHands',\n",
       " 'COVID19',\n",
       " 'COVID19',\n",
       " 'COVID19',\n",
       " 'MentalHealth',\n",
       " 'COVID19',\n",
       " 'coronavirus',\n",
       " 'SafeHands',\n",
       " 'coronavirus',\n",
       " 'COVID19',\n",
       " 'coronavirus',\n",
       " 'coronavirus',\n",
       " 'SafeHands',\n",
       " 'coronavirus',\n",
       " 'COVID19']"
      ]
     },
     "execution_count": 10,
     "metadata": {},
     "output_type": "execute_result"
    }
   ],
   "source": [
    "hashtags"
   ]
  },
  {
   "cell_type": "code",
   "execution_count": 11,
   "metadata": {},
   "outputs": [
    {
     "data": {
      "text/plain": [
       "{'hashtags': [],\n",
       " 'symbols': [],\n",
       " 'user_mentions': [{'screen_name': 'DrTedros',\n",
       "   'name': 'Tedros Adhanom Ghebreyesus',\n",
       "   'id': 189868631,\n",
       "   'id_str': '189868631',\n",
       "   'indices': [3, 12]},\n",
       "  {'screen_name': 'unfoundation',\n",
       "   'name': 'United Nations Foundation',\n",
       "   'id': 39511166,\n",
       "   'id_str': '39511166',\n",
       "   'indices': [47, 60]}],\n",
       " 'urls': []}"
      ]
     },
     "execution_count": 11,
     "metadata": {},
     "output_type": "execute_result"
    }
   ],
   "source": [
    "entities"
   ]
  },
  {
   "cell_type": "code",
   "execution_count": 12,
   "metadata": {
    "scrolled": false
   },
   "outputs": [
    {
     "name": "stdout",
     "output_type": "stream",
     "text": [
      "Most mentioned Twitter users:\n",
      "DrTedros\t305\n",
      "WHO\t106\n",
      "UN\t26\n",
      "WHOEMRO\t16\n",
      "g20org\t15\n",
      "WHOWPRO\t13\n",
      "WHOAFRO\t13\n",
      "FIFAcom\t12\n",
      "antonioguterres\t12\n",
      "WHO_Europe\t10\n",
      "WHOSEARO\t10\n",
      "UNICEF\t8\n",
      "Refugees\t8\n",
      "WhatsApp\t7\n",
      "Alissonbecker\t7\n",
      "TurkicCouncil\t6\n",
      "Viber\t6\n",
      "ladygaga\t6\n",
      "KingSalman\t5\n",
      "WHOThailand\t4\n",
      "pahowho\t4\n",
      "WFP\t4\n",
      "UNOCHA\t4\n",
      "GlblCtzn\t4\n",
      "OPASOMSBrasil\t4\n",
      "opsomsuruguay\t4\n",
      "opsomsels\t3\n",
      "UNmigration\t3\n",
      "WHOAfghanistan\t3\n",
      "WHOPhilippines\t3\n",
      "Most used hashtags:\n",
      "COVID19\t459\n",
      "coronavirus\t125\n",
      "SafeHands\t36\n",
      "healthworkers\t34\n",
      "WorldHealthDay\t33\n",
      "Ebola\t18\n",
      "DRC\t16\n",
      "HealthWorkers\t16\n",
      "OpenWHO\t12\n",
      "China\t10\n",
      "disability\t9\n",
      "WorldTBDay\t8\n",
      "HealthyAtHome\t7\n",
      "ThanksHealthHeroes\t6\n",
      "SupportNursesAndMidwives\t6\n",
      "BeActive\t6\n",
      "handwashing\t6\n",
      "TogetherAtHome\t5\n",
      "nurses\t5\n",
      "WorldWaterDay\t5\n",
      "StayHome\t4\n",
      "HealthForAll\t4\n",
      "Kuwait\t4\n",
      "ReadTheWorld\t4\n",
      "StayAtHome\t3\n",
      "AskWHO\t3\n",
      "Africa\t3\n",
      "mentalhealth\t3\n",
      "autism\t3\n",
      "breastfeeding\t3\n",
      "All done. Processed 1257 tweets.\n"
     ]
    }
   ],
   "source": [
    "print(\"Most mentioned Twitter users:\")\n",
    "for item, count in Counter(mentions).most_common(30):\n",
    "    print(item + \"\\t\" + str(count))\n",
    "\n",
    "print(\"Most used hashtags:\")\n",
    "for item, count in Counter(hashtags).most_common(30):\n",
    "    print(item + \"\\t\" + str(count))\n",
    "\n",
    "print (\"All done. Processed \" + str(tweet_count) + \" tweets.\")"
   ]
  },
  {
   "cell_type": "code",
   "execution_count": 13,
   "metadata": {
    "scrolled": true
   },
   "outputs": [
    {
     "name": "stdout",
     "output_type": "stream",
     "text": [
      "Most used hashtags:\n",
      "COVID19\t459\n",
      "coronavirus\t125\n",
      "SafeHands\t36\n",
      "healthworkers\t34\n",
      "WorldHealthDay\t33\n",
      "Ebola\t18\n",
      "DRC\t16\n",
      "HealthWorkers\t16\n",
      "OpenWHO\t12\n",
      "China\t10\n",
      "disability\t9\n",
      "WorldTBDay\t8\n",
      "HealthyAtHome\t7\n",
      "ThanksHealthHeroes\t6\n",
      "SupportNursesAndMidwives\t6\n",
      "BeActive\t6\n",
      "handwashing\t6\n",
      "TogetherAtHome\t5\n",
      "nurses\t5\n",
      "WorldWaterDay\t5\n",
      "StayHome\t4\n",
      "HealthForAll\t4\n",
      "Kuwait\t4\n",
      "ReadTheWorld\t4\n",
      "StayAtHome\t3\n",
      "AskWHO\t3\n",
      "Africa\t3\n",
      "mentalhealth\t3\n",
      "autism\t3\n",
      "breastfeeding\t3\n"
     ]
    }
   ],
   "source": [
    "print(\"Most used hashtags:\")\n",
    "for item, count in Counter(hashtags).most_common(30):\n",
    "    print(item + \"\\t\" + str(count))"
   ]
  },
  {
   "cell_type": "code",
   "execution_count": 14,
   "metadata": {},
   "outputs": [],
   "source": [
    "# Earth Science twitter course\n",
    "import os\n",
    "import tweepy as tw\n",
    "import pandas as pd\n",
    "import numpy as np\n",
    "\n"
   ]
  },
  {
   "cell_type": "code",
   "execution_count": 15,
   "metadata": {},
   "outputs": [],
   "source": [
    "search_words = ['#COVID19']\n",
    "date_since = \"2020-4-10\""
   ]
  },
  {
   "cell_type": "code",
   "execution_count": 16,
   "metadata": {},
   "outputs": [
    {
     "data": {
      "text/plain": [
       "<tweepy.cursor.ItemIterator at 0x1187de150>"
      ]
     },
     "execution_count": 16,
     "metadata": {},
     "output_type": "execute_result"
    }
   ],
   "source": [
    "tweets = tw.Cursor(api.search,q=search_words,lang=\"en\",since=date_since).items(50)\n",
    "tweets"
   ]
  },
  {
   "cell_type": "code",
   "execution_count": 17,
   "metadata": {},
   "outputs": [
    {
     "name": "stdout",
     "output_type": "stream",
     "text": [
      "RT @aartic02: Best part about Kejriwal is that he welcomes Criticism &amp; takes Quick Corrective Actions 👉\n",
      "*New Norms for Azadpur Mandi in Del…\n",
      "RT @rtaworld: An aerial view of Kabul during the #COVID19 lockdown. A bustling city full of cars and people appears almost empty after the…\n",
      "Join @ISG_News and @AutomationAnywh for an #ISGSmartalk #webinar to discuss the power of #IntelligentAutomation, ag… https://t.co/oOeW4kHlje\n",
      "RT @Advaidism: Kerala : India's most successful state in handling #COVID19 https://t.co/dxSqQWVU8R\n",
      "Team Fife recruits taking on new jobs in coronavirus response https://t.co/Nh3UOnTUVc #coronavirus #covid19\n",
      "RT @bcomininvisible: #Coronavirus Crisis: *Leaked Home Office Call Reveals Govt wants Economy to ‘Continue Running’ as ‘We Will All Get’ #C…\n",
      "\"It is never too late to learn new skills. ‍The #Covid19 lockdown is the perfect time to Unlearn and Relearn\"- Want… https://t.co/vO9yo4Yfnz\n",
      "RT @ProfAkinAbayomi: #COVID19LAGOS update \n",
      "1️⃣Lagos confirmed 2 new cases of COVID19 infection on 12th of April, 2️⃣Total #COVID19Lagos con…\n",
      "The first of @InspiredITG weekly #Covid19 Industry Reviews, detailing how brands and retailers across key sectors a… https://t.co/xiOoXzVNbM\n",
      "RT @JagranEnglish: @ianuragthakur @jairamthakurbjp @Anurag_Office @shoaib100mph CCTV cameras capture some women spitting in plastic bags &amp;…\n",
      "RT @501Awani: South Korea reports more recovered coronavirus patients testing positive again\n",
      "\n",
      "#AWANInews #AWANI745 #COVID19 \n",
      "\n",
      "https://t.co/…\n",
      "Torah MiTzion is deeply saddened by the death of former chief rabbi, HaRav Bakshi Doron yesterday, from the #corona… https://t.co/AW9MMiknj4\n",
      "RT @DrEricDing: Frightening tales from the front lines: “truth is that doctors too are frightened, exhausted, overwhelmed by death and help…\n",
      "RT @sallychidzoy: “I can tell you that for every #COVID19 death at a hospital, I deal with 5 at a care home - I’ve been to 4 care homes in…\n",
      "Drones are an example of how technology can be used to provide innovative solutions to the coronavirus crisis. Read… https://t.co/a6GoNhg9hL\n",
      "RT @501Awani: South Korea reports more recovered coronavirus patients testing positive again\n",
      "\n",
      "#AWANInews #AWANI745 #COVID19 \n",
      "\n",
      "https://t.co/…\n",
      "The Israeli Navy’s commando unit, Shayetet 13, understands how oxygen tanks work better than anybody.\n",
      "Now they are… https://t.co/1MjQ4TJhPl\n",
      "RT @xpressandhra: #APFightsCorona: #Quarantine centre in #Vijayawada #AP serve #cashew nuts, #almonds, oranges and bananas, boiled#eggs to…\n",
      "RT @4FreedominIran: #CoronavirusPandemic Latest\n",
      "Q: Is #coronavirus mankind or created by people?\n",
      "A: If considering in #Iran, they have done…\n",
      "RT @hlhceo: At Easter, I want to thank all staff @hlhsocial for your unstinting support, patience and positivity. To the 100's of you volun…\n",
      "RT @ANI: Rajasthan: CCTV cameras capture some women spitting in plastic bags &amp;throwing them in some houses in Vallabhvadi area of Kota desp…\n",
      "RT @EUatUN: More 🇺🇳Member States have signed up to the @UN SG’s appeal on gender-based violence &amp; #COVID19 since last week. Tune in 13 Apri…\n",
      "RT @shannrobinson: This is what people don’t understand (no offence) but as a nurse I couldn’t just stand there and watch someone strugglin…\n",
      "We continue to develop #COVID19 and #mentalhealth briefings, they can be found here on our website, do feel free to… https://t.co/ihOGfAr0HY\n",
      "RT @NCDCgov: Five new cases of #COVID19 have been reported as follows:\n",
      "\n",
      "2 in Lagos\n",
      "2 in Kwara\n",
      "1 in Katsina\n",
      "\n",
      "As at 09:10 pm 12th April there…\n",
      "RT @Ash_Stewart_: Meanwhile, in NZ: Our Prime Minister just popped her toddler to bed and has pitched up on the couch in a sweater to do a…\n",
      "RT @elusive_1_: Good morning everyone!🍵😁\n",
      "Day 28 of quarantine....\n",
      "#COVID19 #StayHome #Isolation https://t.co/ro1zkc17yI\n",
      "RT @MoHFW_INDIA: #IndiaFightsCorona:\n",
      "\n",
      "Remember: Social D I S T A N C I N G helps break the cycle of transmission of #COVID19. \n",
      "\n",
      "#SwasthaBha…\n",
      "RT @wef: To learn more about the COVID-19 coronavirus, including its symptoms, prevention methods and effects on society, click here to vie…\n",
      "RT @KanchanGupta: It just doesn't end. #Covid19\n",
      "RT @HarryPotterMAGE: A week after the first #COVID19 case was identified in the US, Dr. Mecher urged the upper ranks of our public health a…\n",
      "IPC Tanzania national guideline:\n",
      "Rule no.1: Consider everyone infections...\n",
      "\n",
      "#COVID19 With #communitytransmission, the risk is \"maradufu\"\n",
      "RT @chxmxtxxg: #COVID19 #nnevyy #StandWithHongKong make it happen pls https://t.co/5HCOaVw3Dx\n",
      "With the Ramadan period upon us with no clear guidelines from the Tanzanian government on religious gatherings ,its… https://t.co/yUglNVMc42\n",
      "RT @stpiindia: #STPIINDIA applauds all who have shown huge interest in #SafeIndiaHackathon, a pioneering initiative by #STPINEXT to empower…\n",
      "RT @PDChina: #Russia reported 2,558 new #COVID19 cases as of 10:45 am local time on Monday, bringing the total number of infections to 18,3…\n",
      "RT @EuropeElects: UK: Tonight's Opinium poll shows that the UK Conservative Party (ECR) of prime minister Boris Johnson surges to 55%. If r…\n",
      "RT @AminaJMohammed: Women are rising in solidarity to conquer #COVID19. On the frontlines of health, policy, research, businesses big and s…\n",
      "RT @DeAnna4Congress: Now Pope Francis is suggesting that the European Union introduce Universal Basic Income as a response to #COVID19.\n",
      "\n",
      "Wh…\n",
      "RT @ChengWenTsan: Thank you our friends from #Thailand. Thailand has long been a popular travel destination for the Taiwanese. We look forw…\n",
      "Hey let's go catch that awesome movie in the theaters today...............#COVID19 https://t.co/HV4dVBI6uH\n",
      "RT @chxmxtxxg: #COVID19 #nnevyy #StandWithHongKong make it happen pls https://t.co/5HCOaVw3Dx\n",
      "RT @suzlette333: The coronavirus lockdown is forcing us to view 'screen time' differently. That's a good thing. #covid19 https://t.co/FLqXs…\n",
      "RT @ChengWenTsan: Thank you our friends from #Thailand. Thailand has long been a popular travel destination for the Taiwanese. We look forw…\n",
      "Research into Lung Damage #Covid19 #Coronavirus https://t.co/sbcmPv38cu via @NewsOrkney\n",
      "RT @GeorgiaLogCabin: #Poll: Do you personally know anyone diagnosed with the corona virus? Vote &amp; retweet. #coronavirus #covid19 #covidー19…\n",
      "RT @RCPath: We've published an algorithm for symptomatic staff, symptomatic household testing and further actions on our #COVID19 resources…\n",
      "RT @HRZone: How to keep the business health and safety compliant during the Covid-19 pandemic https://t.co/3WPmdYmkLx #healthandsafety #HR…\n",
      "How easily the nitwits in the Twittersphere forget that media didn’t take COVID19 seriously in the beginning as wel… https://t.co/MISUGoe8mh\n",
      "RT @ChengWenTsan: Thank you our friends from #Thailand. Thailand has long been a popular travel destination for the Taiwanese. We look forw…\n"
     ]
    }
   ],
   "source": [
    "for tweet in tweets:\n",
    "    print(tweet.text)"
   ]
  },
  {
   "cell_type": "code",
   "execution_count": 18,
   "metadata": {},
   "outputs": [],
   "source": [
    "tweets = tw.Cursor(api.search,q=search_words,lang=\"en\",since=date_since).items(50)\n",
    "tweet_list=[tweet.text for tweet in tweets]"
   ]
  },
  {
   "cell_type": "code",
   "execution_count": 243,
   "metadata": {},
   "outputs": [
    {
     "data": {
      "text/plain": [
       "'#COVID19-filter:retweets'"
      ]
     },
     "execution_count": 243,
     "metadata": {},
     "output_type": "execute_result"
    }
   ],
   "source": [
    "search_words = \"#COVID19\"\n",
    "new_search = search_words  + \"-filter:retweets\"\n",
    "new_search"
   ]
  },
  {
   "cell_type": "code",
   "execution_count": 61,
   "metadata": {},
   "outputs": [],
   "source": [
    "tweets = tw.Cursor(api.search,\n",
    "                       q=new_search,\n",
    "                       lang=\"en\",\n",
    "                       since=date_since).items(2000)\n",
    "tweet_count += 1\n",
    "tweet_list_nrw = [tweet.text for tweet in tweets]"
   ]
  },
  {
   "cell_type": "code",
   "execution_count": 21,
   "metadata": {
    "scrolled": true
   },
   "outputs": [
    {
     "data": {
      "text/plain": [
       "['In the absence of a Virus, Social Distancing is the most effective measure to prevent the spread of the virus.\\nStay… https://t.co/o5lXdY1NnM',\n",
       " '@Ollie_Akroyd @OldBrodleians You finally lost it @Ollie_Akroyd  #COVID19',\n",
       " 'If 50% of the population are #Covid19 asymptomatic and only immune compromised folks are at risk of succumbing to… https://t.co/EY54U7Wxtp',\n",
       " '@realDonaldTrump Poor baby. Did someone hurt your feelings, AGAIN?\\n\\nYou really hate the leaks by White House staff… https://t.co/x9E7P8Gm9A',\n",
       " '@realDonaldTrump @nytimes @SecAzar MUST READ:\\n\\nDid you know that everytime someone blocks Trump, Twitter deducts 1… https://t.co/UuAHuyi098',\n",
       " 'If you are feeling bored of your daily routine.. Read this article and add some colours in your boring days of quar… https://t.co/TQ0Qxp19om',\n",
       " 'Natures Revenge #naturesrevenge #dailyjoke #just4laughsuk #nhssmile #COVID19 https://t.co/otJwveWjdh',\n",
       " 'PENALTIES UP TO SAR 10,000 FOR NOT MEETING NEW MINISTRY OF INTERIOR REQUIREMENTS\\n\\nRead more:… https://t.co/4P6k29KlTV',\n",
       " '@AENetworks Networks Rolls Out Content That Resonates In Africa\\n#contentstrategy #Europe #middleeast #african #dstv… https://t.co/rMOUKnTg2b',\n",
       " 'What do you do and how has your work been affected by the COVID-19 crisis? #COVID19',\n",
       " 'Someone said I look like scorpion 🌚😂😂\\n.\\n#COVID19 #LagosUnrest #MondayMotivaton #agege https://t.co/WjATr3QJP1',\n",
       " 'How come Boris Johnson has gone to Checkers - his country house - when everyone else is supposed to STAY AT HOME.… https://t.co/IEXs1P2ALk',\n",
       " \"@globeandmail #cdnpoli\\n#uspoli\\n#coronavirus\\n#COVID19\\n\\nIt's ironic that all these critics idiotically think that dec… https://t.co/GvqOfyHgA3\",\n",
       " 'Dusted off my running trainers for #RunForHeroes this morning. What a great initiative to get people active &amp; suppo… https://t.co/TMC7ZrZYS8',\n",
       " 'Morten Morland on #BorisJohnson #PritiPatel #NHSCovidHeroes #Coronavirus #Covid19 #DeathRate #SocialDistancinguk… https://t.co/fwWvyY3CsN',\n",
       " 'After years of dysfunction the 🇫🇷🇩🇪 tandem is back! Right in time for 1st big moment of 🇪🇺 #COVID19 crisis governan… https://t.co/tRzYYh2q1T',\n",
       " 'Global combined ACV reaches record $14.8 billion, powered by 11% growth in #AsaService but will see subdued growth… https://t.co/CvGOHnCNTf',\n",
       " 'I need to send groceries to Banting. \\nDoes anyone know of a reliable runner? \\n\\n2. I know a group of factory workers… https://t.co/kNZK0sbf6J',\n",
       " \"It's #day18oflockdown and today's fun challenge gets you listening to a community radio 📻📡station in your area!… https://t.co/nDXblNoqjA\",\n",
       " '@LGretzky Clawback is discrimination against Ontarian because #CERB is the federal fund that helps out during… https://t.co/iNqu630DQr',\n",
       " '@realDonaldTrump A real President would be on the phone right now with officials in locations hit by tornados! \"Wha… https://t.co/K2fP0D0sR1',\n",
       " 'As we celebrate Easter,  let us endeavour to keep our Lung safe and functional by #QuitSmokingforCovid.  As we all… https://t.co/y2XPu7Nydi',\n",
       " '\"HOODY” Preview ‼️🔥 #Repost #newmusic #unsignedartist #chvbbs #COVID19 https://t.co/inHClcR5dg',\n",
       " \"You are also a Real Super hero by staying at home and respecting the lockdown rules\\n\\nStay home I'll stay at work fo… https://t.co/1egJGIsSgr\",\n",
       " '2 doctors have tested positive for #COVID19 in Coimbatore https://t.co/XFtqwS3cpF',\n",
       " '@olganunes\\n \\n@illGatesMusic\\n  Oh I got a good one for lazy people \"let\\'s peak later\" ... #pandemicprocrastinator… https://t.co/ODkTnWFQD6',\n",
       " 'Working from home can be frustrating &amp; boring these days.\\nPersonalise your workspace.  You can put pictures, flower… https://t.co/Gh6OJOhyoV',\n",
       " '#FACTCHECK #COVID19 from @WHO/@WHO_Europe https://t.co/5pxPjQK2Yz',\n",
       " 'They said I resemble diamond platnumz \\nPls is it true\\n#COVID19 \\n#StaySafe \\n#follow\\n#IbadanUnrest \\n#MondayMotivaton… https://t.co/JGjmONfih8',\n",
       " 'Join @ISG_News and @AutomationAnywh for an #ISGSmartalk #webinar to discuss the power of #IntelligentAutomation, ag… https://t.co/oOeW4kHlje',\n",
       " 'Team Fife recruits taking on new jobs in coronavirus response https://t.co/Nh3UOnTUVc #coronavirus #covid19',\n",
       " '\"It is never too late to learn new skills. \\u200dThe #Covid19 lockdown is the perfect time to Unlearn and Relearn\"- Want… https://t.co/vO9yo4Yfnz',\n",
       " 'The first of @InspiredITG weekly #Covid19 Industry Reviews, detailing how brands and retailers across key sectors a… https://t.co/xiOoXzVNbM',\n",
       " 'Torah MiTzion is deeply saddened by the death of former chief rabbi, HaRav Bakshi Doron yesterday, from the #corona… https://t.co/AW9MMiknj4',\n",
       " 'Drones are an example of how technology can be used to provide innovative solutions to the coronavirus crisis. Read… https://t.co/a6GoNhg9hL',\n",
       " 'The Israeli Navy’s commando unit, Shayetet 13, understands how oxygen tanks work better than anybody.\\nNow they are… https://t.co/1MjQ4TJhPl',\n",
       " 'We continue to develop #COVID19 and #mentalhealth briefings, they can be found here on our website, do feel free to… https://t.co/ihOGfAr0HY',\n",
       " 'IPC Tanzania national guideline:\\nRule no.1: Consider everyone infections...\\n\\n#COVID19 With #communitytransmission, the risk is \"maradufu\"',\n",
       " 'With the Ramadan period upon us with no clear guidelines from the Tanzanian government on religious gatherings ,its… https://t.co/yUglNVMc42',\n",
       " \"Hey let's go catch that awesome movie in the theaters today...............#COVID19 https://t.co/HV4dVBI6uH\",\n",
       " 'Research into Lung Damage #Covid19 #Coronavirus https://t.co/sbcmPv38cu via @NewsOrkney',\n",
       " 'How easily the nitwits in the Twittersphere forget that media didn’t take COVID19 seriously in the beginning as wel… https://t.co/MISUGoe8mh',\n",
       " 'The @realDonaldTrump is #FOS. He rode the coattails of the Obama economy then #FIU - his 8th #BK… https://t.co/hBtIKKfg51',\n",
       " \"Let's keep social distance to prevent the spread of corona virus plz\\n#COVID19 \\n#tukaesafe* https://t.co/Va9YOujbeN\",\n",
       " '#Coronavirus loan scheme welcomes more lenders to UK team: https://t.co/3dO3IVgYRR #fintech #lending #banking #COVID19',\n",
       " \"I can't be the only one in the latest phase of #COVID19 sleep cycles, doing the late-evening nap followed by the no… https://t.co/PpGdBUMiux\",\n",
       " '@DiRealShaggy singing it out loud and clear. ‘We are the ones who’ll make this world whole again, we are the ones w… https://t.co/kqXNgNB24x',\n",
       " 'Great joint work to support not just observe young people during #COVID19 from @each_b @LifelabSoton @GCRF_TALENT t… https://t.co/Q6ih96TprY',\n",
       " 'Incase you’ve missed it.. I been doing weekly Vlogs from my time in quarantine (12weeks+) \\n\\nHere is week 2… https://t.co/zrDUcfPXDF',\n",
       " 'Anyone who has an opinion or opinion piece that paints a somewhat clear picture of what global business will be lik… https://t.co/1k1r10er6u']"
      ]
     },
     "execution_count": 21,
     "metadata": {},
     "output_type": "execute_result"
    }
   ],
   "source": [
    "tweet_list_nrw"
   ]
  },
  {
   "cell_type": "code",
   "execution_count": 22,
   "metadata": {},
   "outputs": [
    {
     "name": "stdout",
     "output_type": "stream",
     "text": [
      "1259\n"
     ]
    }
   ],
   "source": [
    "tweets = tw.Cursor(api.search,\n",
    "                       q=new_search,\n",
    "                       lang=\"en\",\n",
    "                       since=date_since).items(100)\n",
    "tweet_count += 1\n",
    "tweet_list_nrw = [tweet.text for tweet in tweets]\n",
    "print(tweet_count)"
   ]
  },
  {
   "cell_type": "code",
   "execution_count": 54,
   "metadata": {
    "scrolled": true
   },
   "outputs": [],
   "source": [
    "screen_name =[]\n",
    "locations =[]\n",
    "hashtags =[]\n",
    "mentions =[]\n",
    "texts =[]\n",
    "user_locs =[]\n",
    "date_since = \"2020-4-11\"\n",
    "for i,status in enumerate(Cursor(api.search,\n",
    "                       q=new_search,\n",
    "                       lang=\"en\",\n",
    "                       since=date_since).items(2000)):\n",
    "    uname = status.user.screen_name\n",
    "    loc = status.user.location\n",
    "    text = status.text\n",
    "    \n",
    "    screen_name.append(uname)\n",
    "    locations.append(loc)\n",
    "    texts.append(text)\n",
    "    if hasattr(status, \"entities\"):\n",
    "        entities = status.entities\n",
    "    \n",
    "    user_locs.append([uname,loc,text,[ent[\"text\"] for ent in entities[\"hashtags\"]],[ent[\"screen_name\"] for ent in entities[\"user_mentions\"]]])\n"
   ]
  },
  {
   "cell_type": "code",
   "execution_count": null,
   "metadata": {},
   "outputs": [],
   "source": [
    "user_locs=np.c_[screen_name,locations,texts]"
   ]
  },
  {
   "cell_type": "code",
   "execution_count": 55,
   "metadata": {
    "scrolled": true
   },
   "outputs": [
    {
     "data": {
      "text/plain": [
       "[['girishgoa',\n",
       "  'Goa',\n",
       "  'Dear @goacm, the cracks appear on day one. BLO on #CommunitySurvey falls unconcious on Road at Gogol Hsg. Board &amp; h… https://t.co/XR6qGPLtKL',\n",
       "  ['CommunitySurvey'],\n",
       "  ['goacm']],\n",
       " ['DiplomaticIfe',\n",
       "  'Podcast: \"AfriCan Geopardy\"',\n",
       "  '@UtohPaul @tysalihu @bonario89 @ChifeDr @DokunOjomo @PoliceNG @Galafi_Hamma @mydeji247 @mr_ochonogor @AsiwajuLerry… https://t.co/6j41xjfpM4',\n",
       "  [],\n",
       "  ['UtohPaul',\n",
       "   'tysalihu',\n",
       "   'bonario89',\n",
       "   'ChifeDr',\n",
       "   'DokunOjomo',\n",
       "   'PoliceNG',\n",
       "   'Galafi_Hamma',\n",
       "   'mydeji247',\n",
       "   'mr_ochonogor',\n",
       "   'AsiwajuLerry']],\n",
       " ['aruwasas',\n",
       "  'Abuja, Nigeria',\n",
       "  '#COVID19 scary #Death https://t.co/317e4wXdo6',\n",
       "  ['COVID19', 'Death'],\n",
       "  []],\n",
       " ['SharpDebbie',\n",
       "  'Bristol, England',\n",
       "  'And I thought this was a satirical post! Not fit for purpose @CQCProf . Public apology required #COVID19 https://t.co/R2TE75rxjr',\n",
       "  ['COVID19'],\n",
       "  ['CQCProf']],\n",
       " ['jimmy_halfcut',\n",
       "  'Sydney, New South Wales',\n",
       "  'Ice-ilation \\U0001f9ca🥶🤣😂\\n🌳🌳🌳\\nBit of self care during these times and a recharge 😉\\n🌳🌳🌳\\nCharging up for next Rainforests buy… https://t.co/LEEfoLNxYO',\n",
       "  [],\n",
       "  []]]"
      ]
     },
     "execution_count": 55,
     "metadata": {},
     "output_type": "execute_result"
    }
   ],
   "source": [
    "user_locs[:5]"
   ]
  },
  {
   "cell_type": "code",
   "execution_count": 56,
   "metadata": {
    "scrolled": true
   },
   "outputs": [
    {
     "data": {
      "text/plain": [
       "['CommunitySurvey',\n",
       " 'COVID19',\n",
       " 'Death',\n",
       " 'COVID19',\n",
       " 'PPEShortages',\n",
       " 'GetMePPE',\n",
       " 'MasksNow',\n",
       " 'COVID19',\n",
       " 'COVID19',\n",
       " 'MondayMotivaton',\n",
       " 'MondayMorning',\n",
       " 'MondayMood',\n",
       " 'Easter2020',\n",
       " 'COVID19',\n",
       " 'COVID19',\n",
       " 'COVID19',\n",
       " 'ico',\n",
       " 'COVID19',\n",
       " 'QuarantineLife',\n",
       " 'HomeStudio',\n",
       " 'COVID19',\n",
       " 'spanishflu',\n",
       " 'COVID19',\n",
       " 'COVID19',\n",
       " 'COVID19',\n",
       " 'Covid19',\n",
       " 'auspol',\n",
       " 'Coronavirus',\n",
       " 'StayAtHome',\n",
       " 'TheDrum',\n",
       " 'COVID19',\n",
       " 'COVID19',\n",
       " 'COVID2019',\n",
       " 'COVID19',\n",
       " 'AnythingForMumbai',\n",
       " 'covid19',\n",
       " 'keyworkers',\n",
       " 'COVID19',\n",
       " 'msm',\n",
       " 'covid19',\n",
       " 'MondayMotivation',\n",
       " 'Work',\n",
       " 'COVID19',\n",
       " 'backtobusiness',\n",
       " 'MICE',\n",
       " 'COVID19',\n",
       " 'Hydroxychloroquine',\n",
       " 'COVID19',\n",
       " 'COVID19',\n",
       " 'Covid19',\n",
       " 'COVID19',\n",
       " 'menotringmonday',\n",
       " 'covid19',\n",
       " 'COVID19',\n",
       " 'Rio',\n",
       " 'Lockdown',\n",
       " 'Punjab',\n",
       " 'Hydroxychloroquine',\n",
       " 'COVID19',\n",
       " 'COVID19',\n",
       " 'PANDEMIC',\n",
       " 'RealNews',\n",
       " 'Covid19',\n",
       " 'vareity',\n",
       " 'COVID19',\n",
       " 'StayHome',\n",
       " 'StaySafe',\n",
       " 'COVID19',\n",
       " 'Artsakh',\n",
       " 'COVID19',\n",
       " 'Odisha',\n",
       " 'COVID19',\n",
       " 'COVID19',\n",
       " 'grateful',\n",
       " 'LockdownEaster',\n",
       " 'COVID19',\n",
       " 'loveourNHS',\n",
       " 'EasterMonday',\n",
       " 'lovelife',\n",
       " 'CHANNELSTV',\n",
       " 'Covid19',\n",
       " 'lockdown',\n",
       " 'covid19',\n",
       " 'covid_19',\n",
       " 'covid19japan',\n",
       " 'covid19au',\n",
       " 'covid19nz',\n",
       " 'covid19kenya',\n",
       " 'stayhome',\n",
       " 'selfquarantine',\n",
       " 'covid19',\n",
       " 'COVID19',\n",
       " 'COVID19',\n",
       " 'CoronaVirusInNigeria',\n",
       " 'PNG',\n",
       " 'isolation',\n",
       " 'Covid19',\n",
       " 'TheProjectTV',\n",
       " 'coronavirus',\n",
       " 'Digital',\n",
       " 'iot',\n",
       " 'tech',\n",
       " 'COVID19',\n",
       " 'COVID19',\n",
       " 'coronavirus',\n",
       " 'COVID19',\n",
       " 'COVID',\n",
       " 'ethicsgroup',\n",
       " 'COVID19',\n",
       " 'coronahackathon',\n",
       " 'ivbm2020',\n",
       " 'COVID19',\n",
       " 'Covid19',\n",
       " 'day18oflockdown',\n",
       " 'COVID2019',\n",
       " 'COVID19',\n",
       " 'Covid19Out',\n",
       " 'Covid19',\n",
       " 'COVID19',\n",
       " 'COVID19',\n",
       " 'COVID19',\n",
       " 'Coronavirus',\n",
       " 'pandemic',\n",
       " 'Covid19',\n",
       " 'VINVI',\n",
       " 'VINVICORP',\n",
       " 'Steel',\n",
       " 'COVID19',\n",
       " 'MagaHateRallies',\n",
       " 'Crazy',\n",
       " 'quarantenawho',\n",
       " 'conid19',\n",
       " 'covid19',\n",
       " 'rakijavirus',\n",
       " 'NoFear',\n",
       " 'coronavirus',\n",
       " 'Italy',\n",
       " 'COVID19',\n",
       " 'Coronavirus',\n",
       " 'France',\n",
       " 'Masks4AllUK',\n",
       " 'sinoafrica',\n",
       " 'COVID19',\n",
       " 'COVID19',\n",
       " 'Vaisakhi2020',\n",
       " 'COVID19',\n",
       " 'FireTrump',\n",
       " 'CoronaVirusHOAX',\n",
       " 'COVID19',\n",
       " 'Google',\n",
       " 'Healthworkers',\n",
       " 'COVID19',\n",
       " 'EasterMonday',\n",
       " 'nightshift',\n",
       " 'CoronaVirus',\n",
       " 'COVID19',\n",
       " 'ShortBlack',\n",
       " 'coronavirus',\n",
       " 'covid19',\n",
       " 'COVID19',\n",
       " 'Odisha',\n",
       " 'OdishaFightsCorona',\n",
       " 'Covid19',\n",
       " 'COVID19outbreak',\n",
       " 'Delhi',\n",
       " 'COVID19',\n",
       " 'eufiempiretv',\n",
       " 'HappyBaisakhi',\n",
       " 'baisakhi2020',\n",
       " 'covid19',\n",
       " 'corona',\n",
       " 'coronavirus',\n",
       " 'staysafe',\n",
       " 'COVID19',\n",
       " 'MCOEXTENDED',\n",
       " 'Baisakhi',\n",
       " 'COVID19',\n",
       " 'ToryLies',\n",
       " 'DeathsNumberCoverUpUK',\n",
       " 'COVID19',\n",
       " 'Covid19',\n",
       " 'COVID19',\n",
       " 'lockdown',\n",
       " 'COVID19',\n",
       " 'coronavirus',\n",
       " 'CoronaVirusUpdate',\n",
       " 'COVID19',\n",
       " 'CoronavirusPandemic',\n",
       " 'COVID19',\n",
       " 'Covid19UK',\n",
       " 'ConnectingRyedale',\n",
       " 'COVID19',\n",
       " 'baisa',\n",
       " 'vaisakhi',\n",
       " 'baisahukum',\n",
       " 'baisastylo',\n",
       " 'Read',\n",
       " 'internet',\n",
       " 'COVID19',\n",
       " 'YogiAdityanath',\n",
       " 'COVID19',\n",
       " 'thailand',\n",
       " 'COVID19',\n",
       " 'coronavirus',\n",
       " 'COVID19',\n",
       " 'COVID19',\n",
       " 'covid19',\n",
       " 'YouTube',\n",
       " 'YouTubersReact',\n",
       " 'React',\n",
       " 'COVID19',\n",
       " 'StopConfinement',\n",
       " 'COVID19',\n",
       " 'chefboxiy',\n",
       " 'rdcchefs',\n",
       " 'rdcabuja',\n",
       " 'focaccia',\n",
       " 'covid19',\n",
       " 'Pakistan',\n",
       " 'Coronavirus',\n",
       " 'Palestinian',\n",
       " 'COVID19',\n",
       " 'COVID19',\n",
       " 'Ventilators',\n",
       " 'Covid19',\n",
       " 'agege',\n",
       " 'COVID19',\n",
       " 'lagos',\n",
       " 'LockdownLagos',\n",
       " 'Coronavirus',\n",
       " 'COVID19',\n",
       " 'Coronavirus',\n",
       " 'Covid19',\n",
       " 'Iran',\n",
       " 'Airports',\n",
       " 'airtravel',\n",
       " 'aviation',\n",
       " 'COVID19',\n",
       " 'WashingtonDC',\n",
       " 'COVID19',\n",
       " 'Covid19',\n",
       " 'Wuhan',\n",
       " 'india',\n",
       " 'covid19',\n",
       " 'drinkpurefruits',\n",
       " 'kingscolddrinks',\n",
       " 'kingsdiet',\n",
       " 'colddrinks',\n",
       " 'coronavirus',\n",
       " 'COVID19',\n",
       " 'StayAtHome',\n",
       " 'lockdown',\n",
       " 'Lagos',\n",
       " 'Italy',\n",
       " 'Spain',\n",
       " 'Nigeria',\n",
       " 'Ghana',\n",
       " 'US',\n",
       " 'UK',\n",
       " 'Somaliland',\n",
       " 'covid19',\n",
       " 'uklowrecoveryrates',\n",
       " 'COVID19',\n",
       " 'covid19',\n",
       " 'hotstove',\n",
       " 'Indonesia',\n",
       " 'covid19',\n",
       " 'COVID19',\n",
       " 'wilelihousenaivasha',\n",
       " 'naivasha',\n",
       " 'nature',\n",
       " 'conservancy',\n",
       " 'conservation',\n",
       " 'COVID19',\n",
       " 'coronavirus',\n",
       " 'COVID19',\n",
       " '2019ncov',\n",
       " 'coronavirus',\n",
       " 'COVID19',\n",
       " '2019ncov',\n",
       " 'coronavirus',\n",
       " 'COVID19',\n",
       " '2019ncov',\n",
       " 'NIETians',\n",
       " 'interactive',\n",
       " 'flat',\n",
       " 'panel',\n",
       " 'LockdownEaster',\n",
       " 'stayhomechallenge',\n",
       " 'Easter',\n",
       " 'COVID19',\n",
       " 'COVID19',\n",
       " 'covid19',\n",
       " 'COVID19',\n",
       " 'LordsOfBetrayal',\n",
       " 'COVID19',\n",
       " 'Odisha',\n",
       " 'OdishaFightsCorona',\n",
       " 'covid19',\n",
       " 'COVID19',\n",
       " 'covid19',\n",
       " 'DRCongo',\n",
       " 'Ebola',\n",
       " 'coinciding',\n",
       " 'epidemics',\n",
       " 'IndiaFightsCorona',\n",
       " 'CoronaOutbreak',\n",
       " 'COVID19',\n",
       " 'COVID19',\n",
       " 'IndiaFightsCorona',\n",
       " 'COVID19',\n",
       " 'COVID19',\n",
       " 'COVID19',\n",
       " 'COVID19',\n",
       " 'IdiotPresident',\n",
       " 'COVID19',\n",
       " 'FullertonHealth',\n",
       " 'EasterMonday',\n",
       " 'COVID19',\n",
       " 'COVID19',\n",
       " 'coronavirus',\n",
       " 'EasterMonday',\n",
       " 'Galilee',\n",
       " 'COVID19',\n",
       " 'Alisra_International_School',\n",
       " 'COVID19',\n",
       " 'COVID19',\n",
       " 'technology',\n",
       " 'COVID19',\n",
       " 'StayHome',\n",
       " 'Lockdown',\n",
       " 'Quarantine',\n",
       " 'stayhome',\n",
       " 'COVID19',\n",
       " 'NDTV',\n",
       " 'AP',\n",
       " 'Lockdown',\n",
       " 'COVID19',\n",
       " 'Coronavirus',\n",
       " 'ANdhraPradesh',\n",
       " 'libertarian',\n",
       " 'market',\n",
       " 'Covid19',\n",
       " 'roadtransport',\n",
       " 'shortage',\n",
       " 'Covid19',\n",
       " 'agriculturalmarkets',\n",
       " 'SocialDistancing',\n",
       " 'Nigeria',\n",
       " 'COVID19',\n",
       " 'Modi',\n",
       " 'PressConference',\n",
       " 'COVID19',\n",
       " 'India',\n",
       " 'coronavirus',\n",
       " 'Malta',\n",
       " 'COVID19',\n",
       " 'coronavirus',\n",
       " 'COVID19',\n",
       " 'PrawoiSprawiedliwość',\n",
       " 'HeadsUp',\n",
       " 'COVID19',\n",
       " 'ImranKhan',\n",
       " 'COVID19',\n",
       " 'covi19',\n",
       " 'covid19',\n",
       " 'COVID19',\n",
       " 'COVID19',\n",
       " 'QuaratineLife',\n",
       " 'COVID19',\n",
       " 'COVID19',\n",
       " 'StaySafe',\n",
       " 'MondayMotivation',\n",
       " 'COVID19',\n",
       " 'Covid19',\n",
       " 'Ireland',\n",
       " 'coronavirus',\n",
       " 'covid19',\n",
       " 'COVID19',\n",
       " 'COVID19',\n",
       " 'COVID19',\n",
       " 'coronavirus',\n",
       " 'covid19',\n",
       " 'Lockdown',\n",
       " 'COVID19',\n",
       " 'CoronavirusPandemic',\n",
       " 'लकडाउन',\n",
       " 'covid19',\n",
       " 'COVID19',\n",
       " 'Iran',\n",
       " 'coronavirus',\n",
       " 'covid19',\n",
       " 'pocong',\n",
       " 'COVID19',\n",
       " 'CoronaVirusUpdates',\n",
       " 'Bangladesh',\n",
       " 'COVID19',\n",
       " 'COVID19Bangladesh',\n",
       " 'COVID19',\n",
       " 'POTUSTRUMP',\n",
       " 'symptoms',\n",
       " 'COVID19',\n",
       " 'COVID19',\n",
       " 'coronavirus',\n",
       " 'COVID19',\n",
       " 'Emergencies',\n",
       " 'Covid_19',\n",
       " 'population',\n",
       " 'CX',\n",
       " 'ANDx',\n",
       " 'cx',\n",
       " 'covid19',\n",
       " 'COVID19',\n",
       " 'FakeNews',\n",
       " 'clintongate',\n",
       " 'virusgate',\n",
       " 'COVID19',\n",
       " 'SC',\n",
       " 'Lockdown',\n",
       " 'StayAtHome',\n",
       " 'StaySafe',\n",
       " 'COVID19',\n",
       " 'MooMoo',\n",
       " 'COVID19',\n",
       " 'COVID19',\n",
       " 'Covid19',\n",
       " 'jeremyvine',\n",
       " 'COVID19',\n",
       " 'CoronaVirus',\n",
       " 'Covid19',\n",
       " 'BeAware',\n",
       " 'DontPanic',\n",
       " 'Stayhome',\n",
       " 'PeaceIndia',\n",
       " 'Iran',\n",
       " 'COVID19',\n",
       " 'vaccine',\n",
       " 'Chinese',\n",
       " 'Wuhan',\n",
       " 'StJohnPeople',\n",
       " 'COVID19',\n",
       " 'COVID19',\n",
       " 'SC',\n",
       " 'COVID19',\n",
       " 'Uganda',\n",
       " 'coronavirus',\n",
       " 'COVID19',\n",
       " 'COVID19',\n",
       " 'covid19',\n",
       " 'Covid19',\n",
       " 'COVID19',\n",
       " 'COVID19',\n",
       " 'shields4manchester',\n",
       " 'PPE',\n",
       " 'COVID19',\n",
       " 'Covid19',\n",
       " 'COVID19',\n",
       " 'business',\n",
       " 'management',\n",
       " 'productivity',\n",
       " 'TheNextWeb',\n",
       " 'COVID19',\n",
       " 'Trump',\n",
       " 'BacktoWorkAmerica',\n",
       " 'unemployment',\n",
       " 'MediaDiaries',\n",
       " 'COVID19',\n",
       " 'Coronavirus',\n",
       " 'COVID2019',\n",
       " 'coronavirus',\n",
       " 'COVID19',\n",
       " 'China',\n",
       " 'covid19',\n",
       " 'cajones',\n",
       " 'japan',\n",
       " 'covi̇d19',\n",
       " 'quarantine',\n",
       " 'lego',\n",
       " 'dinosaur',\n",
       " 'COVID19',\n",
       " 'BillGates',\n",
       " 'coronavirus',\n",
       " 'Covid19',\n",
       " 'StayAtHomeAndStaySafe',\n",
       " 'StayAtHomeChallenge',\n",
       " 'COVID19',\n",
       " 'Afghanistan',\n",
       " 'COVID19',\n",
       " 'COVID19',\n",
       " 'COVID19',\n",
       " 'COVID19',\n",
       " 'UKManufacturers',\n",
       " 'COVID19',\n",
       " 'COVID19',\n",
       " 'Heathrow',\n",
       " 'LHR',\n",
       " 'COVID19',\n",
       " 'COVID19',\n",
       " 'Baisakhi',\n",
       " 'ASEAN',\n",
       " 'COVID19',\n",
       " 'IndiaFightsCorona',\n",
       " 'COVID19',\n",
       " 'coronavirus',\n",
       " 'covid19',\n",
       " 'lockdown',\n",
       " 'stayhomestaysafe',\n",
       " 'GOP',\n",
       " 'BinLaden',\n",
       " 'MuellerReport',\n",
       " 'UE',\n",
       " 'COVID19',\n",
       " 'COVID19',\n",
       " 'COVID19',\n",
       " 'covid19',\n",
       " 'Florida',\n",
       " 'covid19',\n",
       " 'ThePack',\n",
       " 'workshop',\n",
       " 'COVID19',\n",
       " 'HIREDConsult',\n",
       " 'IIHD',\n",
       " 'MUN4Skills',\n",
       " 'BusinessGate',\n",
       " 'UnitingBusiness',\n",
       " 'StayAtHomeSaveLives',\n",
       " 'StayHomeSaveLives',\n",
       " 'COVID19',\n",
       " 'MondayMotivaton',\n",
       " 'AgegeUnrest',\n",
       " 'NCDC',\n",
       " 'COVID19',\n",
       " 'privacy',\n",
       " 'COVID19',\n",
       " 'COVID19',\n",
       " 'TablighiJamaat',\n",
       " 'Covid19',\n",
       " 'SC',\n",
       " 'COVID19',\n",
       " 'SupremeCourt',\n",
       " 'Afghanistan',\n",
       " 'Coronavirus',\n",
       " 'COVID19',\n",
       " 'CoViD19',\n",
       " 'COVID19',\n",
       " 'covid19',\n",
       " 'IsolationLife',\n",
       " 'International',\n",
       " 'Students',\n",
       " 'COVID19',\n",
       " 'Singapore',\n",
       " 'Ruud',\n",
       " 'Gasquet',\n",
       " 'Thiem',\n",
       " 'Lopez',\n",
       " 'COVID19',\n",
       " 'Norway',\n",
       " 'ASEAN2020VN',\n",
       " 'CohesiveAndResponsive',\n",
       " 'WeWillWinTogether',\n",
       " 'manchester',\n",
       " 'NHSNightingale',\n",
       " 'COVID19',\n",
       " 'JoySMS',\n",
       " 'COVID19',\n",
       " 'HIV',\n",
       " 'WhenInKL',\n",
       " 'Lockdown',\n",
       " 'MCO',\n",
       " 'COVID19',\n",
       " 'FoodPorn',\n",
       " 'NoMSG',\n",
       " 'GratefulHeart',\n",
       " 'CoronaVirus',\n",
       " 'itscoronatime',\n",
       " 'COVID19',\n",
       " 'LockdownSA',\n",
       " 'comedy',\n",
       " 'GunControlNow',\n",
       " 'COVID19',\n",
       " 'StayHomeSaveLives',\n",
       " 'COVID19',\n",
       " 'lockDownSouthAfrica',\n",
       " 'NSTnation',\n",
       " 'COVID19',\n",
       " 'COVID19',\n",
       " 'COVID19',\n",
       " 'Covid19',\n",
       " 'StayatHome',\n",
       " 'auspol',\n",
       " 'Coronavirus',\n",
       " 'StayAtHome',\n",
       " 'TheDrum',\n",
       " 'Covid19',\n",
       " 'Coronavirus',\n",
       " 'US',\n",
       " 'nCoV19',\n",
       " 'NewYork',\n",
       " 'NYC',\n",
       " 'COVID19',\n",
       " 'CoronaVirus',\n",
       " 'Nashik',\n",
       " 'Covid19',\n",
       " 'Sinnar',\n",
       " 'COVID19',\n",
       " 'Cuban',\n",
       " 'Italy',\n",
       " 'COVID19',\n",
       " 'COVID19',\n",
       " 'brightside',\n",
       " 'CatsOfTheQuarantine',\n",
       " 'CatsOnTwitter',\n",
       " 'COVID19',\n",
       " 'COVID19',\n",
       " 'COVID19',\n",
       " 'COVID19',\n",
       " 'Covid19',\n",
       " 'SARS',\n",
       " 'Covid19',\n",
       " 'Covid19',\n",
       " 'peopleofdetermination',\n",
       " 'southkorea',\n",
       " 'repeatedcases',\n",
       " 'covid19',\n",
       " 'reinfection',\n",
       " 'CoronavirusUSA',\n",
       " 'COVID19',\n",
       " 'Quarantine',\n",
       " 'Vlash',\n",
       " 'World',\n",
       " 'Trump',\n",
       " 'Fauci',\n",
       " 'COVID19',\n",
       " 'TrumpsEgo',\n",
       " 'COVID19',\n",
       " 'Covid19',\n",
       " 'COVID19',\n",
       " 'LKA',\n",
       " 'StayAtHomeSaveLives',\n",
       " 'StayHome',\n",
       " 'Pakistan',\n",
       " 'online',\n",
       " 'energy',\n",
       " 'cloudcomputing',\n",
       " 'COVID19',\n",
       " 'COVID19',\n",
       " 'StayHome',\n",
       " 'COVID19',\n",
       " 'Assam',\n",
       " 'COVIDー19',\n",
       " 'HongKong',\n",
       " 'Iran',\n",
       " 'COVIDー19',\n",
       " 'COVID19',\n",
       " 'COVID19',\n",
       " 'COVID19',\n",
       " 'SmarterThanTrump',\n",
       " 'MCA',\n",
       " 'CoronaVirus',\n",
       " 'Covid19',\n",
       " 'BeAware',\n",
       " 'DontPanic',\n",
       " 'Stayhome',\n",
       " 'PeaceIndia',\n",
       " 'COVID19',\n",
       " 'COVID19',\n",
       " 'IbadanUnrest',\n",
       " 'LagosUnrest',\n",
       " 'TheDrum',\n",
       " 'COVID19',\n",
       " 'Trust',\n",
       " 'LNP',\n",
       " 'COVID19',\n",
       " 'CHANNELSTV',\n",
       " 'Covid19',\n",
       " 'lockdown',\n",
       " 'COVID19',\n",
       " 'COVID19',\n",
       " 'Evidence',\n",
       " 'Review',\n",
       " 'Recommendations',\n",
       " 'Surgeons',\n",
       " 'COVID19',\n",
       " 'Coronavirus',\n",
       " 'Covid19',\n",
       " 'COVID19',\n",
       " 'COVID19',\n",
       " 'COVID19',\n",
       " 'COVID19',\n",
       " 'IndiaFightsCorona',\n",
       " 'covid19',\n",
       " 'COVID19',\n",
       " 'COVID19',\n",
       " 'stayhome',\n",
       " 'staysafe',\n",
       " 'covıd19',\n",
       " 'corona',\n",
       " 'CoronaVirus',\n",
       " 'Covid19',\n",
       " 'BeAware',\n",
       " 'DontPanic',\n",
       " 'Stayhome',\n",
       " 'PeaceIndia',\n",
       " 'COVID19',\n",
       " 'Antiparasitic',\n",
       " 'Covid19',\n",
       " 'Coronavirus',\n",
       " 'coronaupdatesindia',\n",
       " 'COVID2019',\n",
       " 'Covid_19',\n",
       " 'CoronaLockdown',\n",
       " 'Rapture',\n",
       " 'XiJinping',\n",
       " 'COVID19',\n",
       " 'COVID19',\n",
       " 'Kenyans',\n",
       " 'AICHR',\n",
       " 'humanrights',\n",
       " 'Trump',\n",
       " 'TimBrookeTaylor',\n",
       " 'Goodies',\n",
       " 'Coronavirus',\n",
       " 'Covid19',\n",
       " 'DeathRate',\n",
       " 'SocialDistancinguk',\n",
       " 'COVID19',\n",
       " 'Fauci',\n",
       " 'covid19',\n",
       " 'coronavirus',\n",
       " 'airborneHIV',\n",
       " 'gp120',\n",
       " 'coronavirus',\n",
       " 'CoronaVirusUpdate',\n",
       " 'COVID19',\n",
       " 'CoronavirusPandemic',\n",
       " 'COVID19',\n",
       " 'COVID19',\n",
       " 'mentalhealth',\n",
       " 'COVID19',\n",
       " 'Johnson',\n",
       " 'NHS',\n",
       " 'covid19',\n",
       " 'COVID19',\n",
       " 'AYUSH',\n",
       " 'COVID19',\n",
       " 'Goa',\n",
       " 'COVID19',\n",
       " 'covid19',\n",
       " 'COVID19',\n",
       " 'COVID19',\n",
       " 'CoronaVirus',\n",
       " 'Covid19',\n",
       " 'BeAware',\n",
       " 'DontPanic',\n",
       " 'Stayhome',\n",
       " 'PeaceIndia',\n",
       " 'Covid19',\n",
       " 'COVID19',\n",
       " 'shinepublications',\n",
       " 'paskalaka',\n",
       " 'djswitch',\n",
       " 'Ghana',\n",
       " 'COVID19',\n",
       " 'COVID19',\n",
       " 'COVID19',\n",
       " 'CORONAVIRUS',\n",
       " 'COVID19',\n",
       " 'UK',\n",
       " 'Europe',\n",
       " 'COVID19',\n",
       " 'TopStory',\n",
       " 'COVID19',\n",
       " 'covid19',\n",
       " 'COVID19',\n",
       " 'Stupidity',\n",
       " 'COVID19',\n",
       " 'COVID',\n",
       " 'COVID19',\n",
       " 'COVID19',\n",
       " 'JoySMS',\n",
       " 'Covid19',\n",
       " 'FaceMask',\n",
       " 'auspol',\n",
       " 'Coronavirus',\n",
       " 'StayAtHome',\n",
       " 'TheDrum',\n",
       " 'COVID19',\n",
       " 'COVID19',\n",
       " 'COVIDー19',\n",
       " 'confinement',\n",
       " 'CoolStory',\n",
       " 'Corona',\n",
       " 'day18oflockdown',\n",
       " 'Covid_19',\n",
       " 'EasterMonday',\n",
       " 'HabertuerkteKimOsurdu',\n",
       " 'StayHome',\n",
       " 'COVID19',\n",
       " '7DayChallenge',\n",
       " 'CoronaVirus',\n",
       " 'Covid19',\n",
       " 'BeAware',\n",
       " 'DontPanic',\n",
       " 'Stayhome',\n",
       " 'PeaceIndia',\n",
       " 'SinghBCA',\n",
       " 'Coronavirus',\n",
       " 'theatre',\n",
       " 'theatrekid',\n",
       " 'theatrememe',\n",
       " 'musical',\n",
       " 'six',\n",
       " 'COVID19',\n",
       " 'Russia',\n",
       " 'COVID19',\n",
       " 'covid19',\n",
       " 'COVID19',\n",
       " 'COVID19',\n",
       " 'COVID19',\n",
       " 'COVID19',\n",
       " 'mediacovid',\n",
       " 'opossitioncovid',\n",
       " 'judiciery_covid',\n",
       " 'Iran',\n",
       " 'Luxembourg',\n",
       " 'coronavirus',\n",
       " 'cancer',\n",
       " 'birthday',\n",
       " 'celebrities',\n",
       " 'Nigeria',\n",
       " 'african',\n",
       " 'Covid19',\n",
       " 'covid19vaccine',\n",
       " 'covid19med',\n",
       " 'covid19',\n",
       " 'COVID19',\n",
       " 'COVID19',\n",
       " 'اللّه_سےمددمانگ',\n",
       " 'COVID19',\n",
       " 'COVID19',\n",
       " 'LeoVaradkar',\n",
       " 'covid19',\n",
       " 'Covid19',\n",
       " 'stayhome',\n",
       " 'staysafe',\n",
       " 'stayalive',\n",
       " 'fashion',\n",
       " 'trend',\n",
       " 'flames',\n",
       " 'NHS',\n",
       " 'FrontLineHeroes',\n",
       " 'coronavirus',\n",
       " 'COVID19',\n",
       " 'SDIFORCE',\n",
       " 'COVID19',\n",
       " 'COVID19',\n",
       " 'coronavirus',\n",
       " 'COVID',\n",
       " 'COVID19',\n",
       " 'StayHome',\n",
       " 'COVID19',\n",
       " 'COVID19',\n",
       " 'Covid_19',\n",
       " 'COVIDー19',\n",
       " 'Corona',\n",
       " 'TrumpVirus',\n",
       " 'coronavirus',\n",
       " 'covid19',\n",
       " 'easter',\n",
       " 'rabbit',\n",
       " 'COVID19',\n",
       " 'COVID19',\n",
       " 'COVID2019india',\n",
       " 'StayHomeStaySafe',\n",
       " 'BhilwaraModel',\n",
       " 'NHS',\n",
       " 'covid19',\n",
       " 'StayAtHomeSaveLives',\n",
       " 'StayHome',\n",
       " 'COVID2019',\n",
       " 'COVID19',\n",
       " 'coronamadrid',\n",
       " 'Covid_19',\n",
       " 'COVID2019',\n",
       " 'COVID19',\n",
       " 'CoronaVirus',\n",
       " 'Covid19',\n",
       " 'BeAware',\n",
       " 'DontPanic',\n",
       " 'Stayhome',\n",
       " 'PeaceIndia',\n",
       " 'Tunisia',\n",
       " 'Italy',\n",
       " 'COVID19',\n",
       " 'COVID19',\n",
       " 'COVID19',\n",
       " 'NHS',\n",
       " 'covid19',\n",
       " 'StayAtHomeSaveLives',\n",
       " 'StayHome',\n",
       " 'COVID2019',\n",
       " 'farming',\n",
       " 'covid19',\n",
       " 'Iran',\n",
       " 'COVID19',\n",
       " 'NITIAayog',\n",
       " 'COVID19',\n",
       " 'surgery',\n",
       " 'COVID19',\n",
       " 'mask',\n",
       " 'masks',\n",
       " 'home',\n",
       " 'maskdiy',\n",
       " 'StayHomeSaveLives',\n",
       " 'StayAtHome',\n",
       " 'facemask',\n",
       " 'MasksForThePeople',\n",
       " 'MasksNow',\n",
       " 'maskusa',\n",
       " 'COVID',\n",
       " 'covid19',\n",
       " 'coronavirus',\n",
       " 'Nigeria',\n",
       " 'COVID19',\n",
       " 'DRERIKKARLSTROM',\n",
       " 'TARGETEDINDIVIDUALS',\n",
       " 'DEPOPULATION',\n",
       " 'EUGENICS',\n",
       " 'CORONAVIRUS',\n",
       " 'COVID19',\n",
       " 'COVID19',\n",
       " 'COVID19',\n",
       " 'Leadership',\n",
       " 'COVID19',\n",
       " 'Brexit',\n",
       " 'EURUSD',\n",
       " 'OPEC',\n",
       " 'markets',\n",
       " 'asia',\n",
       " 'COVID19',\n",
       " 'BorisTheButcher',\n",
       " 'NHS',\n",
       " 'Kashmir',\n",
       " 'Covid19',\n",
       " 'StayHome',\n",
       " 'humanrights',\n",
       " 'COVID19',\n",
       " 'Algeria',\n",
       " 'COVID19',\n",
       " 'tPA',\n",
       " 'anticoagulant',\n",
       " 'ICU',\n",
       " 'Covid_19',\n",
       " 'COVID19',\n",
       " 'SARS_CoV2',\n",
       " 'Lockdown',\n",
       " 'Coronavirus',\n",
       " 'CoronaVirusUpdates',\n",
       " 'CoronavirusOutbreakindia',\n",
       " 'CoronavirusOutbreak',\n",
       " 'COVID19',\n",
       " 'Iran',\n",
       " 'Coronavirus',\n",
       " 'PMOI',\n",
       " 'Coronavirus',\n",
       " 'covi̇d19',\n",
       " 'stayhome',\n",
       " 'staysafestayhome',\n",
       " 'fuckcovid19',\n",
       " 'COVID19',\n",
       " 'IbadanUnrest',\n",
       " 'LagosUnrest',\n",
       " 'COVID19Pandemic',\n",
       " 'Brazil',\n",
       " 'Peru',\n",
       " 'Ecuador',\n",
       " 'SouthAmerica',\n",
       " 'coronavirus',\n",
       " 'COVID2019',\n",
       " 'Covid_19',\n",
       " 'COVID19',\n",
       " 'covid19',\n",
       " 'COVID19',\n",
       " 'COVID19',\n",
       " 'epidemiology',\n",
       " 'pathophysiology',\n",
       " 'TablighiJamaat',\n",
       " 'Covid19',\n",
       " 'BioWeapon',\n",
       " 'COVID19',\n",
       " 'coronavirusuk',\n",
       " 'coronavirus',\n",
       " 'COVID19',\n",
       " 'NHSCovidHeroes',\n",
       " 'StayHome',\n",
       " 'StaySafe',\n",
       " 'COVID19',\n",
       " 'BkMagazine',\n",
       " 'Bangkok',\n",
       " 'KhaosanRoad',\n",
       " ...]"
      ]
     },
     "execution_count": 56,
     "metadata": {},
     "output_type": "execute_result"
    }
   ],
   "source": [
    "hashtags"
   ]
  },
  {
   "cell_type": "code",
   "execution_count": 57,
   "metadata": {},
   "outputs": [
    {
     "data": {
      "text/html": [
       "<div>\n",
       "<style scoped>\n",
       "    .dataframe tbody tr th:only-of-type {\n",
       "        vertical-align: middle;\n",
       "    }\n",
       "\n",
       "    .dataframe tbody tr th {\n",
       "        vertical-align: top;\n",
       "    }\n",
       "\n",
       "    .dataframe thead th {\n",
       "        text-align: right;\n",
       "    }\n",
       "</style>\n",
       "<table border=\"1\" class=\"dataframe\">\n",
       "  <thead>\n",
       "    <tr style=\"text-align: right;\">\n",
       "      <th></th>\n",
       "      <th>user</th>\n",
       "      <th>location</th>\n",
       "      <th>text</th>\n",
       "      <th>hashtags</th>\n",
       "      <th>mentions</th>\n",
       "    </tr>\n",
       "  </thead>\n",
       "  <tbody>\n",
       "    <tr>\n",
       "      <th>0</th>\n",
       "      <td>girishgoa</td>\n",
       "      <td>Goa</td>\n",
       "      <td>Dear @goacm, the cracks appear on day one. BLO...</td>\n",
       "      <td>[CommunitySurvey]</td>\n",
       "      <td>[goacm]</td>\n",
       "    </tr>\n",
       "    <tr>\n",
       "      <th>1</th>\n",
       "      <td>DiplomaticIfe</td>\n",
       "      <td>Podcast: \"AfriCan Geopardy\"</td>\n",
       "      <td>@UtohPaul @tysalihu @bonario89 @ChifeDr @Dokun...</td>\n",
       "      <td>[]</td>\n",
       "      <td>[UtohPaul, tysalihu, bonario89, ChifeDr, Dokun...</td>\n",
       "    </tr>\n",
       "    <tr>\n",
       "      <th>2</th>\n",
       "      <td>aruwasas</td>\n",
       "      <td>Abuja, Nigeria</td>\n",
       "      <td>#COVID19 scary #Death https://t.co/317e4wXdo6</td>\n",
       "      <td>[COVID19, Death]</td>\n",
       "      <td>[]</td>\n",
       "    </tr>\n",
       "    <tr>\n",
       "      <th>3</th>\n",
       "      <td>SharpDebbie</td>\n",
       "      <td>Bristol, England</td>\n",
       "      <td>And I thought this was a satirical post! Not f...</td>\n",
       "      <td>[COVID19]</td>\n",
       "      <td>[CQCProf]</td>\n",
       "    </tr>\n",
       "    <tr>\n",
       "      <th>4</th>\n",
       "      <td>jimmy_halfcut</td>\n",
       "      <td>Sydney, New South Wales</td>\n",
       "      <td>Ice-ilation 🧊🥶🤣😂\\n🌳🌳🌳\\nBit of self care during...</td>\n",
       "      <td>[]</td>\n",
       "      <td>[]</td>\n",
       "    </tr>\n",
       "    <tr>\n",
       "      <th>...</th>\n",
       "      <td>...</td>\n",
       "      <td>...</td>\n",
       "      <td>...</td>\n",
       "      <td>...</td>\n",
       "      <td>...</td>\n",
       "    </tr>\n",
       "    <tr>\n",
       "      <th>1995</th>\n",
       "      <td>RNRSTV</td>\n",
       "      <td>White Rock, British Columbia</td>\n",
       "      <td>Isolation Island - Soul in the City - Playlist...</td>\n",
       "      <td>[ISOLATIONISLAN, TOURBUSTV, COVID19]</td>\n",
       "      <td>[]</td>\n",
       "    </tr>\n",
       "    <tr>\n",
       "      <th>1996</th>\n",
       "      <td>UpdateCovid</td>\n",
       "      <td></td>\n",
       "      <td>Coronavirus Update:\\n☣️️ Total cases: 1,856,83...</td>\n",
       "      <td>[]</td>\n",
       "      <td>[]</td>\n",
       "    </tr>\n",
       "    <tr>\n",
       "      <th>1997</th>\n",
       "      <td>sbmg_assam</td>\n",
       "      <td>Guwahati, India</td>\n",
       "      <td>PHE Department installed Hand Washing Units at...</td>\n",
       "      <td>[SwachhBharat, SwachhAssam]</td>\n",
       "      <td>[]</td>\n",
       "    </tr>\n",
       "    <tr>\n",
       "      <th>1998</th>\n",
       "      <td>Globalmenhealth</td>\n",
       "      <td></td>\n",
       "      <td>The gendered dimensions of #COVID19. Important...</td>\n",
       "      <td>[COVID19]</td>\n",
       "      <td>[TheLancet]</td>\n",
       "    </tr>\n",
       "    <tr>\n",
       "      <th>1999</th>\n",
       "      <td>Baznick56</td>\n",
       "      <td>Enfield, Middlesex</td>\n",
       "      <td>Boris even used the term ...it changed when We...</td>\n",
       "      <td>[]</td>\n",
       "      <td>[]</td>\n",
       "    </tr>\n",
       "  </tbody>\n",
       "</table>\n",
       "<p>2000 rows × 5 columns</p>\n",
       "</div>"
      ],
      "text/plain": [
       "                 user                      location  \\\n",
       "0           girishgoa                           Goa   \n",
       "1       DiplomaticIfe   Podcast: \"AfriCan Geopardy\"   \n",
       "2            aruwasas                Abuja, Nigeria   \n",
       "3         SharpDebbie              Bristol, England   \n",
       "4       jimmy_halfcut       Sydney, New South Wales   \n",
       "...               ...                           ...   \n",
       "1995           RNRSTV  White Rock, British Columbia   \n",
       "1996      UpdateCovid                                 \n",
       "1997       sbmg_assam               Guwahati, India   \n",
       "1998  Globalmenhealth                                 \n",
       "1999        Baznick56            Enfield, Middlesex   \n",
       "\n",
       "                                                   text  \\\n",
       "0     Dear @goacm, the cracks appear on day one. BLO...   \n",
       "1     @UtohPaul @tysalihu @bonario89 @ChifeDr @Dokun...   \n",
       "2         #COVID19 scary #Death https://t.co/317e4wXdo6   \n",
       "3     And I thought this was a satirical post! Not f...   \n",
       "4     Ice-ilation 🧊🥶🤣😂\\n🌳🌳🌳\\nBit of self care during...   \n",
       "...                                                 ...   \n",
       "1995  Isolation Island - Soul in the City - Playlist...   \n",
       "1996  Coronavirus Update:\\n☣️️ Total cases: 1,856,83...   \n",
       "1997  PHE Department installed Hand Washing Units at...   \n",
       "1998  The gendered dimensions of #COVID19. Important...   \n",
       "1999  Boris even used the term ...it changed when We...   \n",
       "\n",
       "                                  hashtags  \\\n",
       "0                        [CommunitySurvey]   \n",
       "1                                       []   \n",
       "2                         [COVID19, Death]   \n",
       "3                                [COVID19]   \n",
       "4                                       []   \n",
       "...                                    ...   \n",
       "1995  [ISOLATIONISLAN, TOURBUSTV, COVID19]   \n",
       "1996                                    []   \n",
       "1997           [SwachhBharat, SwachhAssam]   \n",
       "1998                             [COVID19]   \n",
       "1999                                    []   \n",
       "\n",
       "                                               mentions  \n",
       "0                                               [goacm]  \n",
       "1     [UtohPaul, tysalihu, bonario89, ChifeDr, Dokun...  \n",
       "2                                                    []  \n",
       "3                                             [CQCProf]  \n",
       "4                                                    []  \n",
       "...                                                 ...  \n",
       "1995                                                 []  \n",
       "1996                                                 []  \n",
       "1997                                                 []  \n",
       "1998                                        [TheLancet]  \n",
       "1999                                                 []  \n",
       "\n",
       "[2000 rows x 5 columns]"
      ]
     },
     "execution_count": 57,
     "metadata": {},
     "output_type": "execute_result"
    }
   ],
   "source": [
    "tweet_data = pd.DataFrame(data=user_locs,\n",
    "                         columns=['user','location','text','hashtags','mentions'])\n",
    "tweet_data"
   ]
  },
  {
   "cell_type": "code",
   "execution_count": 63,
   "metadata": {},
   "outputs": [
    {
     "data": {
      "text/plain": [
       "['Inspired by Conway\\'s \"Game of Life\" (yes, another Amiga classic) this time-series model uses a SIR epidemiological… https://t.co/QqsOCAW9Zk',\n",
       " '@Dribelo1 @ILuvCO2 @AlaMerQld @Stephengn @RoyPentland @EthonRaptor @weather_talk @craigthomler @3GHtweets @Lockg13… https://t.co/vPjNLqQBA8',\n",
       " '@ProudResister @JoeBiden Makes about as much sense as claiming climate change is the #1 priority and then voting fo… https://t.co/EO5lc4Szvn',\n",
       " '@njokingumi 😂 But we need to be careful, some climate change deniers could start using these jokes to argue their point 😬',\n",
       " \"Not saying it will happen, but wouldn't be the first time one of the horseman caused a major downfall. \\n\\nEspecially… https://t.co/uzZ5gzl9vI\"]"
      ]
     },
     "execution_count": 63,
     "metadata": {},
     "output_type": "execute_result"
    }
   ],
   "source": [
    "new_search = \"climate+change -filter:retweets\"\n",
    "\n",
    "tweets = tw.Cursor(api.search,\n",
    "                   q=new_search,\n",
    "                   lang=\"en\",\n",
    "                   since='2020-01-23').items(1000)\n",
    "\n",
    "all_tweets = [tweet.text for tweet in tweets]\n",
    "all_tweets[:5]\n"
   ]
  },
  {
   "cell_type": "code",
   "execution_count": null,
   "metadata": {
    "scrolled": true
   },
   "outputs": [],
   "source": [
    "# Cleaning Data and Frequency analysis\n",
    "!pip3 install nltk"
   ]
  },
  {
   "cell_type": "code",
   "execution_count": 29,
   "metadata": {},
   "outputs": [
    {
     "name": "stdout",
     "output_type": "stream",
     "text": [
      "\u001b[31mERROR: Could not find a version that satisfies the requirement re (from versions: none)\u001b[0m\n",
      "\u001b[31mERROR: No matching distribution found for re\u001b[0m\n",
      "Requirement already satisfied: networkx in /usr/local/lib/python3.7/site-packages (2.4)\n",
      "Requirement already satisfied: decorator>=4.3.0 in /usr/local/lib/python3.7/site-packages (from networkx) (4.4.2)\n"
     ]
    }
   ],
   "source": [
    "!pip3 install re\n",
    "!pip3 install networkx"
   ]
  },
  {
   "cell_type": "code",
   "execution_count": 2,
   "metadata": {},
   "outputs": [],
   "source": [
    "import os\n",
    "import pandas as pd\n",
    "import matplotlib as sns\n",
    "import seaborn as sns\n",
    "import itertools\n",
    "import collections\n",
    "\n",
    "import tweepy as tw\n",
    "import nltk\n",
    "from nltk.corpus import stopwords\n",
    "import re\n",
    "import networkx\n",
    "import warnings\n",
    "\n",
    "warnings.filterwarnings(\"ignore\")\n",
    "sns.set(font_scale=1.5)\n",
    "sns.set_style(\"whitegrid\")"
   ]
  },
  {
   "cell_type": "code",
   "execution_count": null,
   "metadata": {},
   "outputs": [],
   "source": [
    "itertools?"
   ]
  },
  {
   "cell_type": "code",
   "execution_count": 3,
   "metadata": {},
   "outputs": [],
   "source": [
    "access_token = \"1000996991860527105-QFYZ9XqSNaMWs6rJNRtujOrzn1KBxi\"\n",
    "access_token_secret = \"MbR7g7I6r3uPIJoGuOYQlhej5TgZGfB2jJ9l0aGejXfdf\"\n",
    "consumer_key = \"ZpYly1EpybyM0wBVdFiulvxEh\"\n",
    "consumer_secret = \"kE0a9yq13tchDYkq9WLJ2AnnPMmYnfkRufYxhPoyTDGIDYgLJM\""
   ]
  },
  {
   "cell_type": "code",
   "execution_count": 4,
   "metadata": {},
   "outputs": [],
   "source": [
    "auth = tw.OAuthHandler(consumer_key, consumer_secret)\n",
    "auth.set_access_token(access_token, access_token_secret)\n",
    "api = tw.API(auth, wait_on_rate_limit=True)"
   ]
  },
  {
   "cell_type": "code",
   "execution_count": 5,
   "metadata": {},
   "outputs": [],
   "source": [
    "search_term = '#climate+change -filter:retweets'\n",
    "tweets = tw.Cursor(api.search,q=search_term,lang=\"en\",since=\"2020-4-05\").items(1000)\n",
    "\n",
    "all_tweets = [tweet.text for tweet in tweets]"
   ]
  },
  {
   "cell_type": "code",
   "execution_count": 123,
   "metadata": {},
   "outputs": [
    {
     "data": {
      "text/plain": [
       "['Very good analysis by @McKinsey on relationships,  similarities &amp; differences between #Pandemics and #climate #risk… https://t.co/hndUwkm0pd',\n",
       " '#FEMA is overwhelmed, fire crews can’t fully prepare, emergency shelters are newly dangerous. And forecasters predi… https://t.co/cbktUZzmud',\n",
       " 'Can attitude help save the planet? A frightened #climate reporter meets an ex-basketball player with a serious game… https://t.co/ORqidVM9ca',\n",
       " 'The #coronavirus pandemic has put important #climate research in the #Arctic on hold https://t.co/AUSfjWoGFK',\n",
       " '#FEMA is overwhelmed, fire crews can’t fully prepare, emergency shelters are newly dangerous. And forecasters predi… https://t.co/tUL2XFMQXR']"
      ]
     },
     "execution_count": 123,
     "metadata": {},
     "output_type": "execute_result"
    }
   ],
   "source": [
    "all_tweets[:5]"
   ]
  },
  {
   "cell_type": "code",
   "execution_count": null,
   "metadata": {},
   "outputs": [],
   "source": [
    "re? #string operations for text cleaning"
   ]
  },
  {
   "cell_type": "code",
   "execution_count": 124,
   "metadata": {},
   "outputs": [],
   "source": [
    "def remove_url(txt):\n",
    "    #Replace URLs found in a text string with nothing \n",
    "    return \" \".join(re.sub(\"([^0-9A-Za-z \\t])|(\\w+:\\/\\/\\S+)\",\"\",txt).split())"
   ]
  },
  {
   "cell_type": "code",
   "execution_count": 205,
   "metadata": {},
   "outputs": [],
   "source": [
    "all_tweets_nourls = [remove_url(tweet) for tweet in all_tweets]"
   ]
  },
  {
   "cell_type": "code",
   "execution_count": 206,
   "metadata": {},
   "outputs": [
    {
     "data": {
      "text/plain": [
       "['Very good analysis by @McKinsey on relationships,  similarities &amp; differences between #Pandemics and #climate #risk… ',\n",
       " '#FEMA is overwhelmed, fire crews can’t fully prepare, emergency shelters are newly dangerous. And forecasters predi… ',\n",
       " 'Can attitude help save the planet? A frightened #climate reporter meets an ex-basketball player with a serious game… ',\n",
       " 'The #coronavirus pandemic has put important #climate research in the #Arctic on hold ',\n",
       " '#FEMA is overwhelmed, fire crews can’t fully prepare, emergency shelters are newly dangerous. And forecasters predi… ']"
      ]
     },
     "execution_count": 206,
     "metadata": {},
     "output_type": "execute_result"
    }
   ],
   "source": [
    "all_tweets_nourls[:5]"
   ]
  },
  {
   "cell_type": "code",
   "execution_count": 199,
   "metadata": {},
   "outputs": [
    {
     "data": {
      "text/plain": [
       "{',', 'Dog', 'cat', 'dog'}"
      ]
     },
     "execution_count": 199,
     "metadata": {},
     "output_type": "execute_result"
    }
   ],
   "source": [
    "ex_list = [\"Dog\", \"dog\", \"dog\", \"cat\", \"cat\", \",\"]\n",
    "set(ex_list) #unique elements in a list #can't get unique words"
   ]
  },
  {
   "cell_type": "code",
   "execution_count": 88,
   "metadata": {},
   "outputs": [
    {
     "data": {
      "text/plain": [
       "['dog', 'dog', 'dog', 'cat', 'cat', ',']"
      ]
     },
     "execution_count": 88,
     "metadata": {},
     "output_type": "execute_result"
    }
   ],
   "source": [
    "words_list = [\"Dog\", \"dog\", \"dog\", \"cat\", \"cat\", \",\"]\n",
    "lower_case = [word.lower() for word in words_list]\n",
    "lower_case\n"
   ]
  },
  {
   "cell_type": "code",
   "execution_count": 40,
   "metadata": {},
   "outputs": [
    {
     "data": {
      "text/plain": [
       "{',', 'cat', 'dog'}"
      ]
     },
     "execution_count": 40,
     "metadata": {},
     "output_type": "execute_result"
    }
   ],
   "source": [
    "set(lower_case) #unique words for word frequency analysis"
   ]
  },
  {
   "cell_type": "code",
   "execution_count": 127,
   "metadata": {},
   "outputs": [
    {
     "data": {
      "text/plain": [
       "['Very',\n",
       " 'good',\n",
       " 'analysis',\n",
       " 'by',\n",
       " 'McKinsey',\n",
       " 'on',\n",
       " 'relationships',\n",
       " 'similarities',\n",
       " 'amp',\n",
       " 'differences',\n",
       " 'between',\n",
       " 'Pandemics',\n",
       " 'and',\n",
       " 'climate',\n",
       " 'risk']"
      ]
     },
     "execution_count": 127,
     "metadata": {},
     "output_type": "execute_result"
    }
   ],
   "source": [
    "#to get all words\n",
    "all_tweets_nourls[0].split()"
   ]
  },
  {
   "cell_type": "code",
   "execution_count": 128,
   "metadata": {},
   "outputs": [
    {
     "data": {
      "text/plain": [
       "['very',\n",
       " 'good',\n",
       " 'analysis',\n",
       " 'by',\n",
       " 'mckinsey',\n",
       " 'on',\n",
       " 'relationships',\n",
       " 'similarities',\n",
       " 'amp',\n",
       " 'differences',\n",
       " 'between',\n",
       " 'pandemics',\n",
       " 'and',\n",
       " 'climate',\n",
       " 'risk']"
      ]
     },
     "execution_count": 128,
     "metadata": {},
     "output_type": "execute_result"
    }
   ],
   "source": [
    "all_tweets_nourls[0].lower().split()"
   ]
  },
  {
   "cell_type": "code",
   "execution_count": 129,
   "metadata": {},
   "outputs": [
    {
     "data": {
      "text/plain": [
       "[['very',\n",
       "  'good',\n",
       "  'analysis',\n",
       "  'by',\n",
       "  'mckinsey',\n",
       "  'on',\n",
       "  'relationships',\n",
       "  'similarities',\n",
       "  'amp',\n",
       "  'differences',\n",
       "  'between',\n",
       "  'pandemics',\n",
       "  'and',\n",
       "  'climate',\n",
       "  'risk'],\n",
       " ['fema',\n",
       "  'is',\n",
       "  'overwhelmed',\n",
       "  'fire',\n",
       "  'crews',\n",
       "  'cant',\n",
       "  'fully',\n",
       "  'prepare',\n",
       "  'emergency',\n",
       "  'shelters',\n",
       "  'are',\n",
       "  'newly',\n",
       "  'dangerous',\n",
       "  'and',\n",
       "  'forecasters',\n",
       "  'predi']]"
      ]
     },
     "execution_count": 129,
     "metadata": {},
     "output_type": "execute_result"
    }
   ],
   "source": [
    "words_in_tweet = [tweet.lower().split() for tweet in all_tweets_nourls]\n",
    "words_in_tweet[:2]"
   ]
  },
  {
   "cell_type": "code",
   "execution_count": 130,
   "metadata": {},
   "outputs": [
    {
     "data": {
      "text/plain": [
       "[('climate', 507),\n",
       " ('the', 386),\n",
       " ('change', 345),\n",
       " ('to', 257),\n",
       " ('of', 174),\n",
       " ('and', 169),\n",
       " ('a', 153),\n",
       " ('is', 143),\n",
       " ('in', 118),\n",
       " ('we', 110),\n",
       " ('for', 95),\n",
       " ('on', 87),\n",
       " ('climatechange', 72),\n",
       " ('covid19', 63),\n",
       " ('are', 58)]"
      ]
     },
     "execution_count": 130,
     "metadata": {},
     "output_type": "execute_result"
    }
   ],
   "source": [
    "#colection.counter\n",
    "#library collections, which helps create a special type of a Python dictonary. \n",
    "#The collection.Counter\n",
    "#most_common will return the most commonly used words\n",
    "# no times used\n",
    "\n",
    "#to begin flatten the list to get all words in one list\n",
    "#itertools can flatten list quickly\n",
    "#ll_words = [item for sublist in tweets_nsw for item in sublist]\n",
    "\n",
    "all_words_nourls = list(itertools.chain(*words_in_tweet))\n",
    "counts_no_urls = collections.Counter(all_words_nourls)\n",
    "counts_no_urls.most_common(15)"
   ]
  },
  {
   "cell_type": "code",
   "execution_count": 131,
   "metadata": {},
   "outputs": [],
   "source": [
    "clean_tweets_no_url = pd.DataFrame(counts_no_urls.most_common(15),\n",
    "                                  columns=['words','count'])"
   ]
  },
  {
   "cell_type": "code",
   "execution_count": 132,
   "metadata": {},
   "outputs": [
    {
     "data": {
      "text/html": [
       "<div>\n",
       "<style scoped>\n",
       "    .dataframe tbody tr th:only-of-type {\n",
       "        vertical-align: middle;\n",
       "    }\n",
       "\n",
       "    .dataframe tbody tr th {\n",
       "        vertical-align: top;\n",
       "    }\n",
       "\n",
       "    .dataframe thead th {\n",
       "        text-align: right;\n",
       "    }\n",
       "</style>\n",
       "<table border=\"1\" class=\"dataframe\">\n",
       "  <thead>\n",
       "    <tr style=\"text-align: right;\">\n",
       "      <th></th>\n",
       "      <th>words</th>\n",
       "      <th>count</th>\n",
       "    </tr>\n",
       "  </thead>\n",
       "  <tbody>\n",
       "    <tr>\n",
       "      <th>0</th>\n",
       "      <td>climate</td>\n",
       "      <td>507</td>\n",
       "    </tr>\n",
       "    <tr>\n",
       "      <th>1</th>\n",
       "      <td>the</td>\n",
       "      <td>386</td>\n",
       "    </tr>\n",
       "    <tr>\n",
       "      <th>2</th>\n",
       "      <td>change</td>\n",
       "      <td>345</td>\n",
       "    </tr>\n",
       "    <tr>\n",
       "      <th>3</th>\n",
       "      <td>to</td>\n",
       "      <td>257</td>\n",
       "    </tr>\n",
       "    <tr>\n",
       "      <th>4</th>\n",
       "      <td>of</td>\n",
       "      <td>174</td>\n",
       "    </tr>\n",
       "  </tbody>\n",
       "</table>\n",
       "</div>"
      ],
      "text/plain": [
       "     words  count\n",
       "0  climate    507\n",
       "1      the    386\n",
       "2   change    345\n",
       "3       to    257\n",
       "4       of    174"
      ]
     },
     "execution_count": 132,
     "metadata": {},
     "output_type": "execute_result"
    }
   ],
   "source": [
    "clean_tweets_no_url.head()"
   ]
  },
  {
   "cell_type": "code",
   "execution_count": 133,
   "metadata": {},
   "outputs": [
    {
     "data": {
      "image/png": "[encoded data removed]",
      "text/plain": [
       "<Figure size 576x576 with 1 Axes>"
      ]
     },
     "metadata": {},
     "output_type": "display_data"
    }
   ],
   "source": [
    "fig,ax = plt.subplots(figsize=(8,8))\n",
    "\n",
    "clean_tweets_no_url.sort_values(by='count').plot.barh(x = 'words',\n",
    "                                y = 'count',\n",
    "                                ax = ax,\n",
    "                                color='green')\n",
    "ax.set_title(\"Common Words Found in Tweets(Incluiding All words)\")\n",
    "plt.show()"
   ]
  },
  {
   "cell_type": "code",
   "execution_count": 95,
   "metadata": {
    "scrolled": true
   },
   "outputs": [
    {
     "name": "stderr",
     "output_type": "stream",
     "text": [
      "[nltk_data] Downloading package stopwords to\n",
      "[nltk_data]     /Users/adarshkumar/nltk_data...\n",
      "[nltk_data]   Package stopwords is already up-to-date!\n"
     ]
    },
    {
     "data": {
      "text/plain": [
       "True"
      ]
     },
     "execution_count": 95,
     "metadata": {},
     "output_type": "execute_result"
    }
   ],
   "source": [
    "nltk.download('stopwords')"
   ]
  },
  {
   "cell_type": "code",
   "execution_count": 96,
   "metadata": {},
   "outputs": [
    {
     "data": {
      "text/plain": [
       "<bound method WordListCorpusReader.words of <WordListCorpusReader in '/Users/adarshkumar/nltk_data/corpora/stopwords'>>"
      ]
     },
     "execution_count": 96,
     "metadata": {},
     "output_type": "execute_result"
    }
   ],
   "source": [
    "stopwords.words"
   ]
  },
  {
   "cell_type": "code",
   "execution_count": 97,
   "metadata": {},
   "outputs": [],
   "source": [
    "stop_words = set(stopwords.words('english')) #remove stopwords"
   ]
  },
  {
   "cell_type": "code",
   "execution_count": 98,
   "metadata": {},
   "outputs": [
    {
     "data": {
      "text/plain": [
       "['having', 'nor', 'it', 'those', 've', 'd', \"shan't\", 'does', 'but', \"that'll\"]"
      ]
     },
     "execution_count": 98,
     "metadata": {},
     "output_type": "execute_result"
    }
   ],
   "source": [
    "list(stop_words)[0:10] #to see such lists use list(stop_words)"
   ]
  },
  {
   "cell_type": "code",
   "execution_count": 135,
   "metadata": {},
   "outputs": [
    {
     "data": {
      "text/plain": [
       "['very',\n",
       " 'good',\n",
       " 'analysis',\n",
       " 'by',\n",
       " 'mckinsey',\n",
       " 'on',\n",
       " 'relationships',\n",
       " 'similarities',\n",
       " 'amp',\n",
       " 'differences',\n",
       " 'between',\n",
       " 'pandemics',\n",
       " 'and',\n",
       " 'climate',\n",
       " 'risk']"
      ]
     },
     "execution_count": 135,
     "metadata": {},
     "output_type": "execute_result"
    }
   ],
   "source": [
    "words_in_tweet[0]"
   ]
  },
  {
   "cell_type": "code",
   "execution_count": null,
   "metadata": {
    "scrolled": false
   },
   "outputs": [],
   "source": [
    "for all_words in words_in_tweet:\n",
    "    for word in all_words:\n",
    "        # remove words"
   ]
  },
  {
   "cell_type": "code",
   "execution_count": 137,
   "metadata": {},
   "outputs": [
    {
     "data": {
      "text/plain": [
       "['fema',\n",
       " 'overwhelmed',\n",
       " 'fire',\n",
       " 'crews',\n",
       " 'cant',\n",
       " 'fully',\n",
       " 'prepare',\n",
       " 'emergency',\n",
       " 'shelters',\n",
       " 'newly',\n",
       " 'dangerous',\n",
       " 'forecasters',\n",
       " 'predi']"
      ]
     },
     "execution_count": 137,
     "metadata": {},
     "output_type": "execute_result"
    }
   ],
   "source": [
    "tweets_nsw = [[word for word in tweet_words if not word in stop_words]\n",
    "             for tweet_words in words_in_tweet]\n",
    "tweets_nsw[1]"
   ]
  },
  {
   "cell_type": "code",
   "execution_count": 138,
   "metadata": {},
   "outputs": [],
   "source": [
    "all_words_nsw = list(itertools.chain(*tweets_nsw))\n"
   ]
  },
  {
   "cell_type": "code",
   "execution_count": 139,
   "metadata": {},
   "outputs": [],
   "source": [
    "counts_nsw = collections.Counter(all_words_nsw)\n",
    "#counts_nsw"
   ]
  },
  {
   "cell_type": "code",
   "execution_count": 1,
   "metadata": {},
   "outputs": [
    {
     "ename": "NameError",
     "evalue": "name 'counts_nsw' is not defined",
     "output_type": "error",
     "traceback": [
      "\u001b[0;31m---------------------------------------------------------------------------\u001b[0m",
      "\u001b[0;31mNameError\u001b[0m                                 Traceback (most recent call last)",
      "\u001b[0;32m<ipython-input-1-b569accf0119>\u001b[0m in \u001b[0;36m<module>\u001b[0;34m\u001b[0m\n\u001b[0;32m----> 1\u001b[0;31m \u001b[0mcounts_nsw\u001b[0m\u001b[0;34m\u001b[0m\u001b[0;34m\u001b[0m\u001b[0m\n\u001b[0m",
      "\u001b[0;31mNameError\u001b[0m: name 'counts_nsw' is not defined"
     ]
    }
   ],
   "source": [
    "counts_nsw"
   ]
  },
  {
   "cell_type": "code",
   "execution_count": 104,
   "metadata": {},
   "outputs": [
    {
     "data": {
      "text/plain": [
       "[('climate', 86),\n",
       " ('change', 59),\n",
       " ('climatechange', 11),\n",
       " ('coronavirus', 10),\n",
       " ('covid19', 10),\n",
       " ('science', 8),\n",
       " ('must', 8),\n",
       " ('amp', 6),\n",
       " ('pandemic', 6),\n",
       " ('air', 5),\n",
       " ('help', 5),\n",
       " ('act', 5),\n",
       " ('us', 5),\n",
       " ('global', 5),\n",
       " ('globalwarming', 5)]"
      ]
     },
     "execution_count": 104,
     "metadata": {},
     "output_type": "execute_result"
    }
   ],
   "source": [
    "counts_nsw.most_common(15)"
   ]
  },
  {
   "cell_type": "code",
   "execution_count": 140,
   "metadata": {},
   "outputs": [],
   "source": [
    "clean_tweets_nsw = pd.DataFrame(counts_nsw.most_common(15),\n",
    "                               columns=['word','count'])"
   ]
  },
  {
   "cell_type": "code",
   "execution_count": 106,
   "metadata": {},
   "outputs": [
    {
     "data": {
      "text/plain": [
       "<matplotlib.axes._subplots.AxesSubplot at 0x123badd10>"
      ]
     },
     "execution_count": 106,
     "metadata": {},
     "output_type": "execute_result"
    },
    {
     "data": {
      "image/png": "[encoded data removed]",
      "text/plain": [
       "<Figure size 576x576 with 1 Axes>"
      ]
     },
     "metadata": {},
     "output_type": "display_data"
    }
   ],
   "source": [
    "fig, ax = plt.subplots(figsize=(8,8))\n",
    "clean_tweets_nsw.sort_values(by='count').plot.barh(x='word',\n",
    "                                                  y='count',\n",
    "                                                  ax=ax,\n",
    "                                                  color='blue')"
   ]
  },
  {
   "cell_type": "code",
   "execution_count": 141,
   "metadata": {},
   "outputs": [],
   "source": [
    "collection_word = ['climatechange', 'climate', 'change']"
   ]
  },
  {
   "cell_type": "code",
   "execution_count": 142,
   "metadata": {},
   "outputs": [],
   "source": [
    "tweets_nsw_nc = [[w for w in words if not w in collection_word]\n",
    "                for words in tweets_nsw]"
   ]
  },
  {
   "cell_type": "code",
   "execution_count": 143,
   "metadata": {},
   "outputs": [
    {
     "data": {
      "text/plain": [
       "['attitude',\n",
       " 'help',\n",
       " 'save',\n",
       " 'planet',\n",
       " 'frightened',\n",
       " 'climate',\n",
       " 'reporter',\n",
       " 'meets',\n",
       " 'exbasketball',\n",
       " 'player',\n",
       " 'serious',\n",
       " 'game']"
      ]
     },
     "execution_count": 143,
     "metadata": {},
     "output_type": "execute_result"
    }
   ],
   "source": [
    "tweets_nsw[10]"
   ]
  },
  {
   "cell_type": "code",
   "execution_count": 144,
   "metadata": {},
   "outputs": [
    {
     "data": {
      "text/plain": [
       "['attitude',\n",
       " 'help',\n",
       " 'save',\n",
       " 'planet',\n",
       " 'frightened',\n",
       " 'reporter',\n",
       " 'meets',\n",
       " 'exbasketball',\n",
       " 'player',\n",
       " 'serious',\n",
       " 'game']"
      ]
     },
     "execution_count": 144,
     "metadata": {},
     "output_type": "execute_result"
    }
   ],
   "source": [
    "tweets_nsw_nc[10]"
   ]
  },
  {
   "cell_type": "code",
   "execution_count": 111,
   "metadata": {},
   "outputs": [
    {
     "data": {
      "text/plain": [
       "[('coronavirus', 10),\n",
       " ('covid19', 10),\n",
       " ('science', 8),\n",
       " ('must', 8),\n",
       " ('amp', 6),\n",
       " ('pandemic', 6),\n",
       " ('air', 5),\n",
       " ('help', 5),\n",
       " ('act', 5),\n",
       " ('us', 5),\n",
       " ('global', 5),\n",
       " ('globalwarming', 5),\n",
       " ('links', 5),\n",
       " ('changes', 5),\n",
       " ('could', 4)]"
      ]
     },
     "execution_count": 111,
     "metadata": {},
     "output_type": "execute_result"
    }
   ],
   "source": [
    "all_words_nsw_nc = list(itertools.chain(*tweets_nsw_nc))\n",
    "count_nsw_nc = collections.Counter(all_words_nsw_nc)\n",
    "\n",
    "count_nsw_nc.most_common(15)"
   ]
  },
  {
   "cell_type": "code",
   "execution_count": 145,
   "metadata": {},
   "outputs": [
    {
     "data": {
      "text/plain": [
       "642"
      ]
     },
     "execution_count": 145,
     "metadata": {},
     "output_type": "execute_result"
    }
   ],
   "source": [
    "len(count_nsw_nc)"
   ]
  },
  {
   "cell_type": "code",
   "execution_count": 146,
   "metadata": {},
   "outputs": [
    {
     "data": {
      "text/html": [
       "<div>\n",
       "<style scoped>\n",
       "    .dataframe tbody tr th:only-of-type {\n",
       "        vertical-align: middle;\n",
       "    }\n",
       "\n",
       "    .dataframe tbody tr th {\n",
       "        vertical-align: top;\n",
       "    }\n",
       "\n",
       "    .dataframe thead th {\n",
       "        text-align: right;\n",
       "    }\n",
       "</style>\n",
       "<table border=\"1\" class=\"dataframe\">\n",
       "  <thead>\n",
       "    <tr style=\"text-align: right;\">\n",
       "      <th></th>\n",
       "      <th>word</th>\n",
       "      <th>count</th>\n",
       "    </tr>\n",
       "  </thead>\n",
       "  <tbody>\n",
       "    <tr>\n",
       "      <th>0</th>\n",
       "      <td>coronavirus</td>\n",
       "      <td>10</td>\n",
       "    </tr>\n",
       "    <tr>\n",
       "      <th>1</th>\n",
       "      <td>covid19</td>\n",
       "      <td>10</td>\n",
       "    </tr>\n",
       "    <tr>\n",
       "      <th>2</th>\n",
       "      <td>science</td>\n",
       "      <td>8</td>\n",
       "    </tr>\n",
       "    <tr>\n",
       "      <th>3</th>\n",
       "      <td>must</td>\n",
       "      <td>8</td>\n",
       "    </tr>\n",
       "    <tr>\n",
       "      <th>4</th>\n",
       "      <td>amp</td>\n",
       "      <td>6</td>\n",
       "    </tr>\n",
       "  </tbody>\n",
       "</table>\n",
       "</div>"
      ],
      "text/plain": [
       "          word  count\n",
       "0  coronavirus     10\n",
       "1      covid19     10\n",
       "2      science      8\n",
       "3         must      8\n",
       "4          amp      6"
      ]
     },
     "execution_count": 146,
     "metadata": {},
     "output_type": "execute_result"
    }
   ],
   "source": [
    "clean_tweets_ncw =pd.DataFrame(count_nsw_nc.most_common(10),\n",
    "                                 columns=['word','count'])\n",
    "clean_tweets_ncw.head()"
   ]
  },
  {
   "cell_type": "code",
   "execution_count": 147,
   "metadata": {},
   "outputs": [
    {
     "data": {
      "text/plain": [
       "<matplotlib.axes._subplots.AxesSubplot at 0x12b9b5690>"
      ]
     },
     "execution_count": 147,
     "metadata": {},
     "output_type": "execute_result"
    },
    {
     "data": {
      "image/png": "[encoded data removed]",
      "text/plain": [
       "<Figure size 576x576 with 1 Axes>"
      ]
     },
     "metadata": {},
     "output_type": "display_data"
    }
   ],
   "source": [
    "fig, ax = plt.subplots(figsize=(8,8))\n",
    "clean_tweets_nsw.sort_values(by='count').plot.barh(x='word',\n",
    "                                                  y='count',\n",
    "                                                  ax=ax,\n",
    "                                                  color='red')"
   ]
  },
  {
   "cell_type": "code",
   "execution_count": 148,
   "metadata": {},
   "outputs": [],
   "source": [
    "#Bigrams and \n",
    "re?"
   ]
  },
  {
   "cell_type": "code",
   "execution_count": 118,
   "metadata": {},
   "outputs": [],
   "source": [
    "import os\n",
    "import numpy as np\n",
    "import pandas as pd\n",
    "import matplotlib.pyplot as plt\n",
    "import seaborn as sns\n",
    "import itertools\n",
    "import collections\n",
    "\n",
    "import tweepy as tw\n",
    "import nltk\n",
    "from nltk import bigrams\n",
    "from nltk.corpus import stopwords\n",
    "import re\n",
    "import networkx as nx\n",
    "\n",
    "import warnings\n",
    "warnings.filterwarnings('ignore')\n",
    "\n",
    "sns.set(font_scale=1.5)\n",
    "sns.set_style(\"whitegrid\")"
   ]
  },
  {
   "cell_type": "code",
   "execution_count": 195,
   "metadata": {},
   "outputs": [],
   "source": [
    "def remove_url(txt):\n",
    "    \n",
    "    url_pattern = re.compile(r'https:?:/\\S+|www\\.\\S+')\n",
    "    no_url = url_pattern.sub(r'',txt)\n",
    "    return no_url"
   ]
  },
  {
   "cell_type": "code",
   "execution_count": 209,
   "metadata": {},
   "outputs": [
    {
     "data": {
      "text/plain": [
       "'Very good analysis by @McKinsey on relationships,  similarities &amp; differences between #Pandemics and #climate #risk… https://t.co/hndUwkm0pd'"
      ]
     },
     "execution_count": 209,
     "metadata": {},
     "output_type": "execute_result"
    }
   ],
   "source": [
    "all_tweets[0]"
   ]
  },
  {
   "cell_type": "code",
   "execution_count": 210,
   "metadata": {},
   "outputs": [],
   "source": [
    "#remove URLs\n",
    "tweets_nourl = [remove_url(tweet) for tweet in all_tweets]"
   ]
  },
  {
   "cell_type": "code",
   "execution_count": 212,
   "metadata": {},
   "outputs": [
    {
     "data": {
      "text/plain": [
       "'Very good analysis by @McKinsey on relationships,  similarities &amp; differences between #Pandemics and #climate #risk… '"
      ]
     },
     "execution_count": 212,
     "metadata": {},
     "output_type": "execute_result"
    }
   ],
   "source": [
    "tweets_nourl[0]"
   ]
  },
  {
   "cell_type": "code",
   "execution_count": 151,
   "metadata": {},
   "outputs": [],
   "source": [
    "#bigrams = co-occuring words /create a list of all bigrams\n",
    "#tweets_nsw_nc is alist of all words in a tweet for all tweets created by lowering and splitting and removing\n",
    "#removing connection words\n",
    "terms_bigrams = [list(bigrams(tweet)) for tweet in tweets_nsw_nc]"
   ]
  },
  {
   "cell_type": "code",
   "execution_count": 152,
   "metadata": {},
   "outputs": [
    {
     "data": {
      "text/plain": [
       "[('good', 'analysis'),\n",
       " ('analysis', 'mckinsey'),\n",
       " ('mckinsey', 'relationships'),\n",
       " ('relationships', 'similarities'),\n",
       " ('similarities', 'amp'),\n",
       " ('amp', 'differences'),\n",
       " ('differences', 'pandemics'),\n",
       " ('pandemics', 'risk')]"
      ]
     },
     "execution_count": 152,
     "metadata": {},
     "output_type": "execute_result"
    }
   ],
   "source": [
    "terms_bigrams[0]"
   ]
  },
  {
   "cell_type": "code",
   "execution_count": 153,
   "metadata": {},
   "outputs": [
    {
     "data": {
      "text/plain": [
       "['good',\n",
       " 'analysis',\n",
       " 'mckinsey',\n",
       " 'relationships',\n",
       " 'similarities',\n",
       " 'amp',\n",
       " 'differences',\n",
       " 'pandemics',\n",
       " 'risk']"
      ]
     },
     "execution_count": 153,
     "metadata": {},
     "output_type": "execute_result"
    }
   ],
   "source": [
    "tweets_nsw_nc[0]"
   ]
  },
  {
   "cell_type": "code",
   "execution_count": 154,
   "metadata": {},
   "outputs": [],
   "source": [
    "#use a counter to count bigrams in a list\n",
    "bigrams = list(itertools.chain(*terms_bigrams))"
   ]
  },
  {
   "cell_type": "code",
   "execution_count": 155,
   "metadata": {},
   "outputs": [],
   "source": [
    "bigrams_count = collections.Counter(bigrams)"
   ]
  },
  {
   "cell_type": "code",
   "execution_count": 156,
   "metadata": {},
   "outputs": [
    {
     "data": {
      "text/plain": [
       "[(('gpwx', 'globalwarming'), 13),\n",
       " (('investor', 'ideas'), 12),\n",
       " (('cleantech', 'podcast'), 12),\n",
       " (('coronavirus', 'pandemic'), 10),\n",
       " (('could', 'cause'), 9),\n",
       " (('science', 'links'), 9),\n",
       " (('ideas', 'cleantech'), 9),\n",
       " (('biodiversity', 'losses'), 8),\n",
       " (('links', 'science'), 8),\n",
       " (('global', 'warming'), 7),\n",
       " (('cause', 'sudden'), 7),\n",
       " (('sudden', 'biodiversity'), 7),\n",
       " (('losses', 'worldwide'), 7),\n",
       " (('turn', 'traffic'), 6),\n",
       " (('traffic', 'lights'), 6),\n",
       " (('lights', 'red'), 6),\n",
       " (('red', 'stop'), 6),\n",
       " (('stop', 'quickly'), 6),\n",
       " (('quickly', 'environment'), 6),\n",
       " (('environment', 'jus'), 6)]"
      ]
     },
     "execution_count": 156,
     "metadata": {},
     "output_type": "execute_result"
    }
   ],
   "source": [
    "bigrams_count.most_common(20)"
   ]
  },
  {
   "cell_type": "code",
   "execution_count": 157,
   "metadata": {},
   "outputs": [],
   "source": [
    "bigrams_data = pd.DataFrame(bigrams_count.most_common(20),\n",
    "                           columns=['bigram','count'])"
   ]
  },
  {
   "cell_type": "code",
   "execution_count": 158,
   "metadata": {},
   "outputs": [
    {
     "data": {
      "text/html": [
       "<div>\n",
       "<style scoped>\n",
       "    .dataframe tbody tr th:only-of-type {\n",
       "        vertical-align: middle;\n",
       "    }\n",
       "\n",
       "    .dataframe tbody tr th {\n",
       "        vertical-align: top;\n",
       "    }\n",
       "\n",
       "    .dataframe thead th {\n",
       "        text-align: right;\n",
       "    }\n",
       "</style>\n",
       "<table border=\"1\" class=\"dataframe\">\n",
       "  <thead>\n",
       "    <tr style=\"text-align: right;\">\n",
       "      <th></th>\n",
       "      <th>bigram</th>\n",
       "      <th>count</th>\n",
       "    </tr>\n",
       "  </thead>\n",
       "  <tbody>\n",
       "    <tr>\n",
       "      <th>0</th>\n",
       "      <td>(gpwx, globalwarming)</td>\n",
       "      <td>13</td>\n",
       "    </tr>\n",
       "    <tr>\n",
       "      <th>1</th>\n",
       "      <td>(investor, ideas)</td>\n",
       "      <td>12</td>\n",
       "    </tr>\n",
       "    <tr>\n",
       "      <th>2</th>\n",
       "      <td>(cleantech, podcast)</td>\n",
       "      <td>12</td>\n",
       "    </tr>\n",
       "    <tr>\n",
       "      <th>3</th>\n",
       "      <td>(coronavirus, pandemic)</td>\n",
       "      <td>10</td>\n",
       "    </tr>\n",
       "    <tr>\n",
       "      <th>4</th>\n",
       "      <td>(could, cause)</td>\n",
       "      <td>9</td>\n",
       "    </tr>\n",
       "  </tbody>\n",
       "</table>\n",
       "</div>"
      ],
      "text/plain": [
       "                    bigram  count\n",
       "0    (gpwx, globalwarming)     13\n",
       "1        (investor, ideas)     12\n",
       "2     (cleantech, podcast)     12\n",
       "3  (coronavirus, pandemic)     10\n",
       "4           (could, cause)      9"
      ]
     },
     "execution_count": 158,
     "metadata": {},
     "output_type": "execute_result"
    }
   ],
   "source": [
    "bigrams_data.head()"
   ]
  },
  {
   "cell_type": "code",
   "execution_count": 159,
   "metadata": {},
   "outputs": [],
   "source": [
    "#visualize bigrams using python package networkx\n",
    "#.set_index() helps change indexing colums of an array\n",
    "#can convert to dictionary object to_dict\n",
    "d = bigrams_data.set_index('bigram').T.to_dict('records')"
   ]
  },
  {
   "cell_type": "code",
   "execution_count": 165,
   "metadata": {
    "scrolled": true
   },
   "outputs": [
    {
     "data": {
      "text/plain": [
       "{('gpwx', 'globalwarming'): 13,\n",
       " ('investor', 'ideas'): 12,\n",
       " ('cleantech', 'podcast'): 12,\n",
       " ('coronavirus', 'pandemic'): 10,\n",
       " ('could', 'cause'): 9,\n",
       " ('science', 'links'): 9,\n",
       " ('ideas', 'cleantech'): 9,\n",
       " ('biodiversity', 'losses'): 8,\n",
       " ('links', 'science'): 8,\n",
       " ('global', 'warming'): 7,\n",
       " ('cause', 'sudden'): 7,\n",
       " ('sudden', 'biodiversity'): 7,\n",
       " ('losses', 'worldwide'): 7,\n",
       " ('turn', 'traffic'): 6,\n",
       " ('traffic', 'lights'): 6,\n",
       " ('lights', 'red'): 6,\n",
       " ('red', 'stop'): 6,\n",
       " ('stop', 'quickly'): 6,\n",
       " ('quickly', 'environment'): 6,\n",
       " ('environment', 'jus'): 6}"
      ]
     },
     "execution_count": 165,
     "metadata": {},
     "output_type": "execute_result"
    }
   ],
   "source": [
    "d[0]"
   ]
  },
  {
   "cell_type": "code",
   "execution_count": 167,
   "metadata": {},
   "outputs": [
    {
     "data": {
      "text/plain": [
       "dict_items([(('gpwx', 'globalwarming'), 13), (('investor', 'ideas'), 12), (('cleantech', 'podcast'), 12), (('coronavirus', 'pandemic'), 10), (('could', 'cause'), 9), (('science', 'links'), 9), (('ideas', 'cleantech'), 9), (('biodiversity', 'losses'), 8), (('links', 'science'), 8), (('global', 'warming'), 7), (('cause', 'sudden'), 7), (('sudden', 'biodiversity'), 7), (('losses', 'worldwide'), 7), (('turn', 'traffic'), 6), (('traffic', 'lights'), 6), (('lights', 'red'), 6), (('red', 'stop'), 6), (('stop', 'quickly'), 6), (('quickly', 'environment'), 6), (('environment', 'jus'), 6)])"
      ]
     },
     "execution_count": 167,
     "metadata": {},
     "output_type": "execute_result"
    }
   ],
   "source": [
    "d[0].items()"
   ]
  },
  {
   "cell_type": "code",
   "execution_count": 168,
   "metadata": {},
   "outputs": [],
   "source": [
    "G = nx.Graph()#base class stores nodes and edges\n",
    "#create network plots\n",
    "\n",
    "#Create connections between nodes\n",
    "for k,v in d[0].items():\n",
    "    G.add_edge(k[0], k[1], weights=(v*10))"
   ]
  },
  {
   "cell_type": "code",
   "execution_count": 169,
   "metadata": {},
   "outputs": [],
   "source": [
    "G.add_node(\"china\",weight=100)# K3 = nx.Graph([(0, 1), (1, 2), (2, 0)]) graph type"
   ]
  },
  {
   "cell_type": "code",
   "execution_count": 179,
   "metadata": {},
   "outputs": [
    {
     "data": {
      "image/png": "[encoded data removed]",
      "text/plain": [
       "<Figure size 720x576 with 1 Axes>"
      ]
     },
     "metadata": {},
     "output_type": "display_data"
    }
   ],
   "source": [
    "fig, ax = plt.subplots(figsize=(10, 8))\n",
    "\n",
    "pos = nx.spring_layout(G, k=0.25)\n",
    "\n",
    "# Plot networks\n",
    "nx.draw_networkx(G, pos,\n",
    "                 font_size=16,\n",
    "                 width=3,\n",
    "                 edge_color='grey',\n",
    "                 node_color='purple',\n",
    "                 with_labels = False,\n",
    "                 ax=ax)\n",
    "\n",
    "# Create offset labels\n",
    "#using ax.text importsant\n",
    "for key, value in pos.items():\n",
    "    x, y = value[0]+.135, value[1]+.045\n",
    "    ax.text(x, y,\n",
    "            s=key,\n",
    "            bbox=dict(facecolor='red', alpha=0.25),\n",
    "            horizontalalignment='center', fontsize=13)\n",
    "    \n",
    "plt.show()\n"
   ]
  },
  {
   "cell_type": "code",
   "execution_count": 174,
   "metadata": {},
   "outputs": [
    {
     "data": {
      "text/plain": [
       "dict_items([('gpwx', array([-0.45116016,  0.78584636])), ('globalwarming', array([ 0.48723253, -0.78622584])), ('investor', array([ 0.2557414 , -0.91410601])), ('ideas', array([-0.59134764,  0.51649004])), ('cleantech', array([ 0.69462706, -0.68849624])), ('podcast', array([ 0.04711106, -0.96292262])), ('coronavirus', array([-0.97523595,  0.18465436])), ('pandemic', array([-0.89105675, -0.03383926])), ('could', array([ 0.93331181, -0.3095324 ])), ('cause', array([-0.29308248,  0.41481533])), ('science', array([0.43241657, 0.88879152])), ('links', array([-0.97124743, -0.20473869])), ('biodiversity', array([0.94783128, 0.13736552])), ('losses', array([-0.23923088, -0.92725675])), ('global', array([-0.56199797, -0.83685517])), ('warming', array([-0.15965361, -0.74136704])), ('sudden', array([0.23828826, 0.96309399])), ('worldwide', array([-0.63295744, -0.55033051])), ('turn', array([0.75009102, 0.61103676])), ('traffic', array([0.53108797, 0.67784466])), ('lights', array([0.86186218, 0.37505358])), ('red', array([ 0.76339254, -0.41592382])), ('stop', array([ 0.91536047, -0.13210494])), ('quickly', array([-0.84765116, -0.46925616])), ('environment', array([-0.11974597,  1.        ])), ('jus', array([-0.84296927,  0.4522075 ])), ('china', array([-0.28101745,  0.96575583]))])"
      ]
     },
     "execution_count": 174,
     "metadata": {},
     "output_type": "execute_result"
    }
   ],
   "source": [
    "pos.items()"
   ]
  },
  {
   "cell_type": "code",
   "execution_count": 182,
   "metadata": {},
   "outputs": [
    {
     "name": "stdout",
     "output_type": "stream",
     "text": [
      "Collecting textblob\n",
      "  Downloading textblob-0.15.3-py2.py3-none-any.whl (636 kB)\n",
      "\u001b[K     |████████████████████████████████| 636 kB 7.2 kB/s eta 0:00:01\n",
      "\u001b[?25hRequirement already satisfied: nltk>=3.1 in /usr/local/lib/python3.7/site-packages (from textblob) (3.4.5)\n",
      "Requirement already satisfied: six in /usr/local/lib/python3.7/site-packages (from nltk>=3.1->textblob) (1.14.0)\n",
      "Installing collected packages: textblob\n",
      "Successfully installed textblob-0.15.3\n"
     ]
    }
   ],
   "source": [
    "#Sentiment Analysis\n",
    "!pip3 install textblob"
   ]
  },
  {
   "cell_type": "code",
   "execution_count": 183,
   "metadata": {},
   "outputs": [],
   "source": [
    "import os\n",
    "import pandas as pd\n",
    "import matplotlib.pyplot as plt\n",
    "import seaborn as sns\n",
    "import itertools\n",
    "import collections\n",
    "\n",
    "import tweepy as tw\n",
    "import nltk\n",
    "from nltk.corpus import stopwords\n",
    "import re\n",
    "import networkx\n",
    "\n",
    "from textblob import TextBlob\n",
    "\n",
    "import warnings\n",
    "warnings.filterwarnings(\"ignore\")\n",
    "\n",
    "sns.set(font_scale=1.5)\n",
    "sns.set_style(\"whitegrid\")"
   ]
  },
  {
   "cell_type": "code",
   "execution_count": 185,
   "metadata": {},
   "outputs": [],
   "source": [
    "TextBlob?"
   ]
  },
  {
   "cell_type": "code",
   "execution_count": null,
   "metadata": {},
   "outputs": [],
   "source": [
    "tweets_nourl[0]"
   ]
  },
  {
   "cell_type": "code",
   "execution_count": 213,
   "metadata": {},
   "outputs": [],
   "source": [
    "sentiment_objects = [TextBlob(tweet) for tweet in tweets_nourl]"
   ]
  },
  {
   "cell_type": "code",
   "execution_count": 215,
   "metadata": {},
   "outputs": [
    {
     "data": {
      "text/plain": [
       "0.9099999999999999"
      ]
     },
     "execution_count": 215,
     "metadata": {},
     "output_type": "execute_result"
    }
   ],
   "source": [
    "sentiment_objects[0].polarity"
   ]
  },
  {
   "cell_type": "code",
   "execution_count": 216,
   "metadata": {},
   "outputs": [
    {
     "data": {
      "text/plain": [
       "TextBlob(\"Very good analysis by @McKinsey on relationships,  similarities &amp; differences between #Pandemics and #climate #risk… \")"
      ]
     },
     "execution_count": 216,
     "metadata": {},
     "output_type": "execute_result"
    }
   ],
   "source": [
    "sentiment_objects[0]"
   ]
  },
  {
   "cell_type": "code",
   "execution_count": 217,
   "metadata": {},
   "outputs": [],
   "source": [
    "#create list of polarity values and text\n",
    "sentiment_values = [[tweet.sentiment.polarity, str(tweet)]\n",
    "                   for tweet in sentiment_objects]"
   ]
  },
  {
   "cell_type": "code",
   "execution_count": 218,
   "metadata": {},
   "outputs": [
    {
     "data": {
      "text/plain": [
       "[0.9099999999999999,\n",
       " 'Very good analysis by @McKinsey on relationships,  similarities &amp; differences between #Pandemics and #climate #risk… ']"
      ]
     },
     "execution_count": 218,
     "metadata": {},
     "output_type": "execute_result"
    }
   ],
   "source": [
    "sentiment_values[0]"
   ]
  },
  {
   "cell_type": "code",
   "execution_count": 219,
   "metadata": {},
   "outputs": [
    {
     "data": {
      "text/html": [
       "<div>\n",
       "<style scoped>\n",
       "    .dataframe tbody tr th:only-of-type {\n",
       "        vertical-align: middle;\n",
       "    }\n",
       "\n",
       "    .dataframe tbody tr th {\n",
       "        vertical-align: top;\n",
       "    }\n",
       "\n",
       "    .dataframe thead th {\n",
       "        text-align: right;\n",
       "    }\n",
       "</style>\n",
       "<table border=\"1\" class=\"dataframe\">\n",
       "  <thead>\n",
       "    <tr style=\"text-align: right;\">\n",
       "      <th></th>\n",
       "      <th>polarity</th>\n",
       "      <th>tweet</th>\n",
       "    </tr>\n",
       "  </thead>\n",
       "  <tbody>\n",
       "    <tr>\n",
       "      <th>0</th>\n",
       "      <td>0.910000</td>\n",
       "      <td>Very good analysis by @McKinsey on relationshi...</td>\n",
       "    </tr>\n",
       "    <tr>\n",
       "      <th>1</th>\n",
       "      <td>-0.600000</td>\n",
       "      <td>#FEMA is overwhelmed, fire crews can’t fully p...</td>\n",
       "    </tr>\n",
       "    <tr>\n",
       "      <th>2</th>\n",
       "      <td>-0.333333</td>\n",
       "      <td>Can attitude help save the planet? A frightene...</td>\n",
       "    </tr>\n",
       "    <tr>\n",
       "      <th>3</th>\n",
       "      <td>0.400000</td>\n",
       "      <td>The #coronavirus pandemic has put important #c...</td>\n",
       "    </tr>\n",
       "    <tr>\n",
       "      <th>4</th>\n",
       "      <td>-0.600000</td>\n",
       "      <td>#FEMA is overwhelmed, fire crews can’t fully p...</td>\n",
       "    </tr>\n",
       "  </tbody>\n",
       "</table>\n",
       "</div>"
      ],
      "text/plain": [
       "   polarity                                              tweet\n",
       "0  0.910000  Very good analysis by @McKinsey on relationshi...\n",
       "1 -0.600000  #FEMA is overwhelmed, fire crews can’t fully p...\n",
       "2 -0.333333  Can attitude help save the planet? A frightene...\n",
       "3  0.400000  The #coronavirus pandemic has put important #c...\n",
       "4 -0.600000  #FEMA is overwhelmed, fire crews can’t fully p..."
      ]
     },
     "execution_count": 219,
     "metadata": {},
     "output_type": "execute_result"
    }
   ],
   "source": [
    "sentiment_data = pd.DataFrame(sentiment_values,\n",
    "                             columns=['polarity','tweet'])\n",
    "sentiment_data.head()"
   ]
  },
  {
   "cell_type": "code",
   "execution_count": 223,
   "metadata": {},
   "outputs": [
    {
     "data": {
      "text/plain": [
       "'The #coronavirus pandemic has put important #climate research in the #Arctic on hold '"
      ]
     },
     "execution_count": 223,
     "metadata": {},
     "output_type": "execute_result"
    }
   ],
   "source": [
    "sentiment_data['tweet'].iloc[3] # calling a row"
   ]
  },
  {
   "cell_type": "code",
   "execution_count": 226,
   "metadata": {},
   "outputs": [
    {
     "data": {
      "text/plain": [
       "3    The #coronavirus pandemic has put important #c...\n",
       "4    #FEMA is overwhelmed, fire crews can’t fully p...\n",
       "5    How is climate change affecting air quality? \\...\n",
       "6    This is good time to start flattening the curv...\n",
       "Name: tweet, dtype: object"
      ]
     },
     "execution_count": 226,
     "metadata": {},
     "output_type": "execute_result"
    }
   ],
   "source": [
    "sentiment_data['tweet'].iloc[3:7]"
   ]
  },
  {
   "cell_type": "code",
   "execution_count": 228,
   "metadata": {},
   "outputs": [
    {
     "data": {
      "image/png": "[encoded data removed]",
      "text/plain": [
       "<Figure size 576x432 with 1 Axes>"
      ]
     },
     "metadata": {},
     "output_type": "display_data"
    }
   ],
   "source": [
    "fig,ax = plt.subplots(figsize=(8,6))\n",
    "\n",
    "sentiment_data.hist(bins=[-1, -0.75, -0.5, -0.25, 0.5, 0.75, 1],\n",
    "                   ax=ax,\n",
    "                   color='blue')\n",
    "plt.title(\"Sentiments from Tweets on Climate Change\")\n",
    "plt.show()"
   ]
  },
  {
   "cell_type": "code",
   "execution_count": 229,
   "metadata": {},
   "outputs": [],
   "source": [
    "# remove zero polarity\n",
    "#to mask a data frame\n",
    "sentiment_data_noneutral = sentiment_data[sentiment_data.polarity !=0]"
   ]
  },
  {
   "cell_type": "code",
   "execution_count": 230,
   "metadata": {},
   "outputs": [
    {
     "data": {
      "image/png": "[encoded data removed]",
      "text/plain": [
       "<Figure size 576x432 with 1 Axes>"
      ]
     },
     "metadata": {},
     "output_type": "display_data"
    }
   ],
   "source": [
    "fig,ax = plt.subplots(figsize=(8,6))\n",
    "sentiment_data_noneutral.hist(bins=[-1, -0.75, -0.5, -0.25, 0.5, 0.75, 1],\n",
    "                   ax=ax,\n",
    "                   color='green')\n",
    "plt.title(\"Sentiments from Tweets on Climate Change\")\n",
    "plt.show()"
   ]
  },
  {
   "cell_type": "code",
   "execution_count": 264,
   "metadata": {},
   "outputs": [
    {
     "data": {
      "text/plain": [
       "[TextBlob(\"Also Just-In: @GovInslee announces plan to reduce WA prison population by up to 950 through early release to reduce… \"),\n",
       " TextBlob(\"4188 new cases and 574 new deaths in France \n",
       " \n",
       " [19:38 GMT] #coronavirus #CoronaVirusUpdate #COVID19 #CoronavirusPandemic\"),\n",
       " TextBlob(\"I will continue social distancing from some of you after all this over. #Covid19\"),\n",
       " TextBlob(\"@MarkDice @SSG_PAIN 😳😲😒 we should all storm into our local hospitals and demand to see all these #Covid19 patients.… \"),\n",
       " TextBlob(\"Great story about a Georgian keeping the “lights on” for @CNN during the #COVID19 crisis #gapol @ATTPolicyGA \")]"
      ]
     },
     "execution_count": 264,
     "metadata": {},
     "output_type": "execute_result"
    }
   ],
   "source": [
    "search_term = \"#COVID19 -filter:retweets\"\n",
    "tweets = tw.Cursor(api.search,\n",
    "                   q=search_term,\n",
    "                   lang=\"en\",\n",
    "                   since='2020-04-13').items(500)\n",
    "all_tweets_no_urls =[TextBlob(remove_url(tweet.text)) for tweet in tweets]\n",
    "\n",
    "all_tweets_no_urls[:5]"
   ]
  },
  {
   "cell_type": "code",
   "execution_count": 265,
   "metadata": {},
   "outputs": [],
   "source": [
    "wild_sent_values =[[tweet.sentiment.polarity,str(tweet)]\n",
    "                  for tweet in all_tweets_no_urls]"
   ]
  },
  {
   "cell_type": "code",
   "execution_count": 266,
   "metadata": {
    "scrolled": true
   },
   "outputs": [
    {
     "data": {
      "text/html": [
       "<div>\n",
       "<style scoped>\n",
       "    .dataframe tbody tr th:only-of-type {\n",
       "        vertical-align: middle;\n",
       "    }\n",
       "\n",
       "    .dataframe tbody tr th {\n",
       "        vertical-align: top;\n",
       "    }\n",
       "\n",
       "    .dataframe thead th {\n",
       "        text-align: right;\n",
       "    }\n",
       "</style>\n",
       "<table border=\"1\" class=\"dataframe\">\n",
       "  <thead>\n",
       "    <tr style=\"text-align: right;\">\n",
       "      <th></th>\n",
       "      <th>polarity</th>\n",
       "      <th>tweet</th>\n",
       "    </tr>\n",
       "  </thead>\n",
       "  <tbody>\n",
       "    <tr>\n",
       "      <th>0</th>\n",
       "      <td>0.100000</td>\n",
       "      <td>Also Just-In: @GovInslee announces plan to red...</td>\n",
       "    </tr>\n",
       "    <tr>\n",
       "      <th>1</th>\n",
       "      <td>0.136364</td>\n",
       "      <td>4188 new cases and 574 new deaths in France \\n...</td>\n",
       "    </tr>\n",
       "    <tr>\n",
       "      <th>2</th>\n",
       "      <td>0.033333</td>\n",
       "      <td>I will continue social distancing from some of...</td>\n",
       "    </tr>\n",
       "    <tr>\n",
       "      <th>4</th>\n",
       "      <td>0.800000</td>\n",
       "      <td>Great story about a Georgian keeping the “ligh...</td>\n",
       "    </tr>\n",
       "    <tr>\n",
       "      <th>5</th>\n",
       "      <td>-0.100000</td>\n",
       "      <td>COVID-ALERT: Woman loses entire family to coro...</td>\n",
       "    </tr>\n",
       "    <tr>\n",
       "      <th>...</th>\n",
       "      <td>...</td>\n",
       "      <td>...</td>\n",
       "    </tr>\n",
       "    <tr>\n",
       "      <th>3992</th>\n",
       "      <td>0.400000</td>\n",
       "      <td>UPDATE: As of Sunday night, Florida had 19,895...</td>\n",
       "    </tr>\n",
       "    <tr>\n",
       "      <th>3993</th>\n",
       "      <td>0.100000</td>\n",
       "      <td>We won't let #covid19 stop us from performing ...</td>\n",
       "    </tr>\n",
       "    <tr>\n",
       "      <th>3994</th>\n",
       "      <td>0.100000</td>\n",
       "      <td>Nearly 24 #COVID19 tests have received an emer...</td>\n",
       "    </tr>\n",
       "    <tr>\n",
       "      <th>3996</th>\n",
       "      <td>0.150000</td>\n",
       "      <td>As the research and medical community seeks an...</td>\n",
       "    </tr>\n",
       "    <tr>\n",
       "      <th>3998</th>\n",
       "      <td>0.178788</td>\n",
       "      <td>\"@gidifeedtv: This happened live in Somolu loc...</td>\n",
       "    </tr>\n",
       "  </tbody>\n",
       "</table>\n",
       "<p>2055 rows × 2 columns</p>\n",
       "</div>"
      ],
      "text/plain": [
       "      polarity                                              tweet\n",
       "0     0.100000  Also Just-In: @GovInslee announces plan to red...\n",
       "1     0.136364  4188 new cases and 574 new deaths in France \\n...\n",
       "2     0.033333  I will continue social distancing from some of...\n",
       "4     0.800000  Great story about a Georgian keeping the “ligh...\n",
       "5    -0.100000  COVID-ALERT: Woman loses entire family to coro...\n",
       "...        ...                                                ...\n",
       "3992  0.400000  UPDATE: As of Sunday night, Florida had 19,895...\n",
       "3993  0.100000  We won't let #covid19 stop us from performing ...\n",
       "3994  0.100000  Nearly 24 #COVID19 tests have received an emer...\n",
       "3996  0.150000  As the research and medical community seeks an...\n",
       "3998  0.178788  \"@gidifeedtv: This happened live in Somolu loc...\n",
       "\n",
       "[2055 rows x 2 columns]"
      ]
     },
     "execution_count": 266,
     "metadata": {},
     "output_type": "execute_result"
    }
   ],
   "source": [
    "wild_send_data = pd.DataFrame(wild_sent_values,\n",
    "                             columns =['polarity','tweet'])\n",
    "wild_send_data = wild_send_data[wild_send_data.polarity !=0]\n",
    "wild_send_data"
   ]
  },
  {
   "cell_type": "code",
   "execution_count": 267,
   "metadata": {},
   "outputs": [
    {
     "data": {
      "image/png": "[encoded data removed]",
      "text/plain": [
       "<Figure size 576x432 with 1 Axes>"
      ]
     },
     "metadata": {},
     "output_type": "display_data"
    }
   ],
   "source": [
    "fig, ax = plt.subplots(figsize=(8, 6))\n",
    "wild_send_data.hist(bins=[-1,-0.8,-0.6,-0.4,-0.2,0,0.2,0.4,0.6,0.8,1],\n",
    "        ax=ax, color=\"blue\")\n",
    "plt.title(\"Sentiments from Tweets on the COVID19\")\n",
    "plt.show()"
   ]
  },
  {
   "cell_type": "code",
   "execution_count": 268,
   "metadata": {},
   "outputs": [],
   "source": [
    "all_tweets_no_urls =[remove_url(tweet.text) for tweet in tweets]\n",
    "terms_bigrams = [list(bigrams(tweet)) for tweet in all_tweets_no_urls]"
   ]
  },
  {
   "cell_type": "code",
   "execution_count": 270,
   "metadata": {},
   "outputs": [
    {
     "data": {
      "text/plain": [
       "[]"
      ]
     },
     "execution_count": 270,
     "metadata": {},
     "output_type": "execute_result"
    }
   ],
   "source": [
    "all_tweets_no_urls"
   ]
  },
  {
   "cell_type": "code",
   "execution_count": 273,
   "metadata": {},
   "outputs": [],
   "source": [
    "#----------------FINAL PRACTICE WITH JSON TWITTER DATASET"
   ]
  },
  {
   "cell_type": "code",
   "execution_count": 294,
   "metadata": {},
   "outputs": [],
   "source": [
    "import os\n",
    "import pandas as pd\n",
    "import matplotlib.pyplot as plt\n",
    "import seaborn as sns\n",
    "import itertools\n",
    "import collections\n",
    "\n",
    "import json\n",
    "import tweepy as tw\n",
    "import nltk\n",
    "from nltk.corpus import stopwords\n",
    "from nltk import bigrams\n",
    "import re\n",
    "from textblob import TextBlob\n",
    "import networkx\n",
    "import networkx as nx\n",
    "import earthpy as et\n",
    "\n",
    "import warnings\n",
    "warnings.filterwarnings(\"ignore\")\n",
    "\n",
    "sns.set(font_scale=1.5)\n",
    "sns.set_style(\"whitegrid\")\n",
    "\n",
    "# Get the already collected twitter data in JSON format\n",
    "et.data.get_data('twitter-flood')\n",
    "\n",
    "# Set working directory\n",
    "os.chdir(os.path.join(et.io.HOME,'Data_Python','earth-analytics', 'data'))\n",
    "#Downloadng from https://ndownloader.figshare.com/files/10960175"
   ]
  },
  {
   "cell_type": "code",
   "execution_count": 295,
   "metadata": {},
   "outputs": [
    {
     "data": {
      "text/plain": [
       "['california-rim-fire',\n",
       " 'co-flood-extras',\n",
       " 'cold-springs-fire',\n",
       " 'cold-springs-landsat-scenes',\n",
       " 'cold-springs-modis-h4',\n",
       " 'colorado-flood',\n",
       " 'cs-test-landsat',\n",
       " 'cs-test-naip',\n",
       " 'ndvi-automation',\n",
       " 'spatial-vector-lidar',\n",
       " 'twitter-flood',\n",
       " 'vignette-elevation',\n",
       " 'vignette-landsat']"
      ]
     },
     "execution_count": 295,
     "metadata": {},
     "output_type": "execute_result"
    }
   ],
   "source": [
    "et.data.data_keys"
   ]
  },
  {
   "cell_type": "code",
   "execution_count": 301,
   "metadata": {},
   "outputs": [],
   "source": [
    "os.chdir('twitter-flood/')"
   ]
  },
  {
   "cell_type": "code",
   "execution_count": 304,
   "metadata": {
    "scrolled": true
   },
   "outputs": [
    {
     "name": "stdout",
     "output_type": "stream",
     "text": [
      "\u001b[1m\u001b[36mtwitter-flood\u001b[m\u001b[m\r\n"
     ]
    }
   ],
   "source": [
    "!ls"
   ]
  },
  {
   "cell_type": "code",
   "execution_count": 303,
   "metadata": {},
   "outputs": [],
   "source": [
    "os.chdir(os.path.join(et.io.HOME,'Data_Python','earth-analytics', 'data'))"
   ]
  },
  {
   "cell_type": "code",
   "execution_count": 291,
   "metadata": {},
   "outputs": [
    {
     "data": {
      "text/plain": [
       "'/Users/adarshkumar/Data_Python/earth-analytics/data'"
      ]
     },
     "execution_count": 291,
     "metadata": {},
     "output_type": "execute_result"
    }
   ],
   "source": [
    "#os.chdir()change directory\n",
    "#os.path.join() joins path names separated /\n",
    "#et.io.HOME?\n",
    "os.path.join(et.io.HOME,'Data_Python', 'earth-analytics', 'data')"
   ]
  },
  {
   "cell_type": "code",
   "execution_count": null,
   "metadata": {},
   "outputs": [],
   "source": []
  }
 ],
 "metadata": {
  "kernelspec": {
   "display_name": "Python 3",
   "language": "python",
   "name": "python3"
  },
  "language_info": {
   "codemirror_mode": {
    "name": "ipython",
    "version": 3
   },
   "file_extension": ".py",
   "mimetype": "text/x-python",
   "name": "python",
   "nbconvert_exporter": "python",
   "pygments_lexer": "ipython3",
   "version": "3.7.7"
  }
 },
 "nbformat": 4,
 "nbformat_minor": 4
}
